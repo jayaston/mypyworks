{
 "cells": [
  {
   "cell_type": "markdown",
   "metadata": {},
   "source": [
    "1.从报表自动取数"
   ]
  },
  {
   "cell_type": "code",
   "execution_count": null,
   "metadata": {},
   "outputs": [],
   "source": [
    "import sys\n",
    "sys.path.append(r'./StatLedger/module')\n",
    "from hangyebiaototjfx import dir_data\n",
    "import tjfxdata as tjfx\n",
    "import pandas as pd\n",
    "from printtable import print_table\n",
    "\n",
    "pd.set_option('display.width',1000)\n",
    "#pd.set_option('display.max_colwidth',200)\n",
    "#from prettyprinter import cpprint\n",
    "result = dir_data(r'./行业表')\n",
    "result_df = pd.DataFrame.from_records(result,columns=['指标编号','月份','日期','数值','忽略1','单位编号','忽略2','忽略3','指标类型 '])\n",
    "quotatable = tjfx.TjfxData().get_all_quota()\n",
    "depttable = tjfx.TjfxData().get_all_dept()\n",
    "result_df = pd.merge(result_df,quotatable,how = 'left',left_on='指标编号',right_on='QUOTA_CODE')\n",
    "result_df = pd.merge(result_df,depttable,how = 'left',left_on='单位编号',right_on='GROUP_CODE')\n",
    "result_df = result_df[['月份','GROUP_NAME','单位编号','QUOTA_NAME','指标编号','数值']]\n",
    "print(\"=============================================\")\n",
    "print(\"重复数据如下：\")\n",
    "print(result_df[result_df.duplicated([\"月份\",\"单位编号\",\"指标编号\"],keep=False)])\n",
    "print(\"=============================================\")\n",
    "print(\"全部数据如下：\")\n",
    "print_table(result_df)"
   ]
  },
  {
   "cell_type": "markdown",
   "metadata": {},
   "source": [
    "2.确认数据无误后导入数据库"
   ]
  },
  {
   "cell_type": "code",
   "execution_count": null,
   "metadata": {},
   "outputs": [],
   "source": [
    "tjfx.TjfxData().importdata(result)"
   ]
  }
 ],
 "metadata": {
  "kernelspec": {
   "display_name": "Python 3",
   "language": "python",
   "name": "python3"
  },
  "language_info": {
   "codemirror_mode": {
    "name": "ipython",
    "version": 3
   },
   "file_extension": ".py",
   "mimetype": "text/x-python",
   "name": "python",
   "nbconvert_exporter": "python",
   "pygments_lexer": "ipython3",
   "version": "3.7.4"
  },
  "toc": {
   "base_numbering": 1,
   "nav_menu": {},
   "number_sections": true,
   "sideBar": true,
   "skip_h1_title": false,
   "title_cell": "Table of Contents",
   "title_sidebar": "Contents",
   "toc_cell": false,
   "toc_position": {},
   "toc_section_display": true,
   "toc_window_display": false
  }
 },
 "nbformat": 4,
 "nbformat_minor": 2
}
