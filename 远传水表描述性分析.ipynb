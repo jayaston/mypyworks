{
 "cells": [
  {
   "cell_type": "markdown",
   "metadata": {},
   "source": [
    "**提取数据**"
   ]
  },
  {
   "cell_type": "code",
   "execution_count": 88,
   "metadata": {},
   "outputs": [],
   "source": [
    "%matplotlib inline\n",
    "import matplotlib as mpl\n",
    "mpl.rcParams['font.sans-serif'] = ['SimHei']  # 用来正常显示中文标签\n",
    "mpl.rcParams['axes.unicode_minus'] = False # 用来正常显示负号\n",
    "import matplotlib.pyplot as plt\n",
    "import pandas as pd\n",
    "\n",
    "# large_metre_2019 = pd.read_excel(r'.\\自来水数据\\远传表原始数据\\远传系统2019年大口径智能表水量（1月1日至2月25日）.xlsx')\n",
    "# smart_metre_2019 = pd.read_excel(r'.\\自来水数据\\远传表原始数据\\远传系统2019年小口径智能表水量（1月1日至2月24日）.xlsx')"
   ]
  },
  {
   "cell_type": "code",
   "execution_count": 24,
   "metadata": {},
   "outputs": [],
   "source": [
    "large_metre_2020 = pd.read_excel(r'.\\自来水数据\\远传表原始数据\\远传系统2020年大口径智能表水量（1月1日至2月25日）.xlsx')\n",
    "smart_metre_2020 = pd.read_excel(r'.\\自来水数据\\远传表原始数据\\远传系统2020年小口径智能表水量（1月1日至2月24日）.xlsx')"
   ]
  },
  {
   "cell_type": "code",
   "execution_count": 25,
   "metadata": {},
   "outputs": [
    {
     "data": {
      "text/html": [
       "<div>\n",
       "<style scoped>\n",
       "    .dataframe tbody tr th:only-of-type {\n",
       "        vertical-align: middle;\n",
       "    }\n",
       "\n",
       "    .dataframe tbody tr th {\n",
       "        vertical-align: top;\n",
       "    }\n",
       "\n",
       "    .dataframe thead th {\n",
       "        text-align: right;\n",
       "    }\n",
       "</style>\n",
       "<table border=\"1\" class=\"dataframe\">\n",
       "  <thead>\n",
       "    <tr style=\"text-align: right;\">\n",
       "      <th></th>\n",
       "      <th>远传ID</th>\n",
       "      <th>数据编号</th>\n",
       "      <th>区册号</th>\n",
       "      <th>用户编号</th>\n",
       "      <th>用户名称</th>\n",
       "      <th>用途</th>\n",
       "      <th>性质</th>\n",
       "      <th>口径</th>\n",
       "      <th>数据编号.1</th>\n",
       "      <th>2020-01-01</th>\n",
       "      <th>...</th>\n",
       "      <th>2020-02-16</th>\n",
       "      <th>2020-02-17</th>\n",
       "      <th>2020-02-18</th>\n",
       "      <th>2020-02-19</th>\n",
       "      <th>2020-02-20</th>\n",
       "      <th>2020-02-21</th>\n",
       "      <th>2020-02-22</th>\n",
       "      <th>2020-02-23</th>\n",
       "      <th>2020-02-24</th>\n",
       "      <th>合计</th>\n",
       "    </tr>\n",
       "  </thead>\n",
       "  <tbody>\n",
       "    <tr>\n",
       "      <th>0</th>\n",
       "      <td>51280.0</td>\n",
       "      <td>9.000513e+11</td>\n",
       "      <td>加急</td>\n",
       "      <td>'0006297552</td>\n",
       "      <td>增城市新塘镇南埔村民委员会0006297552</td>\n",
       "      <td>NaN</td>\n",
       "      <td>NaN</td>\n",
       "      <td>200</td>\n",
       "      <td>9.000513e+11</td>\n",
       "      <td>0.000000</td>\n",
       "      <td>...</td>\n",
       "      <td>0.0</td>\n",
       "      <td>0.0</td>\n",
       "      <td>0.000000</td>\n",
       "      <td>393.000000</td>\n",
       "      <td>395.0</td>\n",
       "      <td>0.0</td>\n",
       "      <td>0.0</td>\n",
       "      <td>0.000000</td>\n",
       "      <td>0.000000</td>\n",
       "      <td>1637.000000</td>\n",
       "    </tr>\n",
       "    <tr>\n",
       "      <th>1</th>\n",
       "      <td>51281.0</td>\n",
       "      <td>9.000513e+11</td>\n",
       "      <td>加急</td>\n",
       "      <td>'0006292599</td>\n",
       "      <td>增城市新塘水南村0006292599</td>\n",
       "      <td>NaN</td>\n",
       "      <td>NaN</td>\n",
       "      <td>NaN</td>\n",
       "      <td>9.000513e+11</td>\n",
       "      <td>0.000000</td>\n",
       "      <td>...</td>\n",
       "      <td>0.0</td>\n",
       "      <td>0.0</td>\n",
       "      <td>0.000000</td>\n",
       "      <td>0.000000</td>\n",
       "      <td>0.0</td>\n",
       "      <td>0.0</td>\n",
       "      <td>0.0</td>\n",
       "      <td>0.000000</td>\n",
       "      <td>0.000000</td>\n",
       "      <td>0.000000</td>\n",
       "    </tr>\n",
       "    <tr>\n",
       "      <th>2</th>\n",
       "      <td>51282.0</td>\n",
       "      <td>9.000513e+11</td>\n",
       "      <td>加急</td>\n",
       "      <td>'0006290144</td>\n",
       "      <td>沦联大队0006290144</td>\n",
       "      <td>NaN</td>\n",
       "      <td>NaN</td>\n",
       "      <td>NaN</td>\n",
       "      <td>9.000513e+11</td>\n",
       "      <td>30.000000</td>\n",
       "      <td>...</td>\n",
       "      <td>22.0</td>\n",
       "      <td>34.0</td>\n",
       "      <td>37.000000</td>\n",
       "      <td>37.000000</td>\n",
       "      <td>37.0</td>\n",
       "      <td>37.0</td>\n",
       "      <td>35.0</td>\n",
       "      <td>30.000000</td>\n",
       "      <td>38.000000</td>\n",
       "      <td>1673.000000</td>\n",
       "    </tr>\n",
       "    <tr>\n",
       "      <th>3</th>\n",
       "      <td>91840183.0</td>\n",
       "      <td>9.918402e+11</td>\n",
       "      <td>汇侨新城?</td>\n",
       "      <td>'0004954907</td>\n",
       "      <td>侨鑫集团有限公司0004954907</td>\n",
       "      <td>NaN</td>\n",
       "      <td>NaN</td>\n",
       "      <td>100</td>\n",
       "      <td>9.918402e+11</td>\n",
       "      <td>85.300000</td>\n",
       "      <td>...</td>\n",
       "      <td>64.7</td>\n",
       "      <td>66.3</td>\n",
       "      <td>65.399999</td>\n",
       "      <td>65.300001</td>\n",
       "      <td>64.4</td>\n",
       "      <td>69.4</td>\n",
       "      <td>70.0</td>\n",
       "      <td>70.899999</td>\n",
       "      <td>68.100001</td>\n",
       "      <td>3515.200000</td>\n",
       "    </tr>\n",
       "    <tr>\n",
       "      <th>4</th>\n",
       "      <td>50026.0</td>\n",
       "      <td>9.995003e+11</td>\n",
       "      <td>83206002</td>\n",
       "      <td>'0005746734</td>\n",
       "      <td>市解困办公室0005746734</td>\n",
       "      <td>计量不计费</td>\n",
       "      <td>NaN</td>\n",
       "      <td>50</td>\n",
       "      <td>9.995003e+11</td>\n",
       "      <td>22.600001</td>\n",
       "      <td>...</td>\n",
       "      <td>26.1</td>\n",
       "      <td>25.7</td>\n",
       "      <td>25.000000</td>\n",
       "      <td>25.000000</td>\n",
       "      <td>24.4</td>\n",
       "      <td>29.7</td>\n",
       "      <td>25.2</td>\n",
       "      <td>29.900000</td>\n",
       "      <td>25.600000</td>\n",
       "      <td>1216.800002</td>\n",
       "    </tr>\n",
       "  </tbody>\n",
       "</table>\n",
       "<p>5 rows × 65 columns</p>\n",
       "</div>"
      ],
      "text/plain": [
       "         远传ID          数据编号       区册号         用户编号                     用户名称  \\\n",
       "0     51280.0  9.000513e+11        加急  '0006297552  增城市新塘镇南埔村民委员会0006297552   \n",
       "1     51281.0  9.000513e+11        加急  '0006292599       增城市新塘水南村0006292599   \n",
       "2     51282.0  9.000513e+11        加急  '0006290144           沦联大队0006290144   \n",
       "3  91840183.0  9.918402e+11     汇侨新城?  '0004954907       侨鑫集团有限公司0004954907   \n",
       "4     50026.0  9.995003e+11  83206002  '0005746734         市解困办公室0005746734   \n",
       "\n",
       "      用途   性质   口径        数据编号.1  2020-01-01  ...  2020-02-16  2020-02-17  \\\n",
       "0    NaN  NaN  200  9.000513e+11    0.000000  ...         0.0         0.0   \n",
       "1    NaN  NaN  NaN  9.000513e+11    0.000000  ...         0.0         0.0   \n",
       "2    NaN  NaN  NaN  9.000513e+11   30.000000  ...        22.0        34.0   \n",
       "3    NaN  NaN  100  9.918402e+11   85.300000  ...        64.7        66.3   \n",
       "4  计量不计费  NaN   50  9.995003e+11   22.600001  ...        26.1        25.7   \n",
       "\n",
       "   2020-02-18  2020-02-19  2020-02-20  2020-02-21  2020-02-22  2020-02-23  \\\n",
       "0    0.000000  393.000000       395.0         0.0         0.0    0.000000   \n",
       "1    0.000000    0.000000         0.0         0.0         0.0    0.000000   \n",
       "2   37.000000   37.000000        37.0        37.0        35.0   30.000000   \n",
       "3   65.399999   65.300001        64.4        69.4        70.0   70.899999   \n",
       "4   25.000000   25.000000        24.4        29.7        25.2   29.900000   \n",
       "\n",
       "   2020-02-24           合计  \n",
       "0    0.000000  1637.000000  \n",
       "1    0.000000     0.000000  \n",
       "2   38.000000  1673.000000  \n",
       "3   68.100001  3515.200000  \n",
       "4   25.600000  1216.800002  \n",
       "\n",
       "[5 rows x 65 columns]"
      ]
     },
     "execution_count": 25,
     "metadata": {},
     "output_type": "execute_result"
    }
   ],
   "source": [
    "large_metre_2020.head()"
   ]
  },
  {
   "cell_type": "code",
   "execution_count": 26,
   "metadata": {},
   "outputs": [
    {
     "data": {
      "text/html": [
       "<div>\n",
       "<style scoped>\n",
       "    .dataframe tbody tr th:only-of-type {\n",
       "        vertical-align: middle;\n",
       "    }\n",
       "\n",
       "    .dataframe tbody tr th {\n",
       "        vertical-align: top;\n",
       "    }\n",
       "\n",
       "    .dataframe thead th {\n",
       "        text-align: right;\n",
       "    }\n",
       "</style>\n",
       "<table border=\"1\" class=\"dataframe\">\n",
       "  <thead>\n",
       "    <tr style=\"text-align: right;\">\n",
       "      <th></th>\n",
       "      <th>远传ID</th>\n",
       "      <th>数据编号</th>\n",
       "      <th>区册号</th>\n",
       "      <th>用户编号</th>\n",
       "      <th>用户名称</th>\n",
       "      <th>用途</th>\n",
       "      <th>性质</th>\n",
       "      <th>口径</th>\n",
       "      <th>用户地址</th>\n",
       "      <th>数据编号.1</th>\n",
       "      <th>...</th>\n",
       "      <th>2020-02-16</th>\n",
       "      <th>2020-02-17</th>\n",
       "      <th>2020-02-18</th>\n",
       "      <th>2020-02-19</th>\n",
       "      <th>2020-02-20</th>\n",
       "      <th>2020-02-21</th>\n",
       "      <th>2020-02-22</th>\n",
       "      <th>2020-02-23</th>\n",
       "      <th>2020-02-24</th>\n",
       "      <th>合计</th>\n",
       "    </tr>\n",
       "  </thead>\n",
       "  <tbody>\n",
       "    <tr>\n",
       "      <th>0</th>\n",
       "      <td>16180908.0</td>\n",
       "      <td>1.625901e+09</td>\n",
       "      <td>'085519001</td>\n",
       "      <td>'0012345856</td>\n",
       "      <td>左正0012345856</td>\n",
       "      <td>NaN</td>\n",
       "      <td>[阶梯]居民生活用水净水</td>\n",
       "      <td>25.0</td>\n",
       "      <td>华明路43号1802房</td>\n",
       "      <td>1.625901e+09</td>\n",
       "      <td>...</td>\n",
       "      <td>0.149400</td>\n",
       "      <td>0.305900</td>\n",
       "      <td>0.228100</td>\n",
       "      <td>0.065200</td>\n",
       "      <td>0.100899</td>\n",
       "      <td>0.196300</td>\n",
       "      <td>NaN</td>\n",
       "      <td>NaN</td>\n",
       "      <td>NaN</td>\n",
       "      <td>5.696398</td>\n",
       "    </tr>\n",
       "    <tr>\n",
       "      <th>1</th>\n",
       "      <td>16180908.0</td>\n",
       "      <td>1.625901e+09</td>\n",
       "      <td>'085519001</td>\n",
       "      <td>'0012351145</td>\n",
       "      <td>邹晶晶0012351145</td>\n",
       "      <td>NaN</td>\n",
       "      <td>[阶梯]居民生活用水净水</td>\n",
       "      <td>25.0</td>\n",
       "      <td>华明路43号2602房</td>\n",
       "      <td>1.625901e+09</td>\n",
       "      <td>...</td>\n",
       "      <td>1.205000</td>\n",
       "      <td>0.300800</td>\n",
       "      <td>0.176700</td>\n",
       "      <td>0.179099</td>\n",
       "      <td>0.308400</td>\n",
       "      <td>0.126700</td>\n",
       "      <td>NaN</td>\n",
       "      <td>NaN</td>\n",
       "      <td>NaN</td>\n",
       "      <td>10.944600</td>\n",
       "    </tr>\n",
       "    <tr>\n",
       "      <th>2</th>\n",
       "      <td>16180908.0</td>\n",
       "      <td>1.625901e+09</td>\n",
       "      <td>'085519001</td>\n",
       "      <td>'0012351262</td>\n",
       "      <td>朱芹香0012351262</td>\n",
       "      <td>NaN</td>\n",
       "      <td>[阶梯]居民生活用水净水</td>\n",
       "      <td>25.0</td>\n",
       "      <td>华明路43号2701房</td>\n",
       "      <td>1.625901e+09</td>\n",
       "      <td>...</td>\n",
       "      <td>0.013300</td>\n",
       "      <td>0.014601</td>\n",
       "      <td>0.010200</td>\n",
       "      <td>0.018299</td>\n",
       "      <td>0.012400</td>\n",
       "      <td>0.012500</td>\n",
       "      <td>NaN</td>\n",
       "      <td>NaN</td>\n",
       "      <td>NaN</td>\n",
       "      <td>3.274200</td>\n",
       "    </tr>\n",
       "    <tr>\n",
       "      <th>3</th>\n",
       "      <td>16180908.0</td>\n",
       "      <td>1.625901e+09</td>\n",
       "      <td>'085519001</td>\n",
       "      <td>'0012345449</td>\n",
       "      <td>朱江波0012345449</td>\n",
       "      <td>NaN</td>\n",
       "      <td>[阶梯]居民生活用水净水</td>\n",
       "      <td>25.0</td>\n",
       "      <td>华明路43号1801房</td>\n",
       "      <td>1.625901e+09</td>\n",
       "      <td>...</td>\n",
       "      <td>0.471800</td>\n",
       "      <td>0.526999</td>\n",
       "      <td>0.602401</td>\n",
       "      <td>0.554099</td>\n",
       "      <td>0.516300</td>\n",
       "      <td>0.263301</td>\n",
       "      <td>NaN</td>\n",
       "      <td>NaN</td>\n",
       "      <td>NaN</td>\n",
       "      <td>14.577801</td>\n",
       "    </tr>\n",
       "    <tr>\n",
       "      <th>4</th>\n",
       "      <td>16080908.0</td>\n",
       "      <td>1.625901e+09</td>\n",
       "      <td>'085519001</td>\n",
       "      <td>'0012349409</td>\n",
       "      <td>钟似璇0012349409</td>\n",
       "      <td>NaN</td>\n",
       "      <td>[阶梯]居民生活用水净水</td>\n",
       "      <td>25.0</td>\n",
       "      <td>华明路43号0703房</td>\n",
       "      <td>1.625901e+09</td>\n",
       "      <td>...</td>\n",
       "      <td>0.002301</td>\n",
       "      <td>0.003000</td>\n",
       "      <td>0.002800</td>\n",
       "      <td>0.002100</td>\n",
       "      <td>0.002000</td>\n",
       "      <td>0.002200</td>\n",
       "      <td>NaN</td>\n",
       "      <td>NaN</td>\n",
       "      <td>0.001199</td>\n",
       "      <td>7.917801</td>\n",
       "    </tr>\n",
       "  </tbody>\n",
       "</table>\n",
       "<p>5 rows × 66 columns</p>\n",
       "</div>"
      ],
      "text/plain": [
       "         远传ID          数据编号         区册号         用户编号           用户名称   用途  \\\n",
       "0  16180908.0  1.625901e+09  '085519001  '0012345856   左正0012345856  NaN   \n",
       "1  16180908.0  1.625901e+09  '085519001  '0012351145  邹晶晶0012351145  NaN   \n",
       "2  16180908.0  1.625901e+09  '085519001  '0012351262  朱芹香0012351262  NaN   \n",
       "3  16180908.0  1.625901e+09  '085519001  '0012345449  朱江波0012345449  NaN   \n",
       "4  16080908.0  1.625901e+09  '085519001  '0012349409  钟似璇0012349409  NaN   \n",
       "\n",
       "             性质    口径         用户地址        数据编号.1  ...  2020-02-16  2020-02-17  \\\n",
       "0  [阶梯]居民生活用水净水  25.0  华明路43号1802房  1.625901e+09  ...    0.149400    0.305900   \n",
       "1  [阶梯]居民生活用水净水  25.0  华明路43号2602房  1.625901e+09  ...    1.205000    0.300800   \n",
       "2  [阶梯]居民生活用水净水  25.0  华明路43号2701房  1.625901e+09  ...    0.013300    0.014601   \n",
       "3  [阶梯]居民生活用水净水  25.0  华明路43号1801房  1.625901e+09  ...    0.471800    0.526999   \n",
       "4  [阶梯]居民生活用水净水  25.0  华明路43号0703房  1.625901e+09  ...    0.002301    0.003000   \n",
       "\n",
       "   2020-02-18  2020-02-19  2020-02-20  2020-02-21  2020-02-22  2020-02-23  \\\n",
       "0    0.228100    0.065200    0.100899    0.196300         NaN         NaN   \n",
       "1    0.176700    0.179099    0.308400    0.126700         NaN         NaN   \n",
       "2    0.010200    0.018299    0.012400    0.012500         NaN         NaN   \n",
       "3    0.602401    0.554099    0.516300    0.263301         NaN         NaN   \n",
       "4    0.002800    0.002100    0.002000    0.002200         NaN         NaN   \n",
       "\n",
       "   2020-02-24         合计  \n",
       "0         NaN   5.696398  \n",
       "1         NaN  10.944600  \n",
       "2         NaN   3.274200  \n",
       "3         NaN  14.577801  \n",
       "4    0.001199   7.917801  \n",
       "\n",
       "[5 rows x 66 columns]"
      ]
     },
     "execution_count": 26,
     "metadata": {},
     "output_type": "execute_result"
    }
   ],
   "source": [
    "smart_metre_2020.head()"
   ]
  },
  {
   "cell_type": "code",
   "execution_count": 27,
   "metadata": {},
   "outputs": [],
   "source": [
    "large_metre_list = pd.read_csv(r'./自来水数据/远传表原始数据/营抄系统的大表清单卢部提取remote_meter_user_info_20200213_202002171625.csv',encoding = 'gbk')\n",
    "smart_metre_list = pd.read_csv(r'./自来水数据/远传表原始数据/营抄系统的小表清单卢部提取smart_meter_user_info_20200213_202002171625.csv',encoding = 'gb18030')"
   ]
  },
  {
   "cell_type": "code",
   "execution_count": 6,
   "metadata": {},
   "outputs": [
    {
     "data": {
      "text/html": [
       "<div>\n",
       "<style scoped>\n",
       "    .dataframe tbody tr th:only-of-type {\n",
       "        vertical-align: middle;\n",
       "    }\n",
       "\n",
       "    .dataframe tbody tr th {\n",
       "        vertical-align: top;\n",
       "    }\n",
       "\n",
       "    .dataframe thead th {\n",
       "        text-align: right;\n",
       "    }\n",
       "</style>\n",
       "<table border=\"1\" class=\"dataframe\">\n",
       "  <thead>\n",
       "    <tr style=\"text-align: right;\">\n",
       "      <th></th>\n",
       "      <th>Unnamed: 0</th>\n",
       "      <th>user_no</th>\n",
       "      <th>user_name</th>\n",
       "      <th>mr_sect_no</th>\n",
       "      <th>trade_sort</th>\n",
       "      <th>use_type_code</th>\n",
       "      <th>meter_calibre</th>\n",
       "      <th>user_ms_type</th>\n",
       "    </tr>\n",
       "  </thead>\n",
       "  <tbody>\n",
       "    <tr>\n",
       "      <th>0</th>\n",
       "      <td>6610803</td>\n",
       "      <td>6610803</td>\n",
       "      <td>广州合景房地产开发有限公司</td>\n",
       "      <td>2058032010</td>\n",
       "      <td>公共消防</td>\n",
       "      <td>消防环卫绿化</td>\n",
       "      <td>100.0</td>\n",
       "      <td>计费</td>\n",
       "    </tr>\n",
       "    <tr>\n",
       "      <th>1</th>\n",
       "      <td>9830341</td>\n",
       "      <td>9830341</td>\n",
       "      <td>水沥村委会</td>\n",
       "      <td>4027012010</td>\n",
       "      <td>农村/城中村总表民用</td>\n",
       "      <td>居民生活</td>\n",
       "      <td>100.0</td>\n",
       "      <td>计费</td>\n",
       "    </tr>\n",
       "    <tr>\n",
       "      <th>2</th>\n",
       "      <td>289186</td>\n",
       "      <td>289186</td>\n",
       "      <td>广州市荔湾区詹天佑小学</td>\n",
       "      <td>1063062010</td>\n",
       "      <td>学校用水</td>\n",
       "      <td>学校用水</td>\n",
       "      <td>100.0</td>\n",
       "      <td>计费</td>\n",
       "    </tr>\n",
       "    <tr>\n",
       "      <th>3</th>\n",
       "      <td>6610799</td>\n",
       "      <td>6610799</td>\n",
       "      <td>广州合景房地产开发有限公司</td>\n",
       "      <td>2058032010</td>\n",
       "      <td>公共绿化</td>\n",
       "      <td>消防环卫绿化</td>\n",
       "      <td>100.0</td>\n",
       "      <td>计费</td>\n",
       "    </tr>\n",
       "    <tr>\n",
       "      <th>4</th>\n",
       "      <td>6935102</td>\n",
       "      <td>6935102</td>\n",
       "      <td>东山钢瓶厂</td>\n",
       "      <td>1061112010</td>\n",
       "      <td>混合商业</td>\n",
       "      <td>经营服务用水</td>\n",
       "      <td>NaN</td>\n",
       "      <td>计费</td>\n",
       "    </tr>\n",
       "  </tbody>\n",
       "</table>\n",
       "</div>"
      ],
      "text/plain": [
       "   Unnamed: 0  user_no      user_name  mr_sect_no  trade_sort use_type_code  \\\n",
       "0     6610803  6610803  广州合景房地产开发有限公司  2058032010        公共消防        消防环卫绿化   \n",
       "1     9830341  9830341          水沥村委会  4027012010  农村/城中村总表民用          居民生活   \n",
       "2      289186   289186    广州市荔湾区詹天佑小学  1063062010        学校用水          学校用水   \n",
       "3     6610799  6610799  广州合景房地产开发有限公司  2058032010        公共绿化        消防环卫绿化   \n",
       "4     6935102  6935102          东山钢瓶厂  1061112010        混合商业        经营服务用水   \n",
       "\n",
       "   meter_calibre user_ms_type  \n",
       "0          100.0           计费  \n",
       "1          100.0           计费  \n",
       "2          100.0           计费  \n",
       "3          100.0           计费  \n",
       "4            NaN           计费  "
      ]
     },
     "execution_count": 6,
     "metadata": {},
     "output_type": "execute_result"
    }
   ],
   "source": [
    "large_metre_list.head()"
   ]
  },
  {
   "cell_type": "code",
   "execution_count": 7,
   "metadata": {},
   "outputs": [
    {
     "data": {
      "text/html": [
       "<div>\n",
       "<style scoped>\n",
       "    .dataframe tbody tr th:only-of-type {\n",
       "        vertical-align: middle;\n",
       "    }\n",
       "\n",
       "    .dataframe tbody tr th {\n",
       "        vertical-align: top;\n",
       "    }\n",
       "\n",
       "    .dataframe thead th {\n",
       "        text-align: right;\n",
       "    }\n",
       "</style>\n",
       "<table border=\"1\" class=\"dataframe\">\n",
       "  <thead>\n",
       "    <tr style=\"text-align: right;\">\n",
       "      <th></th>\n",
       "      <th>user_no</th>\n",
       "      <th>user_no.1</th>\n",
       "      <th>user_name</th>\n",
       "      <th>mr_sect_no</th>\n",
       "      <th>trade_sort</th>\n",
       "      <th>use_type_code</th>\n",
       "      <th>meter_calibre</th>\n",
       "      <th>user_ms_type</th>\n",
       "    </tr>\n",
       "  </thead>\n",
       "  <tbody>\n",
       "    <tr>\n",
       "      <th>0</th>\n",
       "      <td>6618924</td>\n",
       "      <td>6618924</td>\n",
       "      <td>陈皓维</td>\n",
       "      <td>1063290311</td>\n",
       "      <td>抄表到户居民家庭</td>\n",
       "      <td>居民生活</td>\n",
       "      <td>15.0</td>\n",
       "      <td>计费</td>\n",
       "    </tr>\n",
       "    <tr>\n",
       "      <th>1</th>\n",
       "      <td>6618937</td>\n",
       "      <td>6618937</td>\n",
       "      <td>梁美好</td>\n",
       "      <td>1063290311</td>\n",
       "      <td>抄表到户居民家庭</td>\n",
       "      <td>居民生活</td>\n",
       "      <td>15.0</td>\n",
       "      <td>计费</td>\n",
       "    </tr>\n",
       "    <tr>\n",
       "      <th>2</th>\n",
       "      <td>6619363</td>\n",
       "      <td>6619363</td>\n",
       "      <td>黄庆璋</td>\n",
       "      <td>1063290311</td>\n",
       "      <td>抄表到户居民家庭</td>\n",
       "      <td>居民生活</td>\n",
       "      <td>20.0</td>\n",
       "      <td>计费</td>\n",
       "    </tr>\n",
       "    <tr>\n",
       "      <th>3</th>\n",
       "      <td>1832932</td>\n",
       "      <td>1832932</td>\n",
       "      <td>曲雄生</td>\n",
       "      <td>1061110211</td>\n",
       "      <td>抄表到户居民家庭</td>\n",
       "      <td>居民生活</td>\n",
       "      <td>20.0</td>\n",
       "      <td>计费</td>\n",
       "    </tr>\n",
       "    <tr>\n",
       "      <th>4</th>\n",
       "      <td>1832945</td>\n",
       "      <td>1832945</td>\n",
       "      <td>陈志明</td>\n",
       "      <td>1061110211</td>\n",
       "      <td>抄表到户居民家庭</td>\n",
       "      <td>居民生活</td>\n",
       "      <td>20.0</td>\n",
       "      <td>计费</td>\n",
       "    </tr>\n",
       "  </tbody>\n",
       "</table>\n",
       "</div>"
      ],
      "text/plain": [
       "   user_no  user_no.1 user_name  mr_sect_no trade_sort use_type_code  \\\n",
       "0  6618924    6618924       陈皓维  1063290311   抄表到户居民家庭          居民生活   \n",
       "1  6618937    6618937       梁美好  1063290311   抄表到户居民家庭          居民生活   \n",
       "2  6619363    6619363       黄庆璋  1063290311   抄表到户居民家庭          居民生活   \n",
       "3  1832932    1832932       曲雄生  1061110211   抄表到户居民家庭          居民生活   \n",
       "4  1832945    1832945       陈志明  1061110211   抄表到户居民家庭          居民生活   \n",
       "\n",
       "   meter_calibre user_ms_type  \n",
       "0           15.0           计费  \n",
       "1           15.0           计费  \n",
       "2           20.0           计费  \n",
       "3           20.0           计费  \n",
       "4           20.0           计费  "
      ]
     },
     "execution_count": 7,
     "metadata": {},
     "output_type": "execute_result"
    }
   ],
   "source": [
    "smart_metre_list.head()"
   ]
  },
  {
   "cell_type": "markdown",
   "metadata": {},
   "source": [
    "**修正清单用户编号格式**"
   ]
  },
  {
   "cell_type": "code",
   "execution_count": 28,
   "metadata": {},
   "outputs": [],
   "source": [
    "large_metre_list['user_no'] = large_metre_list['user_no'].astype('str').str.pad(10,fillchar='0')\n",
    "smart_metre_list['user_no'] = smart_metre_list['user_no'].astype('str').str.pad(10,fillchar='0')"
   ]
  },
  {
   "cell_type": "code",
   "execution_count": 29,
   "metadata": {},
   "outputs": [
    {
     "name": "stdout",
     "output_type": "stream",
     "text": [
      "0       0006610803\n",
      "1       0009830341\n",
      "2       0000289186\n",
      "3       0006610799\n",
      "4       0006935102\n",
      "           ...    \n",
      "8592    0037354099\n",
      "8593    0036906042\n",
      "8594    0037217121\n",
      "8595    0037489104\n",
      "8596    0037490108\n",
      "Name: user_no, Length: 8597, dtype: object 0         0006618924\n",
      "1         0006618937\n",
      "2         0006619363\n",
      "3         0001832932\n",
      "4         0001832945\n",
      "             ...    \n",
      "129716    0032767416\n",
      "129717    0032769151\n",
      "129718    0032756698\n",
      "129719    0032759293\n",
      "129720    0035797092\n",
      "Name: user_no, Length: 129721, dtype: object\n"
     ]
    }
   ],
   "source": [
    "print(large_metre_list['user_no'],smart_metre_list['user_no'])"
   ]
  },
  {
   "cell_type": "markdown",
   "metadata": {},
   "source": [
    "**修正远传系统用户编号格式**"
   ]
  },
  {
   "cell_type": "code",
   "execution_count": 30,
   "metadata": {},
   "outputs": [],
   "source": [
    "import numpy as np\n"
   ]
  },
  {
   "cell_type": "code",
   "execution_count": 31,
   "metadata": {},
   "outputs": [],
   "source": [
    "# large_metre_2020['用户编号'] =  large_metre_2020['用户编号'].astype('int').astype('str').replace('0',np.nan).str.pad(10,fillchar='0')\n",
    "large_metre_2020['用户编号'] = large_metre_2020['用户编号'].str[1:].str.pad(10,fillchar='0')"
   ]
  },
  {
   "cell_type": "code",
   "execution_count": 32,
   "metadata": {},
   "outputs": [],
   "source": [
    "smart_metre_2020['用户编号'] = smart_metre_2020['用户编号'].str[1:].str.pad(10,fillchar='0')"
   ]
  },
  {
   "cell_type": "code",
   "execution_count": 33,
   "metadata": {},
   "outputs": [],
   "source": [
    "large_metre_2020 = large_metre_2020 [:-1]\n",
    "smart_metre_2020 = smart_metre_2020 [:-1]"
   ]
  },
  {
   "cell_type": "code",
   "execution_count": 23,
   "metadata": {},
   "outputs": [
    {
     "data": {
      "text/html": [
       "<div>\n",
       "<style scoped>\n",
       "    .dataframe tbody tr th:only-of-type {\n",
       "        vertical-align: middle;\n",
       "    }\n",
       "\n",
       "    .dataframe tbody tr th {\n",
       "        vertical-align: top;\n",
       "    }\n",
       "\n",
       "    .dataframe thead th {\n",
       "        text-align: right;\n",
       "    }\n",
       "</style>\n",
       "<table border=\"1\" class=\"dataframe\">\n",
       "  <thead>\n",
       "    <tr style=\"text-align: right;\">\n",
       "      <th></th>\n",
       "      <th>远传ID</th>\n",
       "      <th>数据编号</th>\n",
       "      <th>区册号</th>\n",
       "      <th>用户编号</th>\n",
       "      <th>用户名称</th>\n",
       "      <th>用途</th>\n",
       "      <th>性质</th>\n",
       "      <th>口径</th>\n",
       "      <th>用户地址</th>\n",
       "      <th>数据编号.1</th>\n",
       "      <th>...</th>\n",
       "      <th>2020-02-16</th>\n",
       "      <th>2020-02-17</th>\n",
       "      <th>2020-02-18</th>\n",
       "      <th>2020-02-19</th>\n",
       "      <th>2020-02-20</th>\n",
       "      <th>2020-02-21</th>\n",
       "      <th>2020-02-22</th>\n",
       "      <th>2020-02-23</th>\n",
       "      <th>2020-02-24</th>\n",
       "      <th>合计</th>\n",
       "    </tr>\n",
       "  </thead>\n",
       "  <tbody>\n",
       "    <tr>\n",
       "      <th>0</th>\n",
       "      <td>16180908.0</td>\n",
       "      <td>1.625901e+09</td>\n",
       "      <td>'085519001</td>\n",
       "      <td>0012345856</td>\n",
       "      <td>左正0012345856</td>\n",
       "      <td>NaN</td>\n",
       "      <td>[阶梯]居民生活用水净水</td>\n",
       "      <td>25.0</td>\n",
       "      <td>华明路43号1802房</td>\n",
       "      <td>1.625901e+09</td>\n",
       "      <td>...</td>\n",
       "      <td>0.149400</td>\n",
       "      <td>0.305900</td>\n",
       "      <td>0.228100</td>\n",
       "      <td>0.065200</td>\n",
       "      <td>0.100899</td>\n",
       "      <td>0.196300</td>\n",
       "      <td>NaN</td>\n",
       "      <td>NaN</td>\n",
       "      <td>NaN</td>\n",
       "      <td>5.696398</td>\n",
       "    </tr>\n",
       "    <tr>\n",
       "      <th>1</th>\n",
       "      <td>16180908.0</td>\n",
       "      <td>1.625901e+09</td>\n",
       "      <td>'085519001</td>\n",
       "      <td>0012351145</td>\n",
       "      <td>邹晶晶0012351145</td>\n",
       "      <td>NaN</td>\n",
       "      <td>[阶梯]居民生活用水净水</td>\n",
       "      <td>25.0</td>\n",
       "      <td>华明路43号2602房</td>\n",
       "      <td>1.625901e+09</td>\n",
       "      <td>...</td>\n",
       "      <td>1.205000</td>\n",
       "      <td>0.300800</td>\n",
       "      <td>0.176700</td>\n",
       "      <td>0.179099</td>\n",
       "      <td>0.308400</td>\n",
       "      <td>0.126700</td>\n",
       "      <td>NaN</td>\n",
       "      <td>NaN</td>\n",
       "      <td>NaN</td>\n",
       "      <td>10.944600</td>\n",
       "    </tr>\n",
       "    <tr>\n",
       "      <th>2</th>\n",
       "      <td>16180908.0</td>\n",
       "      <td>1.625901e+09</td>\n",
       "      <td>'085519001</td>\n",
       "      <td>0012351262</td>\n",
       "      <td>朱芹香0012351262</td>\n",
       "      <td>NaN</td>\n",
       "      <td>[阶梯]居民生活用水净水</td>\n",
       "      <td>25.0</td>\n",
       "      <td>华明路43号2701房</td>\n",
       "      <td>1.625901e+09</td>\n",
       "      <td>...</td>\n",
       "      <td>0.013300</td>\n",
       "      <td>0.014601</td>\n",
       "      <td>0.010200</td>\n",
       "      <td>0.018299</td>\n",
       "      <td>0.012400</td>\n",
       "      <td>0.012500</td>\n",
       "      <td>NaN</td>\n",
       "      <td>NaN</td>\n",
       "      <td>NaN</td>\n",
       "      <td>3.274200</td>\n",
       "    </tr>\n",
       "    <tr>\n",
       "      <th>3</th>\n",
       "      <td>16180908.0</td>\n",
       "      <td>1.625901e+09</td>\n",
       "      <td>'085519001</td>\n",
       "      <td>0012345449</td>\n",
       "      <td>朱江波0012345449</td>\n",
       "      <td>NaN</td>\n",
       "      <td>[阶梯]居民生活用水净水</td>\n",
       "      <td>25.0</td>\n",
       "      <td>华明路43号1801房</td>\n",
       "      <td>1.625901e+09</td>\n",
       "      <td>...</td>\n",
       "      <td>0.471800</td>\n",
       "      <td>0.526999</td>\n",
       "      <td>0.602401</td>\n",
       "      <td>0.554099</td>\n",
       "      <td>0.516300</td>\n",
       "      <td>0.263301</td>\n",
       "      <td>NaN</td>\n",
       "      <td>NaN</td>\n",
       "      <td>NaN</td>\n",
       "      <td>14.577801</td>\n",
       "    </tr>\n",
       "    <tr>\n",
       "      <th>4</th>\n",
       "      <td>16080908.0</td>\n",
       "      <td>1.625901e+09</td>\n",
       "      <td>'085519001</td>\n",
       "      <td>0012349409</td>\n",
       "      <td>钟似璇0012349409</td>\n",
       "      <td>NaN</td>\n",
       "      <td>[阶梯]居民生活用水净水</td>\n",
       "      <td>25.0</td>\n",
       "      <td>华明路43号0703房</td>\n",
       "      <td>1.625901e+09</td>\n",
       "      <td>...</td>\n",
       "      <td>0.002301</td>\n",
       "      <td>0.003000</td>\n",
       "      <td>0.002800</td>\n",
       "      <td>0.002100</td>\n",
       "      <td>0.002000</td>\n",
       "      <td>0.002200</td>\n",
       "      <td>NaN</td>\n",
       "      <td>NaN</td>\n",
       "      <td>0.001199</td>\n",
       "      <td>7.917801</td>\n",
       "    </tr>\n",
       "    <tr>\n",
       "      <th>...</th>\n",
       "      <td>...</td>\n",
       "      <td>...</td>\n",
       "      <td>...</td>\n",
       "      <td>...</td>\n",
       "      <td>...</td>\n",
       "      <td>...</td>\n",
       "      <td>...</td>\n",
       "      <td>...</td>\n",
       "      <td>...</td>\n",
       "      <td>...</td>\n",
       "      <td>...</td>\n",
       "      <td>...</td>\n",
       "      <td>...</td>\n",
       "      <td>...</td>\n",
       "      <td>...</td>\n",
       "      <td>...</td>\n",
       "      <td>...</td>\n",
       "      <td>...</td>\n",
       "      <td>...</td>\n",
       "      <td>...</td>\n",
       "      <td>...</td>\n",
       "    </tr>\n",
       "    <tr>\n",
       "      <th>117350</th>\n",
       "      <td>16030103.0</td>\n",
       "      <td>1.620609e+09</td>\n",
       "      <td>'010102001</td>\n",
       "      <td>0027311905</td>\n",
       "      <td>1201</td>\n",
       "      <td>NaN</td>\n",
       "      <td>[阶梯]居民生活用水净水</td>\n",
       "      <td>20.0</td>\n",
       "      <td>广东省广州市白云区白云区东兴二街5号1201</td>\n",
       "      <td>1.620609e+09</td>\n",
       "      <td>...</td>\n",
       "      <td>0.004399</td>\n",
       "      <td>0.005100</td>\n",
       "      <td>0.003401</td>\n",
       "      <td>0.003600</td>\n",
       "      <td>0.002699</td>\n",
       "      <td>0.003101</td>\n",
       "      <td>0.0038</td>\n",
       "      <td>NaN</td>\n",
       "      <td>NaN</td>\n",
       "      <td>0.309901</td>\n",
       "    </tr>\n",
       "    <tr>\n",
       "      <th>117351</th>\n",
       "      <td>16030101.0</td>\n",
       "      <td>1.620604e+09</td>\n",
       "      <td>'010102001</td>\n",
       "      <td>0027309881</td>\n",
       "      <td>1105</td>\n",
       "      <td>NaN</td>\n",
       "      <td>[阶梯]居民生活用水净水</td>\n",
       "      <td>20.0</td>\n",
       "      <td>广东省广州市白云区白云区东兴二街1号1105</td>\n",
       "      <td>1.620604e+09</td>\n",
       "      <td>...</td>\n",
       "      <td>0.000100</td>\n",
       "      <td>0.000100</td>\n",
       "      <td>0.000000</td>\n",
       "      <td>0.000200</td>\n",
       "      <td>0.000000</td>\n",
       "      <td>0.000100</td>\n",
       "      <td>NaN</td>\n",
       "      <td>NaN</td>\n",
       "      <td>NaN</td>\n",
       "      <td>3.470801</td>\n",
       "    </tr>\n",
       "    <tr>\n",
       "      <th>117352</th>\n",
       "      <td>16030102.0</td>\n",
       "      <td>1.620609e+09</td>\n",
       "      <td>'010102001</td>\n",
       "      <td>0027310898</td>\n",
       "      <td>1104</td>\n",
       "      <td>NaN</td>\n",
       "      <td>[阶梯]居民生活用水净水</td>\n",
       "      <td>20.0</td>\n",
       "      <td>广东省广州市白云区白云区东兴二街3号1104</td>\n",
       "      <td>1.620609e+09</td>\n",
       "      <td>...</td>\n",
       "      <td>NaN</td>\n",
       "      <td>NaN</td>\n",
       "      <td>NaN</td>\n",
       "      <td>NaN</td>\n",
       "      <td>NaN</td>\n",
       "      <td>0.502300</td>\n",
       "      <td>NaN</td>\n",
       "      <td>NaN</td>\n",
       "      <td>NaN</td>\n",
       "      <td>0.502300</td>\n",
       "    </tr>\n",
       "    <tr>\n",
       "      <th>117353</th>\n",
       "      <td>16030102.0</td>\n",
       "      <td>1.620609e+09</td>\n",
       "      <td>'010102001</td>\n",
       "      <td>0027310885</td>\n",
       "      <td>1103</td>\n",
       "      <td>NaN</td>\n",
       "      <td>[阶梯]居民生活用水净水</td>\n",
       "      <td>20.0</td>\n",
       "      <td>广东省广州市白云区白云区东兴二街3号1103</td>\n",
       "      <td>1.620609e+09</td>\n",
       "      <td>...</td>\n",
       "      <td>NaN</td>\n",
       "      <td>NaN</td>\n",
       "      <td>NaN</td>\n",
       "      <td>NaN</td>\n",
       "      <td>NaN</td>\n",
       "      <td>0.370499</td>\n",
       "      <td>NaN</td>\n",
       "      <td>NaN</td>\n",
       "      <td>NaN</td>\n",
       "      <td>0.370499</td>\n",
       "    </tr>\n",
       "    <tr>\n",
       "      <th>117354</th>\n",
       "      <td>16030103.0</td>\n",
       "      <td>1.620604e+09</td>\n",
       "      <td>'010102001</td>\n",
       "      <td>0027311761</td>\n",
       "      <td>1003</td>\n",
       "      <td>NaN</td>\n",
       "      <td>[阶梯]居民生活用水净水</td>\n",
       "      <td>20.0</td>\n",
       "      <td>广东省广州市白云区白云区东兴二街5号1003</td>\n",
       "      <td>1.620604e+09</td>\n",
       "      <td>...</td>\n",
       "      <td>0.090001</td>\n",
       "      <td>0.091100</td>\n",
       "      <td>0.049700</td>\n",
       "      <td>0.093800</td>\n",
       "      <td>0.060700</td>\n",
       "      <td>0.047600</td>\n",
       "      <td>0.3850</td>\n",
       "      <td>NaN</td>\n",
       "      <td>NaN</td>\n",
       "      <td>6.389700</td>\n",
       "    </tr>\n",
       "  </tbody>\n",
       "</table>\n",
       "<p>117355 rows × 66 columns</p>\n",
       "</div>"
      ],
      "text/plain": [
       "              远传ID          数据编号         区册号        用户编号           用户名称   用途  \\\n",
       "0       16180908.0  1.625901e+09  '085519001  0012345856   左正0012345856  NaN   \n",
       "1       16180908.0  1.625901e+09  '085519001  0012351145  邹晶晶0012351145  NaN   \n",
       "2       16180908.0  1.625901e+09  '085519001  0012351262  朱芹香0012351262  NaN   \n",
       "3       16180908.0  1.625901e+09  '085519001  0012345449  朱江波0012345449  NaN   \n",
       "4       16080908.0  1.625901e+09  '085519001  0012349409  钟似璇0012349409  NaN   \n",
       "...            ...           ...         ...         ...            ...  ...   \n",
       "117350  16030103.0  1.620609e+09  '010102001  0027311905           1201  NaN   \n",
       "117351  16030101.0  1.620604e+09  '010102001  0027309881           1105  NaN   \n",
       "117352  16030102.0  1.620609e+09  '010102001  0027310898           1104  NaN   \n",
       "117353  16030102.0  1.620609e+09  '010102001  0027310885           1103  NaN   \n",
       "117354  16030103.0  1.620604e+09  '010102001  0027311761           1003  NaN   \n",
       "\n",
       "                  性质    口径                    用户地址        数据编号.1  ...  \\\n",
       "0       [阶梯]居民生活用水净水  25.0             华明路43号1802房  1.625901e+09  ...   \n",
       "1       [阶梯]居民生活用水净水  25.0             华明路43号2602房  1.625901e+09  ...   \n",
       "2       [阶梯]居民生活用水净水  25.0             华明路43号2701房  1.625901e+09  ...   \n",
       "3       [阶梯]居民生活用水净水  25.0             华明路43号1801房  1.625901e+09  ...   \n",
       "4       [阶梯]居民生活用水净水  25.0             华明路43号0703房  1.625901e+09  ...   \n",
       "...              ...   ...                     ...           ...  ...   \n",
       "117350  [阶梯]居民生活用水净水  20.0  广东省广州市白云区白云区东兴二街5号1201  1.620609e+09  ...   \n",
       "117351  [阶梯]居民生活用水净水  20.0  广东省广州市白云区白云区东兴二街1号1105  1.620604e+09  ...   \n",
       "117352  [阶梯]居民生活用水净水  20.0  广东省广州市白云区白云区东兴二街3号1104  1.620609e+09  ...   \n",
       "117353  [阶梯]居民生活用水净水  20.0  广东省广州市白云区白云区东兴二街3号1103  1.620609e+09  ...   \n",
       "117354  [阶梯]居民生活用水净水  20.0  广东省广州市白云区白云区东兴二街5号1003  1.620604e+09  ...   \n",
       "\n",
       "        2020-02-16  2020-02-17  2020-02-18  2020-02-19  2020-02-20  \\\n",
       "0         0.149400    0.305900    0.228100    0.065200    0.100899   \n",
       "1         1.205000    0.300800    0.176700    0.179099    0.308400   \n",
       "2         0.013300    0.014601    0.010200    0.018299    0.012400   \n",
       "3         0.471800    0.526999    0.602401    0.554099    0.516300   \n",
       "4         0.002301    0.003000    0.002800    0.002100    0.002000   \n",
       "...            ...         ...         ...         ...         ...   \n",
       "117350    0.004399    0.005100    0.003401    0.003600    0.002699   \n",
       "117351    0.000100    0.000100    0.000000    0.000200    0.000000   \n",
       "117352         NaN         NaN         NaN         NaN         NaN   \n",
       "117353         NaN         NaN         NaN         NaN         NaN   \n",
       "117354    0.090001    0.091100    0.049700    0.093800    0.060700   \n",
       "\n",
       "        2020-02-21  2020-02-22  2020-02-23  2020-02-24         合计  \n",
       "0         0.196300         NaN         NaN         NaN   5.696398  \n",
       "1         0.126700         NaN         NaN         NaN  10.944600  \n",
       "2         0.012500         NaN         NaN         NaN   3.274200  \n",
       "3         0.263301         NaN         NaN         NaN  14.577801  \n",
       "4         0.002200         NaN         NaN    0.001199   7.917801  \n",
       "...            ...         ...         ...         ...        ...  \n",
       "117350    0.003101      0.0038         NaN         NaN   0.309901  \n",
       "117351    0.000100         NaN         NaN         NaN   3.470801  \n",
       "117352    0.502300         NaN         NaN         NaN   0.502300  \n",
       "117353    0.370499         NaN         NaN         NaN   0.370499  \n",
       "117354    0.047600      0.3850         NaN         NaN   6.389700  \n",
       "\n",
       "[117355 rows x 66 columns]"
      ]
     },
     "execution_count": 23,
     "metadata": {},
     "output_type": "execute_result"
    }
   ],
   "source": [
    "# large_metre_2020\n",
    "smart_metre_2020"
   ]
  },
  {
   "cell_type": "code",
   "execution_count": 35,
   "metadata": {},
   "outputs": [],
   "source": [
    "large_metre_2020 = pd.merge(large_metre_2020,large_metre_list,how=\"left\",left_on='用户编号', right_on='user_no')\n",
    "smart_metre_2020 = pd.merge(smart_metre_2020,smart_metre_list,how=\"left\",left_on='用户编号', right_on='user_no')"
   ]
  },
  {
   "cell_type": "code",
   "execution_count": 120,
   "metadata": {},
   "outputs": [
    {
     "name": "stdout",
     "output_type": "stream",
     "text": [
      "<class 'pandas.core.frame.DataFrame'>\n",
      "Int64Index: 9535 entries, 0 to 9534\n",
      "Data columns (total 73 columns):\n",
      "远传ID             9535 non-null float64\n",
      "数据编号             9535 non-null float64\n",
      "区册号              8255 non-null object\n",
      "用户编号             9535 non-null object\n",
      "用户名称             9365 non-null object\n",
      "用途               5168 non-null object\n",
      "性质               4940 non-null object\n",
      "口径               9135 non-null object\n",
      "数据编号.1           9535 non-null float64\n",
      "2020-01-01       8026 non-null float64\n",
      "2020-01-02       7698 non-null float64\n",
      "2020-01-03       8469 non-null float64\n",
      "2020-01-04       8668 non-null float64\n",
      "2020-01-05       8709 non-null float64\n",
      "2020-01-06       8947 non-null float64\n",
      "2020-01-07       8964 non-null float64\n",
      "2020-01-08       8976 non-null float64\n",
      "2020-01-09       8982 non-null float64\n",
      "2020-01-10       8976 non-null float64\n",
      "2020-01-11       8969 non-null float64\n",
      "2020-01-12       8964 non-null float64\n",
      "2020-01-13       8980 non-null float64\n",
      "2020-01-14       8979 non-null float64\n",
      "2020-01-15       8977 non-null float64\n",
      "2020-01-16       8842 non-null float64\n",
      "2020-01-17       8495 non-null float64\n",
      "2020-01-18       8484 non-null float64\n",
      "2020-01-19       8366 non-null float64\n",
      "2020-01-20       8630 non-null float64\n",
      "2020-01-21       9013 non-null float64\n",
      "2020-01-22       9035 non-null float64\n",
      "2020-01-23       9028 non-null float64\n",
      "2020-01-24       9059 non-null float64\n",
      "2020-01-25       9057 non-null float64\n",
      "2020-01-26       9013 non-null float64\n",
      "2020-01-27       8995 non-null float64\n",
      "2020-01-28       9010 non-null float64\n",
      "2020-01-29       8998 non-null float64\n",
      "2020-01-30       8971 non-null float64\n",
      "2020-01-31       8751 non-null float64\n",
      "2020-02-01       8749 non-null float64\n",
      "2020-02-02       8996 non-null float64\n",
      "2020-02-03       9002 non-null float64\n",
      "2020-02-04       8968 non-null float64\n",
      "2020-02-05       8956 non-null float64\n",
      "2020-02-06       8972 non-null float64\n",
      "2020-02-07       8980 non-null float64\n",
      "2020-02-08       8991 non-null float64\n",
      "2020-02-09       8978 non-null float64\n",
      "2020-02-10       9000 non-null float64\n",
      "2020-02-11       9001 non-null float64\n",
      "2020-02-12       9002 non-null float64\n",
      "2020-02-13       9000 non-null float64\n",
      "2020-02-14       8159 non-null float64\n",
      "2020-02-15       8143 non-null float64\n",
      "2020-02-16       8929 non-null float64\n",
      "2020-02-17       8943 non-null float64\n",
      "2020-02-18       8949 non-null float64\n",
      "2020-02-19       8929 non-null float64\n",
      "2020-02-20       8946 non-null float64\n",
      "2020-02-21       8987 non-null float64\n",
      "2020-02-22       8993 non-null float64\n",
      "2020-02-23       8973 non-null float64\n",
      "2020-02-24       8966 non-null float64\n",
      "合计               9535 non-null float64\n",
      "Unnamed: 0       7473 non-null float64\n",
      "user_no          7473 non-null object\n",
      "user_name        7473 non-null object\n",
      "mr_sect_no       7473 non-null object\n",
      "trade_sort       7473 non-null object\n",
      "use_type_code    7473 non-null object\n",
      "meter_calibre    7470 non-null float64\n",
      "user_ms_type     7473 non-null object\n",
      "dtypes: float64(61), object(12)\n",
      "memory usage: 5.4+ MB\n",
      "<class 'pandas.core.frame.DataFrame'>\n",
      "Int64Index: 117355 entries, 0 to 117354\n",
      "Data columns (total 74 columns):\n",
      "远传ID             117355 non-null float64\n",
      "数据编号             117355 non-null float64\n",
      "区册号              117355 non-null object\n",
      "用户编号             117355 non-null object\n",
      "用户名称             117355 non-null object\n",
      "用途               90 non-null object\n",
      "性质               117355 non-null object\n",
      "口径               117352 non-null float64\n",
      "用户地址             117355 non-null object\n",
      "数据编号.1           117355 non-null float64\n",
      "2020-01-01       108196 non-null float64\n",
      "2020-01-02       106747 non-null float64\n",
      "2020-01-03       108050 non-null float64\n",
      "2020-01-04       109349 non-null float64\n",
      "2020-01-05       108950 non-null float64\n",
      "2020-01-06       108540 non-null float64\n",
      "2020-01-07       109705 non-null float64\n",
      "2020-01-08       109813 non-null float64\n",
      "2020-01-09       108966 non-null float64\n",
      "2020-01-10       110654 non-null float64\n",
      "2020-01-11       109468 non-null float64\n",
      "2020-01-12       98907 non-null float64\n",
      "2020-01-13       95167 non-null float64\n",
      "2020-01-14       75741 non-null float64\n",
      "2020-01-15       78908 non-null float64\n",
      "2020-01-16       99051 non-null float64\n",
      "2020-01-17       92897 non-null float64\n",
      "2020-01-18       96506 non-null float64\n",
      "2020-01-19       92236 non-null float64\n",
      "2020-01-20       98544 non-null float64\n",
      "2020-01-21       95051 non-null float64\n",
      "2020-01-22       95443 non-null float64\n",
      "2020-01-23       110047 non-null float64\n",
      "2020-01-24       110606 non-null float64\n",
      "2020-01-25       111884 non-null float64\n",
      "2020-01-26       111036 non-null float64\n",
      "2020-01-27       106245 non-null float64\n",
      "2020-01-28       89515 non-null float64\n",
      "2020-01-29       85644 non-null float64\n",
      "2020-01-30       93987 non-null float64\n",
      "2020-01-31       101544 non-null float64\n",
      "2020-02-01       109939 non-null float64\n",
      "2020-02-02       109405 non-null float64\n",
      "2020-02-03       94573 non-null float64\n",
      "2020-02-04       91077 non-null float64\n",
      "2020-02-05       99493 non-null float64\n",
      "2020-02-06       101947 non-null float64\n",
      "2020-02-07       103279 non-null float64\n",
      "2020-02-08       0 non-null float64\n",
      "2020-02-09       0 non-null float64\n",
      "2020-02-10       0 non-null float64\n",
      "2020-02-11       884 non-null float64\n",
      "2020-02-12       102095 non-null float64\n",
      "2020-02-13       102555 non-null float64\n",
      "2020-02-14       83026 non-null float64\n",
      "2020-02-15       83153 non-null float64\n",
      "2020-02-16       106349 non-null float64\n",
      "2020-02-17       106968 non-null float64\n",
      "2020-02-18       106966 non-null float64\n",
      "2020-02-19       105794 non-null float64\n",
      "2020-02-20       106868 non-null float64\n",
      "2020-02-21       106536 non-null float64\n",
      "2020-02-22       11474 non-null float64\n",
      "2020-02-23       4368 non-null float64\n",
      "2020-02-24       18941 non-null float64\n",
      "合计               117355 non-null float64\n",
      "user_no          103754 non-null object\n",
      "user_no.1        103754 non-null float64\n",
      "user_name        103754 non-null object\n",
      "mr_sect_no       103754 non-null float64\n",
      "trade_sort       103754 non-null object\n",
      "use_type_code    103754 non-null object\n",
      "meter_calibre    103754 non-null float64\n",
      "user_ms_type     103754 non-null object\n",
      "dtypes: float64(63), object(11)\n",
      "memory usage: 67.2+ MB\n",
      "None None\n"
     ]
    }
   ],
   "source": [
    "print(\n",
    "large_metre_2020.info(),\n",
    "smart_metre_2020.info())"
   ]
  },
  {
   "cell_type": "code",
   "execution_count": 50,
   "metadata": {},
   "outputs": [
    {
     "data": {
      "text/html": [
       "<div>\n",
       "<style scoped>\n",
       "    .dataframe tbody tr th:only-of-type {\n",
       "        vertical-align: middle;\n",
       "    }\n",
       "\n",
       "    .dataframe tbody tr th {\n",
       "        vertical-align: top;\n",
       "    }\n",
       "\n",
       "    .dataframe thead th {\n",
       "        text-align: right;\n",
       "    }\n",
       "</style>\n",
       "<table border=\"1\" class=\"dataframe\">\n",
       "  <thead>\n",
       "    <tr style=\"text-align: right;\">\n",
       "      <th></th>\n",
       "      <th>远传ID</th>\n",
       "      <th>数据编号</th>\n",
       "      <th>区册号</th>\n",
       "      <th>用户编号</th>\n",
       "      <th>用户名称</th>\n",
       "      <th>用途</th>\n",
       "      <th>性质</th>\n",
       "      <th>口径</th>\n",
       "      <th>数据编号.1</th>\n",
       "      <th>2020-01-01</th>\n",
       "      <th>...</th>\n",
       "      <th>2020-02-24</th>\n",
       "      <th>合计</th>\n",
       "      <th>Unnamed: 0</th>\n",
       "      <th>user_no</th>\n",
       "      <th>user_name</th>\n",
       "      <th>mr_sect_no</th>\n",
       "      <th>trade_sort</th>\n",
       "      <th>use_type_code</th>\n",
       "      <th>meter_calibre</th>\n",
       "      <th>user_ms_type</th>\n",
       "    </tr>\n",
       "  </thead>\n",
       "  <tbody>\n",
       "    <tr>\n",
       "      <th>2773</th>\n",
       "      <td>91830142.0</td>\n",
       "      <td>9.918301e+11</td>\n",
       "      <td>3105021500</td>\n",
       "      <td>0030187199</td>\n",
       "      <td>广东省广州市白云区金沙洲B3734F02.04地块0030187199</td>\n",
       "      <td>计费</td>\n",
       "      <td>NaN</td>\n",
       "      <td>100</td>\n",
       "      <td>9.918301e+11</td>\n",
       "      <td>85.800000</td>\n",
       "      <td>...</td>\n",
       "      <td>68.300001</td>\n",
       "      <td>3961.800000</td>\n",
       "      <td>30187199.0</td>\n",
       "      <td>0030187199</td>\n",
       "      <td>广州市住房保障办公室</td>\n",
       "      <td>3105022010</td>\n",
       "      <td>居民家庭</td>\n",
       "      <td>居民生活</td>\n",
       "      <td>100.0</td>\n",
       "      <td>计费</td>\n",
       "    </tr>\n",
       "    <tr>\n",
       "      <th>2788</th>\n",
       "      <td>91830142.0</td>\n",
       "      <td>9.918301e+11</td>\n",
       "      <td>3105021500</td>\n",
       "      <td>0030187199</td>\n",
       "      <td>白云区金沙洲保障房0030187199</td>\n",
       "      <td>计费</td>\n",
       "      <td>NaN</td>\n",
       "      <td>NaN</td>\n",
       "      <td>9.918301e+11</td>\n",
       "      <td>0.000000</td>\n",
       "      <td>...</td>\n",
       "      <td>0.000000</td>\n",
       "      <td>0.000000</td>\n",
       "      <td>30187199.0</td>\n",
       "      <td>0030187199</td>\n",
       "      <td>广州市住房保障办公室</td>\n",
       "      <td>3105022010</td>\n",
       "      <td>居民家庭</td>\n",
       "      <td>居民生活</td>\n",
       "      <td>100.0</td>\n",
       "      <td>计费</td>\n",
       "    </tr>\n",
       "    <tr>\n",
       "      <th>3023</th>\n",
       "      <td>91830159.0</td>\n",
       "      <td>9.918302e+11</td>\n",
       "      <td>3075011900</td>\n",
       "      <td>0022002381</td>\n",
       "      <td>芳村龙溪路原高尔夫球场AF030614地块隽泷园一期0022002381</td>\n",
       "      <td>NaN</td>\n",
       "      <td>NaN</td>\n",
       "      <td>NaN</td>\n",
       "      <td>9.918302e+11</td>\n",
       "      <td>0.000000</td>\n",
       "      <td>...</td>\n",
       "      <td>0.000000</td>\n",
       "      <td>0.000000</td>\n",
       "      <td>22002381.0</td>\n",
       "      <td>0022002381</td>\n",
       "      <td>广州隽华房地产开发有限公司</td>\n",
       "      <td>3075012010</td>\n",
       "      <td>商业</td>\n",
       "      <td>经营服务用水</td>\n",
       "      <td>100.0</td>\n",
       "      <td>计费</td>\n",
       "    </tr>\n",
       "    <tr>\n",
       "      <th>3024</th>\n",
       "      <td>91830159.0</td>\n",
       "      <td>9.918302e+11</td>\n",
       "      <td>3075011900</td>\n",
       "      <td>0022002381</td>\n",
       "      <td>芳村龙溪路原高尔夫球场AF030614地块隽泷园一期0022002381</td>\n",
       "      <td>NaN</td>\n",
       "      <td>NaN</td>\n",
       "      <td>100</td>\n",
       "      <td>9.918302e+11</td>\n",
       "      <td>2.699999</td>\n",
       "      <td>...</td>\n",
       "      <td>3.000000</td>\n",
       "      <td>16067.599998</td>\n",
       "      <td>22002381.0</td>\n",
       "      <td>0022002381</td>\n",
       "      <td>广州隽华房地产开发有限公司</td>\n",
       "      <td>3075012010</td>\n",
       "      <td>商业</td>\n",
       "      <td>经营服务用水</td>\n",
       "      <td>100.0</td>\n",
       "      <td>计费</td>\n",
       "    </tr>\n",
       "    <tr>\n",
       "      <th>7757</th>\n",
       "      <td>51635.0</td>\n",
       "      <td>9.000516e+11</td>\n",
       "      <td>06A118010</td>\n",
       "      <td>0006322713</td>\n",
       "      <td>广州经济技术开发区供水管理中心</td>\n",
       "      <td>计费</td>\n",
       "      <td>[开发区趸售]工业用水净水</td>\n",
       "      <td>800</td>\n",
       "      <td>9.000516e+11</td>\n",
       "      <td>19898.000000</td>\n",
       "      <td>...</td>\n",
       "      <td>23744.000000</td>\n",
       "      <td>884287.000000</td>\n",
       "      <td>NaN</td>\n",
       "      <td>NaN</td>\n",
       "      <td>NaN</td>\n",
       "      <td>NaN</td>\n",
       "      <td>NaN</td>\n",
       "      <td>NaN</td>\n",
       "      <td>NaN</td>\n",
       "      <td>NaN</td>\n",
       "    </tr>\n",
       "    <tr>\n",
       "      <th>8530</th>\n",
       "      <td>99980177.0</td>\n",
       "      <td>9.998100e+11</td>\n",
       "      <td>NaN</td>\n",
       "      <td>0006322713</td>\n",
       "      <td>开发区东区北面</td>\n",
       "      <td>计费</td>\n",
       "      <td>NaN</td>\n",
       "      <td>NaN</td>\n",
       "      <td>9.998100e+11</td>\n",
       "      <td>0.000000</td>\n",
       "      <td>...</td>\n",
       "      <td>0.000000</td>\n",
       "      <td>0.000000</td>\n",
       "      <td>NaN</td>\n",
       "      <td>NaN</td>\n",
       "      <td>NaN</td>\n",
       "      <td>NaN</td>\n",
       "      <td>NaN</td>\n",
       "      <td>NaN</td>\n",
       "      <td>NaN</td>\n",
       "      <td>NaN</td>\n",
       "    </tr>\n",
       "  </tbody>\n",
       "</table>\n",
       "<p>6 rows × 73 columns</p>\n",
       "</div>"
      ],
      "text/plain": [
       "            远传ID          数据编号         区册号        用户编号  \\\n",
       "2773  91830142.0  9.918301e+11  3105021500  0030187199   \n",
       "2788  91830142.0  9.918301e+11  3105021500  0030187199   \n",
       "3023  91830159.0  9.918302e+11  3075011900  0022002381   \n",
       "3024  91830159.0  9.918302e+11  3075011900  0022002381   \n",
       "7757     51635.0  9.000516e+11   06A118010  0006322713   \n",
       "8530  99980177.0  9.998100e+11         NaN  0006322713   \n",
       "\n",
       "                                      用户名称   用途             性质   口径  \\\n",
       "2773   广东省广州市白云区金沙洲B3734F02.04地块0030187199   计费            NaN  100   \n",
       "2788                   白云区金沙洲保障房0030187199   计费            NaN  NaN   \n",
       "3023  芳村龙溪路原高尔夫球场AF030614地块隽泷园一期0022002381  NaN            NaN  NaN   \n",
       "3024  芳村龙溪路原高尔夫球场AF030614地块隽泷园一期0022002381  NaN            NaN  100   \n",
       "7757                       广州经济技术开发区供水管理中心   计费  [开发区趸售]工业用水净水  800   \n",
       "8530                               开发区东区北面   计费            NaN  NaN   \n",
       "\n",
       "            数据编号.1    2020-01-01  ...    2020-02-24             合计  \\\n",
       "2773  9.918301e+11     85.800000  ...     68.300001    3961.800000   \n",
       "2788  9.918301e+11      0.000000  ...      0.000000       0.000000   \n",
       "3023  9.918302e+11      0.000000  ...      0.000000       0.000000   \n",
       "3024  9.918302e+11      2.699999  ...      3.000000   16067.599998   \n",
       "7757  9.000516e+11  19898.000000  ...  23744.000000  884287.000000   \n",
       "8530  9.998100e+11      0.000000  ...      0.000000       0.000000   \n",
       "\n",
       "      Unnamed: 0     user_no      user_name  mr_sect_no  trade_sort  \\\n",
       "2773  30187199.0  0030187199     广州市住房保障办公室  3105022010        居民家庭   \n",
       "2788  30187199.0  0030187199     广州市住房保障办公室  3105022010        居民家庭   \n",
       "3023  22002381.0  0022002381  广州隽华房地产开发有限公司  3075012010          商业   \n",
       "3024  22002381.0  0022002381  广州隽华房地产开发有限公司  3075012010          商业   \n",
       "7757         NaN         NaN            NaN         NaN         NaN   \n",
       "8530         NaN         NaN            NaN         NaN         NaN   \n",
       "\n",
       "      use_type_code  meter_calibre  user_ms_type  \n",
       "2773           居民生活          100.0            计费  \n",
       "2788           居民生活          100.0            计费  \n",
       "3023         经营服务用水          100.0            计费  \n",
       "3024         经营服务用水          100.0            计费  \n",
       "7757            NaN            NaN           NaN  \n",
       "8530            NaN            NaN           NaN  \n",
       "\n",
       "[6 rows x 73 columns]"
      ]
     },
     "execution_count": 50,
     "metadata": {},
     "output_type": "execute_result"
    }
   ],
   "source": [
    "large_metre_2020[large_metre_2020['用户编号'].duplicated(keep=False)]"
   ]
  },
  {
   "cell_type": "code",
   "execution_count": 51,
   "metadata": {},
   "outputs": [
    {
     "data": {
      "text/html": [
       "<div>\n",
       "<style scoped>\n",
       "    .dataframe tbody tr th:only-of-type {\n",
       "        vertical-align: middle;\n",
       "    }\n",
       "\n",
       "    .dataframe tbody tr th {\n",
       "        vertical-align: top;\n",
       "    }\n",
       "\n",
       "    .dataframe thead th {\n",
       "        text-align: right;\n",
       "    }\n",
       "</style>\n",
       "<table border=\"1\" class=\"dataframe\">\n",
       "  <thead>\n",
       "    <tr style=\"text-align: right;\">\n",
       "      <th></th>\n",
       "      <th>远传ID</th>\n",
       "      <th>数据编号</th>\n",
       "      <th>区册号</th>\n",
       "      <th>用户编号</th>\n",
       "      <th>用户名称</th>\n",
       "      <th>用途</th>\n",
       "      <th>性质</th>\n",
       "      <th>口径</th>\n",
       "      <th>用户地址</th>\n",
       "      <th>数据编号.1</th>\n",
       "      <th>...</th>\n",
       "      <th>2020-02-24</th>\n",
       "      <th>合计</th>\n",
       "      <th>user_no</th>\n",
       "      <th>user_no.1</th>\n",
       "      <th>user_name</th>\n",
       "      <th>mr_sect_no</th>\n",
       "      <th>trade_sort</th>\n",
       "      <th>use_type_code</th>\n",
       "      <th>meter_calibre</th>\n",
       "      <th>user_ms_type</th>\n",
       "    </tr>\n",
       "  </thead>\n",
       "  <tbody>\n",
       "  </tbody>\n",
       "</table>\n",
       "<p>0 rows × 74 columns</p>\n",
       "</div>"
      ],
      "text/plain": [
       "Empty DataFrame\n",
       "Columns: [远传ID, 数据编号, 区册号, 用户编号, 用户名称, 用途, 性质, 口径, 用户地址, 数据编号.1, 2020-01-01, 2020-01-02, 2020-01-03, 2020-01-04, 2020-01-05, 2020-01-06, 2020-01-07, 2020-01-08, 2020-01-09, 2020-01-10, 2020-01-11, 2020-01-12, 2020-01-13, 2020-01-14, 2020-01-15, 2020-01-16, 2020-01-17, 2020-01-18, 2020-01-19, 2020-01-20, 2020-01-21, 2020-01-22, 2020-01-23, 2020-01-24, 2020-01-25, 2020-01-26, 2020-01-27, 2020-01-28, 2020-01-29, 2020-01-30, 2020-01-31, 2020-02-01, 2020-02-02, 2020-02-03, 2020-02-04, 2020-02-05, 2020-02-06, 2020-02-07, 2020-02-08, 2020-02-09, 2020-02-10, 2020-02-11, 2020-02-12, 2020-02-13, 2020-02-14, 2020-02-15, 2020-02-16, 2020-02-17, 2020-02-18, 2020-02-19, 2020-02-20, 2020-02-21, 2020-02-22, 2020-02-23, 2020-02-24, 合计, user_no, user_no.1, user_name, mr_sect_no, trade_sort, use_type_code, meter_calibre, user_ms_type]\n",
       "Index: []\n",
       "\n",
       "[0 rows x 74 columns]"
      ]
     },
     "execution_count": 51,
     "metadata": {},
     "output_type": "execute_result"
    }
   ],
   "source": [
    "smart_metre_2020[smart_metre_2020['用户编号'].duplicated(keep=False)]"
   ]
  },
  {
   "cell_type": "code",
   "execution_count": 60,
   "metadata": {},
   "outputs": [
    {
     "name": "stdout",
     "output_type": "stream",
     "text": [
      "0018041460    1\n",
      "0018842643    1\n",
      "0016610037    1\n",
      "0011566120    1\n",
      "0018059221    1\n",
      "             ..\n",
      "0007415669    1\n",
      "0015771009    1\n",
      "0013117131    1\n",
      "0012762079    1\n",
      "0021770148    1\n",
      "Name: 用户编号, Length: 117355, dtype: int64 0022002381    2\n",
      "0030187199    2\n",
      "0006322713    2\n",
      "0006315795    1\n",
      "0029178096    1\n",
      "             ..\n",
      "0006290144    1\n",
      "0002306298    1\n",
      "0025259474    1\n",
      "0012272512    1\n",
      "0003627828    1\n",
      "Name: 用户编号, Length: 9532, dtype: int64\n"
     ]
    }
   ],
   "source": [
    "print(\n",
    "smart_metre_2020['用户编号'].value_counts().sort_values(ascending=False),\n",
    "large_metre_2020['用户编号'].value_counts().sort_values(ascending=False))"
   ]
  },
  {
   "cell_type": "code",
   "execution_count": 63,
   "metadata": {},
   "outputs": [
    {
     "name": "stdout",
     "output_type": "stream",
     "text": [
      "1101    7\n",
      "1502    6\n",
      "1203    6\n",
      "804     6\n",
      "1304    6\n",
      "604     6\n",
      "1206    6\n",
      "1504    6\n",
      "1201    6\n",
      "805     5\n",
      "801     5\n",
      "701     5\n",
      "1207    5\n",
      "1801    5\n",
      "1505    5\n",
      "2401    4\n",
      "1403    4\n",
      "603     4\n",
      "803     4\n",
      "2004    4\n",
      "Name: 用户名称, dtype: int64 广州市猎德经济发展有限公司                           4\n",
      "广州市地下铁道总公司                              3\n",
      "广州市深业房地产有限公司                            3\n",
      "沙步实业公司                                  2\n",
      "解放军联勤第二十一分部基建营房处                        2\n",
      "广州保利房地产开发公司87667297                     2\n",
      "广州新江山股份有限公司                             2\n",
      "广州市天河区城市管理局                             2\n",
      "芳村龙溪路原高尔夫球场AF030614地块隽泷园一期0022002381    2\n",
      "东圃镇黄村村委会                                2\n",
      "广州恒鑫实业发展有限公司（恒鑫．御雅庭）0018462092          2\n",
      "新塘镇西州村                                  2\n",
      "珠村村民委员会0006221704                       1\n",
      "省华侨房地产建设0001996698                      1\n",
      "华大房地产开发公司(周伟强)0000461287                1\n",
      "广州市正图物业管理发展有限公司0004929329               1\n",
      "广州市同和老庄实业有限公司0011737126                 1\n",
      "花地大道花地立交桥脚西侧0002644468                  1\n",
      "广州市住房保障办公室0022642396                    1\n",
      "长红村0005098949                           1\n",
      "Name: 用户名称, dtype: int64\n"
     ]
    }
   ],
   "source": [
    "print(\n",
    "smart_metre_2020['用户名称'].value_counts().sort_values(ascending=False)[:20],\n",
    "large_metre_2020['用户名称'].value_counts().sort_values(ascending=False)[:20])"
   ]
  },
  {
   "cell_type": "code",
   "execution_count": 119,
   "metadata": {},
   "outputs": [
    {
     "data": {
      "text/plain": [
       "<matplotlib.axes._subplots.AxesSubplot at 0x1b702b655c8>"
      ]
     },
     "execution_count": 119,
     "metadata": {},
     "output_type": "execute_result"
    },
    {
     "data": {
      "image/png": "[encoded data removed]",
      "text/plain": [
       "<Figure size 864x864 with 2 Axes>"
      ]
     },
     "metadata": {
      "needs_background": "light"
     },
     "output_type": "display_data"
    }
   ],
   "source": [
    "plt.figure(figsize=(12,12))\n",
    "plt.subplot(2,1,1)\n",
    "large_metre_2020['用途'].astype('str').value_counts(dropna=False).plot(kind='bar',title='远传大表')\n",
    "plt.subplot(2,1,2)\n",
    "smart_metre_2020['用途'].astype('str').value_counts(dropna=False).plot(kind='bar')"
   ]
  },
  {
   "cell_type": "code",
   "execution_count": 110,
   "metadata": {},
   "outputs": [
    {
     "data": {
      "text/plain": [
       "<matplotlib.axes._subplots.AxesSubplot at 0x1b7012f01c8>"
      ]
     },
     "execution_count": 110,
     "metadata": {},
     "output_type": "execute_result"
    },
    {
     "data": {
      "image/png": "[encoded data removed]",
      "text/plain": [
       "<Figure size 864x864 with 2 Axes>"
      ]
     },
     "metadata": {
      "needs_background": "light"
     },
     "output_type": "display_data"
    }
   ],
   "source": [
    "plt.figure(figsize=(12,12))\n",
    "plt.subplot(2,1,1)\n",
    "large_metre_2020['性质'].astype('str').value_counts(dropna=False).plot(kind='bar',title='远传大表')\n",
    "plt.subplot(2,1,2)\n",
    "smart_metre_2020['性质'].astype('str').value_counts(dropna=False).plot(kind='bar')"
   ]
  },
  {
   "cell_type": "code",
   "execution_count": 109,
   "metadata": {
    "scrolled": true
   },
   "outputs": [
    {
     "data": {
      "text/plain": [
       "<matplotlib.axes._subplots.AxesSubplot at 0x1b7011ecd08>"
      ]
     },
     "execution_count": 109,
     "metadata": {},
     "output_type": "execute_result"
    },
    {
     "data": {
      "image/png": "[encoded data removed]",
      "text/plain": [
       "<Figure size 864x864 with 2 Axes>"
      ]
     },
     "metadata": {
      "needs_background": "light"
     },
     "output_type": "display_data"
    }
   ],
   "source": [
    "plt.figure(figsize=(12,12))\n",
    "plt.subplot(2,1,1)\n",
    "large_metre_2020['口径'].astype('str').value_counts(dropna=False).plot(kind='bar',title='远传大表')\n",
    "plt.subplot(2,1,2)\n",
    "smart_metre_2020['口径'].astype('str').value_counts(dropna=False).plot(kind='bar')"
   ]
  },
  {
   "cell_type": "code",
   "execution_count": null,
   "metadata": {},
   "outputs": [],
   "source": []
  },
  {
   "cell_type": "markdown",
   "metadata": {},
   "source": [
    "**远传系统与营抄系统中的远传大小表数量"
   ]
  },
  {
   "cell_type": "code",
   "execution_count": 113,
   "metadata": {},
   "outputs": [
    {
     "data": {
      "text/plain": [
       "<matplotlib.axes._subplots.AxesSubplot at 0x1b7021be348>"
      ]
     },
     "execution_count": 113,
     "metadata": {},
     "output_type": "execute_result"
    },
    {
     "data": {
      "image/png": "[encoded data removed]",
      "text/plain": [
       "<Figure size 864x864 with 2 Axes>"
      ]
     },
     "metadata": {
      "needs_background": "light"
     },
     "output_type": "display_data"
    }
   ],
   "source": [
    "plt.figure(figsize=(12,12))\n",
    "plt.subplot(2,1,1)\n",
    "large_metre_2020['trade_sort'].astype('str').value_counts(dropna=False).plot(kind='bar',title='远传大表')\n",
    "plt.subplot(2,1,2)\n",
    "smart_metre_2020['trade_sort'].astype('str').value_counts(dropna=False).plot(kind='bar')"
   ]
  },
  {
   "cell_type": "code",
   "execution_count": 114,
   "metadata": {},
   "outputs": [
    {
     "data": {
      "text/plain": [
       "<matplotlib.axes._subplots.AxesSubplot at 0x1b701365308>"
      ]
     },
     "execution_count": 114,
     "metadata": {},
     "output_type": "execute_result"
    },
    {
     "data": {
      "image/png": "[encoded data removed]",
      "text/plain": [
       "<Figure size 864x864 with 2 Axes>"
      ]
     },
     "metadata": {
      "needs_background": "light"
     },
     "output_type": "display_data"
    }
   ],
   "source": [
    "plt.figure(figsize=(12,12))\n",
    "plt.subplot(2,1,1)\n",
    "large_metre_2020['use_type_code'].astype('str').value_counts(dropna=False).plot(kind='bar',title='远传大表')\n",
    "plt.subplot(2,1,2)\n",
    "smart_metre_2020['use_type_code'].astype('str').value_counts(dropna=False).plot(kind='bar')"
   ]
  },
  {
   "cell_type": "code",
   "execution_count": 115,
   "metadata": {},
   "outputs": [
    {
     "data": {
      "text/plain": [
       "<matplotlib.axes._subplots.AxesSubplot at 0x1b701676108>"
      ]
     },
     "execution_count": 115,
     "metadata": {},
     "output_type": "execute_result"
    },
    {
     "data": {
      "image/png": "[encoded data removed]",
      "text/plain": [
       "<Figure size 864x864 with 2 Axes>"
      ]
     },
     "metadata": {
      "needs_background": "light"
     },
     "output_type": "display_data"
    }
   ],
   "source": [
    "plt.figure(figsize=(12,12))\n",
    "plt.subplot(2,1,1)\n",
    "large_metre_2020['meter_calibre'].astype('str').value_counts(dropna=False).plot(kind='bar',title='远传大表')\n",
    "plt.subplot(2,1,2)\n",
    "smart_metre_2020['meter_calibre'].astype('str').value_counts(dropna=False).plot(kind='bar')"
   ]
  },
  {
   "cell_type": "code",
   "execution_count": 116,
   "metadata": {},
   "outputs": [
    {
     "data": {
      "text/plain": [
       "<matplotlib.axes._subplots.AxesSubplot at 0x1b7020b3b48>"
      ]
     },
     "execution_count": 116,
     "metadata": {},
     "output_type": "execute_result"
    },
    {
     "data": {
      "image/png": "[encoded data removed]",
      "text/plain": [
       "<Figure size 864x864 with 2 Axes>"
      ]
     },
     "metadata": {
      "needs_background": "light"
     },
     "output_type": "display_data"
    }
   ],
   "source": [
    "plt.figure(figsize=(12,12))\n",
    "plt.subplot(2,1,1)\n",
    "large_metre_2020['user_ms_type'].astype('str').value_counts(dropna=False).plot(kind='bar',title='远传大表')\n",
    "plt.subplot(2,1,2)\n",
    "smart_metre_2020['user_ms_type'].astype('str').value_counts(dropna=False).plot(kind='bar')"
   ]
  },
  {
   "cell_type": "code",
   "execution_count": 134,
   "metadata": {},
   "outputs": [
    {
     "data": {
      "text/plain": [
       "<matplotlib.axes._subplots.AxesSubplot at 0x1b769966588>"
      ]
     },
     "execution_count": 134,
     "metadata": {},
     "output_type": "execute_result"
    },
    {
     "data": {
      "image/png": "[encoded data removed]",
      "text/plain": [
       "<Figure size 864x576 with 1 Axes>"
      ]
     },
     "metadata": {
      "needs_background": "light"
     },
     "output_type": "display_data"
    }
   ],
   "source": [
    "large_metre_2020.boxplot(column=[\"合计\"], by=\"meter_calibre\",figsize=(12,8))"
   ]
  },
  {
   "cell_type": "code",
   "execution_count": 131,
   "metadata": {},
   "outputs": [
    {
     "data": {
      "text/plain": [
       "<matplotlib.axes._subplots.AxesSubplot at 0x1b75c894dc8>"
      ]
     },
     "execution_count": 131,
     "metadata": {},
     "output_type": "execute_result"
    },
    {
     "data": {
      "image/png": "[encoded data removed]",
      "text/plain": [
       "<Figure size 864x576 with 1 Axes>"
      ]
     },
     "metadata": {
      "needs_background": "light"
     },
     "output_type": "display_data"
    }
   ],
   "source": [
    "smart_metre_2020.boxplot(column=[\"合计\"], by=\"meter_calibre\",figsize=(12,8))"
   ]
  },
  {
   "cell_type": "code",
   "execution_count": 129,
   "metadata": {},
   "outputs": [
    {
     "data": {
      "text/plain": [
       "<matplotlib.axes._subplots.AxesSubplot at 0x1b7594ada08>"
      ]
     },
     "execution_count": 129,
     "metadata": {},
     "output_type": "execute_result"
    },
    {
     "data": {
      "image/png": "[encoded data removed]",
      "text/plain": [
       "<Figure size 864x576 with 1 Axes>"
      ]
     },
     "metadata": {
      "needs_background": "light"
     },
     "output_type": "display_data"
    }
   ],
   "source": [
    "large_metre_2020.boxplot(column=[\"合计\"], by=\"use_type_code\",figsize=(12,8))"
   ]
  },
  {
   "cell_type": "code",
   "execution_count": 130,
   "metadata": {},
   "outputs": [
    {
     "data": {
      "text/plain": [
       "<matplotlib.axes._subplots.AxesSubplot at 0x1b75b73e7c8>"
      ]
     },
     "execution_count": 130,
     "metadata": {},
     "output_type": "execute_result"
    },
    {
     "data": {
      "text/plain": [
       "<Figure size 1440x720 with 0 Axes>"
      ]
     },
     "metadata": {},
     "output_type": "display_data"
    },
    {
     "data": {
      "image/png": "[encoded data removed]",
      "text/plain": [
       "<Figure size 864x576 with 1 Axes>"
      ]
     },
     "metadata": {
      "needs_background": "light"
     },
     "output_type": "display_data"
    }
   ],
   "source": [
    "plt.figure(figsize=(20,10))\n",
    "smart_metre_2020.boxplot(column=[\"合计\"], by=\"use_type_code\",figsize=(12,8))"
   ]
  },
  {
   "cell_type": "code",
   "execution_count": null,
   "metadata": {},
   "outputs": [],
   "source": [
    "print(\"远传系统2020年远传大表数量{}，营抄系统2020年远传大表清单表数量{}\".format(large_metre_2020['用户编号'].count(),large_metre_list['user_no'].count()))"
   ]
  },
  {
   "cell_type": "code",
   "execution_count": null,
   "metadata": {},
   "outputs": [],
   "source": [
    "print(\"远传系统2020年远传小表数量{}，营抄系统2020年远传小表清单表数量{}\".format(smart_metre_2020['用户编号'].count(),smart_metre_list['user_no'].count()))"
   ]
  },
  {
   "cell_type": "markdown",
   "metadata": {},
   "source": [
    "**获取远传大表不一致的编号**"
   ]
  },
  {
   "cell_type": "code",
   "execution_count": null,
   "metadata": {},
   "outputs": [],
   "source": [
    "len(set(large_metre_2020['用户编号'])&set(large_metre_list['user_no']))"
   ]
  },
  {
   "cell_type": "code",
   "execution_count": null,
   "metadata": {},
   "outputs": [],
   "source": [
    "large_metre_2020[large_metre_2020['用户编号'].\\\n",
    "                 isin(list(set(large_metre_2020['用户编号'])&set(large_metre_list['user_no'])))][:-1].\\\n",
    "to_csv('./数据导出/远传大表用户（同时在远传系统中和营抄系统中）.csv')"
   ]
  },
  {
   "cell_type": "code",
   "execution_count": null,
   "metadata": {},
   "outputs": [],
   "source": [
    "len(set(large_metre_list['user_no'])-set(large_metre_2020['用户编号']))"
   ]
  },
  {
   "cell_type": "markdown",
   "metadata": {},
   "source": [
    "在远传系统中不在营抄系统中的远传大表的用户编号清单"
   ]
  },
  {
   "cell_type": "code",
   "execution_count": null,
   "metadata": {},
   "outputs": [],
   "source": [
    "large_metre_2020[large_metre_2020['用户编号'].\\\n",
    "                 isin(list(set(large_metre_2020['用户编号'])-set(large_metre_list['user_no'])))][:-1].\\\n",
    "to_csv('./数据导出/远传大表用户（在远传系统中不在营抄系统中）.csv')"
   ]
  },
  {
   "cell_type": "markdown",
   "metadata": {},
   "source": [
    "在营抄系统中不在远传系统中的远传大表用户编号清单"
   ]
  },
  {
   "cell_type": "code",
   "execution_count": null,
   "metadata": {},
   "outputs": [],
   "source": [
    "large_metre_list[large_metre_list['user_no'].isin(list(set(large_metre_list['user_no'])-set(large_metre_2020['用户编号'])))].\\\n",
    "to_csv('./数据导出/远传大表用户（在营抄系统中不在远传系统中）.csv')"
   ]
  },
  {
   "cell_type": "markdown",
   "metadata": {},
   "source": [
    "**获取远传小表不一致的清单**"
   ]
  },
  {
   "cell_type": "code",
   "execution_count": null,
   "metadata": {},
   "outputs": [],
   "source": [
    "len(set(smart_metre_2020['用户编号'])&set(smart_metre_list['user_no']))\n",
    "len(set(smart_metre_2020['用户编号'])-set(smart_metre_list['user_no']))\n",
    "len(set(smart_metre_list['user_no'])-set(smart_metre_2020['用户编号']))"
   ]
  },
  {
   "cell_type": "code",
   "execution_count": null,
   "metadata": {},
   "outputs": [],
   "source": [
    "smart_metre_2020[smart_metre_2020['用户编号'].isin(list(set(smart_metre_2020['用户编号'])&set(smart_metre_list['user_no'])))][:-1].\\\n",
    "to_csv('./数据导出/远传小表用户(同时在远传系统和营抄系统中).csv')"
   ]
  },
  {
   "cell_type": "markdown",
   "metadata": {},
   "source": [
    "在远传系统中不在营抄系统中的远传小表的用户编号清单"
   ]
  },
  {
   "cell_type": "code",
   "execution_count": null,
   "metadata": {},
   "outputs": [],
   "source": [
    "smart_metre_2020[smart_metre_2020['用户编号'].isin(list(set(smart_metre_2020['用户编号'])-set(smart_metre_list['user_no'])))][:-1].\\\n",
    "to_csv('./数据导出/远传小表用户（在远传系统中不在营抄系统中）.csv')"
   ]
  },
  {
   "cell_type": "markdown",
   "metadata": {},
   "source": [
    "在营抄系统中不在远传系统中的小表用户编号清单"
   ]
  },
  {
   "cell_type": "code",
   "execution_count": null,
   "metadata": {},
   "outputs": [],
   "source": [
    "smart_metre_list[smart_metre_list['user_no'].isin(list(set(smart_metre_list['user_no'])-set(smart_metre_2020['用户编号'])))].\\\n",
    "to_csv('./数据导出/远传小表用户（在营抄系统中不在远传系统中）.csv')"
   ]
  },
  {
   "cell_type": "code",
   "execution_count": null,
   "metadata": {},
   "outputs": [],
   "source": []
  },
  {
   "cell_type": "code",
   "execution_count": null,
   "metadata": {},
   "outputs": [],
   "source": []
  }
 ],
 "metadata": {
  "kernelspec": {
   "display_name": "Python 3",
   "language": "python",
   "name": "python3"
  },
  "language_info": {
   "codemirror_mode": {
    "name": "ipython",
    "version": 3
   },
   "file_extension": ".py",
   "mimetype": "text/x-python",
   "name": "python",
   "nbconvert_exporter": "python",
   "pygments_lexer": "ipython3",
   "version": "3.7.4"
  }
 },
 "nbformat": 4,
 "nbformat_minor": 2
}
