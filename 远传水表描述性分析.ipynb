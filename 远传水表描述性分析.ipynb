{
 "cells": [
  {
   "cell_type": "markdown",
   "metadata": {},
   "source": [
    "**提取数据**"
   ]
  },
  {
   "cell_type": "code",
   "execution_count": 196,
   "metadata": {},
   "outputs": [],
   "source": [
    "%matplotlib inline\n",
    "import matplotlib as mpl\n",
    "mpl.rcParams['font.sans-serif'] = ['SimHei']  # 用来正常显示中文标签\n",
    "mpl.rcParams['axes.unicode_minus'] = False # 用来正常显示负号\n",
    "import matplotlib.pyplot as plt\n",
    "import pandas as pd\n",
    "import numpy as np\n",
    "import sys\n",
    "sys.path.append(r'./StatLedger/module')\n",
    "from printtable import print_table"
   ]
  },
  {
   "cell_type": "code",
   "execution_count": 197,
   "metadata": {},
   "outputs": [],
   "source": [
    "# large_metre_2019 = pd.read_excel(r'.\\自来水数据\\远传表原始数据\\远传系统2019年大口径智能表水量（1月1日至2月25日）.xlsx')\n",
    "# smart_metre_2019 = pd.read_excel(r'.\\自来水数据\\远传表原始数据\\远传系统2019年小口径智能表水量（1月1日至2月24日）.xlsx')"
   ]
  },
  {
   "cell_type": "code",
   "execution_count": 198,
   "metadata": {},
   "outputs": [],
   "source": [
    "large_metre_2020 = pd.read_excel(r'.\\自来水数据\\远传表原始数据\\远传系统2020年大口径智能表水量（1月1日至2月25日）.xlsx')\n",
    "smart_metre_2020 = pd.read_excel(r'.\\自来水数据\\远传表原始数据\\远传系统2020年小口径智能表水量（1月1日至2月24日）.xlsx')"
   ]
  },
  {
   "cell_type": "code",
   "execution_count": 199,
   "metadata": {},
   "outputs": [],
   "source": [
    "large_metre_2019 = large_metre_2019 [:-1].drop_duplicates()\n",
    "smart_metre_2019 = smart_metre_2019 [:-1].drop_duplicates()\n",
    "large_metre_2020 = large_metre_2020 [:-1].drop_duplicates()\n",
    "smart_metre_2020 = smart_metre_2020 [:-1].drop_duplicates()"
   ]
  },
  {
   "cell_type": "markdown",
   "metadata": {},
   "source": [
    "**修正远传系统用户编号格式**"
   ]
  },
  {
   "cell_type": "code",
   "execution_count": 200,
   "metadata": {},
   "outputs": [],
   "source": [
    "# large_metre_2020['用户编号'] =  large_metre_2020['用户编号'].astype('int').astype('str').replace('0',np.nan).str.pad(10,fillchar='0')\n",
    "large_metre_2020['用户编号'] = large_metre_2020['用户编号'].str[1:].str.pad(10,fillchar='0')"
   ]
  },
  {
   "cell_type": "code",
   "execution_count": 201,
   "metadata": {},
   "outputs": [],
   "source": [
    "smart_metre_2020['用户编号'] = smart_metre_2020['用户编号'].str[1:].str.pad(10,fillchar='0')"
   ]
  },
  {
   "cell_type": "code",
   "execution_count": 202,
   "metadata": {},
   "outputs": [
    {
     "name": "stdout",
     "output_type": "stream",
     "text": [
      "<class 'pandas.core.frame.DataFrame'>\n",
      "Int64Index: 9535 entries, 0 to 9534\n",
      "Data columns (total 65 columns):\n",
      "远传ID          9535 non-null float64\n",
      "数据编号          9535 non-null float64\n",
      "区册号           8255 non-null object\n",
      "用户编号          9535 non-null object\n",
      "用户名称          9365 non-null object\n",
      "用途            5168 non-null object\n",
      "性质            4940 non-null object\n",
      "口径            9135 non-null object\n",
      "数据编号.1        9535 non-null float64\n",
      "2020-01-01    8026 non-null float64\n",
      "2020-01-02    7698 non-null float64\n",
      "2020-01-03    8469 non-null float64\n",
      "2020-01-04    8668 non-null float64\n",
      "2020-01-05    8709 non-null float64\n",
      "2020-01-06    8947 non-null float64\n",
      "2020-01-07    8964 non-null float64\n",
      "2020-01-08    8976 non-null float64\n",
      "2020-01-09    8982 non-null float64\n",
      "2020-01-10    8976 non-null float64\n",
      "2020-01-11    8969 non-null float64\n",
      "2020-01-12    8964 non-null float64\n",
      "2020-01-13    8980 non-null float64\n",
      "2020-01-14    8979 non-null float64\n",
      "2020-01-15    8977 non-null float64\n",
      "2020-01-16    8842 non-null float64\n",
      "2020-01-17    8495 non-null float64\n",
      "2020-01-18    8484 non-null float64\n",
      "2020-01-19    8366 non-null float64\n",
      "2020-01-20    8630 non-null float64\n",
      "2020-01-21    9013 non-null float64\n",
      "2020-01-22    9035 non-null float64\n",
      "2020-01-23    9028 non-null float64\n",
      "2020-01-24    9059 non-null float64\n",
      "2020-01-25    9057 non-null float64\n",
      "2020-01-26    9013 non-null float64\n",
      "2020-01-27    8995 non-null float64\n",
      "2020-01-28    9010 non-null float64\n",
      "2020-01-29    8998 non-null float64\n",
      "2020-01-30    8971 non-null float64\n",
      "2020-01-31    8751 non-null float64\n",
      "2020-02-01    8749 non-null float64\n",
      "2020-02-02    8996 non-null float64\n",
      "2020-02-03    9002 non-null float64\n",
      "2020-02-04    8968 non-null float64\n",
      "2020-02-05    8956 non-null float64\n",
      "2020-02-06    8972 non-null float64\n",
      "2020-02-07    8980 non-null float64\n",
      "2020-02-08    8991 non-null float64\n",
      "2020-02-09    8978 non-null float64\n",
      "2020-02-10    9000 non-null float64\n",
      "2020-02-11    9001 non-null float64\n",
      "2020-02-12    9002 non-null float64\n",
      "2020-02-13    9000 non-null float64\n",
      "2020-02-14    8159 non-null float64\n",
      "2020-02-15    8143 non-null float64\n",
      "2020-02-16    8929 non-null float64\n",
      "2020-02-17    8943 non-null float64\n",
      "2020-02-18    8949 non-null float64\n",
      "2020-02-19    8929 non-null float64\n",
      "2020-02-20    8946 non-null float64\n",
      "2020-02-21    8987 non-null float64\n",
      "2020-02-22    8993 non-null float64\n",
      "2020-02-23    8973 non-null float64\n",
      "2020-02-24    8966 non-null float64\n",
      "合计            9535 non-null float64\n",
      "dtypes: float64(59), object(6)\n",
      "memory usage: 4.8+ MB\n"
     ]
    }
   ],
   "source": [
    "large_metre_2020.info()"
   ]
  },
  {
   "cell_type": "code",
   "execution_count": 203,
   "metadata": {},
   "outputs": [
    {
     "name": "stdout",
     "output_type": "stream",
     "text": [
      "<class 'pandas.core.frame.DataFrame'>\n",
      "Int64Index: 117355 entries, 0 to 117354\n",
      "Data columns (total 66 columns):\n",
      "远传ID          117355 non-null float64\n",
      "数据编号          117355 non-null float64\n",
      "区册号           117355 non-null object\n",
      "用户编号          117355 non-null object\n",
      "用户名称          117355 non-null object\n",
      "用途            90 non-null object\n",
      "性质            117355 non-null object\n",
      "口径            117352 non-null float64\n",
      "用户地址          117355 non-null object\n",
      "数据编号.1        117355 non-null float64\n",
      "2020-01-01    108196 non-null float64\n",
      "2020-01-02    106747 non-null float64\n",
      "2020-01-03    108050 non-null float64\n",
      "2020-01-04    109349 non-null float64\n",
      "2020-01-05    108950 non-null float64\n",
      "2020-01-06    108540 non-null float64\n",
      "2020-01-07    109705 non-null float64\n",
      "2020-01-08    109813 non-null float64\n",
      "2020-01-09    108966 non-null float64\n",
      "2020-01-10    110654 non-null float64\n",
      "2020-01-11    109468 non-null float64\n",
      "2020-01-12    98907 non-null float64\n",
      "2020-01-13    95167 non-null float64\n",
      "2020-01-14    75741 non-null float64\n",
      "2020-01-15    78908 non-null float64\n",
      "2020-01-16    99051 non-null float64\n",
      "2020-01-17    92897 non-null float64\n",
      "2020-01-18    96506 non-null float64\n",
      "2020-01-19    92236 non-null float64\n",
      "2020-01-20    98544 non-null float64\n",
      "2020-01-21    95051 non-null float64\n",
      "2020-01-22    95443 non-null float64\n",
      "2020-01-23    110047 non-null float64\n",
      "2020-01-24    110606 non-null float64\n",
      "2020-01-25    111884 non-null float64\n",
      "2020-01-26    111036 non-null float64\n",
      "2020-01-27    106245 non-null float64\n",
      "2020-01-28    89515 non-null float64\n",
      "2020-01-29    85644 non-null float64\n",
      "2020-01-30    93987 non-null float64\n",
      "2020-01-31    101544 non-null float64\n",
      "2020-02-01    109939 non-null float64\n",
      "2020-02-02    109405 non-null float64\n",
      "2020-02-03    94573 non-null float64\n",
      "2020-02-04    91077 non-null float64\n",
      "2020-02-05    99493 non-null float64\n",
      "2020-02-06    101947 non-null float64\n",
      "2020-02-07    103279 non-null float64\n",
      "2020-02-08    0 non-null float64\n",
      "2020-02-09    0 non-null float64\n",
      "2020-02-10    0 non-null float64\n",
      "2020-02-11    884 non-null float64\n",
      "2020-02-12    102095 non-null float64\n",
      "2020-02-13    102555 non-null float64\n",
      "2020-02-14    83026 non-null float64\n",
      "2020-02-15    83153 non-null float64\n",
      "2020-02-16    106349 non-null float64\n",
      "2020-02-17    106968 non-null float64\n",
      "2020-02-18    106966 non-null float64\n",
      "2020-02-19    105794 non-null float64\n",
      "2020-02-20    106868 non-null float64\n",
      "2020-02-21    106536 non-null float64\n",
      "2020-02-22    11474 non-null float64\n",
      "2020-02-23    4368 non-null float64\n",
      "2020-02-24    18941 non-null float64\n",
      "合计            117355 non-null float64\n",
      "dtypes: float64(60), object(6)\n",
      "memory usage: 60.0+ MB\n"
     ]
    }
   ],
   "source": [
    "smart_metre_2020.info()"
   ]
  },
  {
   "cell_type": "code",
   "execution_count": 204,
   "metadata": {},
   "outputs": [],
   "source": [
    "#提取用户名称\n",
    "import re \n",
    "\n",
    "large_metre_2020['用户名称']=large_metre_2020.apply(lambda x: re.sub(r'\\d{10}','',str(x['用户名称'])),axis=1)\n",
    "smart_metre_2020['用户名称']=smart_metre_2020.apply(lambda x: re.sub(r'\\d{10}','',str(x['用户名称'])),axis=1)"
   ]
  },
  {
   "cell_type": "code",
   "execution_count": 205,
   "metadata": {},
   "outputs": [],
   "source": [
    "large_metre_2020['远传ID']=large_metre_2020['远传ID'].astype('int').astype('str')\n",
    "smart_metre_2020['远传ID']=smart_metre_2020['远传ID'].astype('int').astype('str')"
   ]
  },
  {
   "cell_type": "code",
   "execution_count": 206,
   "metadata": {},
   "outputs": [
    {
     "data": {
      "text/plain": [
       "0       200\n",
       "1       NaN\n",
       "2       NaN\n",
       "3       100\n",
       "4        50\n",
       "       ... \n",
       "9530    NaN\n",
       "9531    NaN\n",
       "9532    NaN\n",
       "9533    NaN\n",
       "9534    NaN\n",
       "Name: 口径, Length: 9535, dtype: object"
      ]
     },
     "execution_count": 206,
     "metadata": {},
     "output_type": "execute_result"
    }
   ],
   "source": [
    "\n",
    "large_metre_2020['口径']"
   ]
  },
  {
   "cell_type": "code",
   "execution_count": 207,
   "metadata": {},
   "outputs": [
    {
     "data": {
      "text/html": [
       "<div>\n",
       "<style scoped>\n",
       "    .dataframe tbody tr th:only-of-type {\n",
       "        vertical-align: middle;\n",
       "    }\n",
       "\n",
       "    .dataframe tbody tr th {\n",
       "        vertical-align: top;\n",
       "    }\n",
       "\n",
       "    .dataframe thead th {\n",
       "        text-align: right;\n",
       "    }\n",
       "</style>\n",
       "<table border=\"1\" class=\"dataframe\">\n",
       "  <thead>\n",
       "    <tr style=\"text-align: right;\">\n",
       "      <th></th>\n",
       "      <th>远传ID</th>\n",
       "      <th>数据编号</th>\n",
       "      <th>区册号</th>\n",
       "      <th>用户编号</th>\n",
       "      <th>用户名称</th>\n",
       "      <th>用途</th>\n",
       "      <th>性质</th>\n",
       "      <th>口径</th>\n",
       "      <th>数据编号.1</th>\n",
       "      <th>2020-01-01</th>\n",
       "      <th>...</th>\n",
       "      <th>2020-02-16</th>\n",
       "      <th>2020-02-17</th>\n",
       "      <th>2020-02-18</th>\n",
       "      <th>2020-02-19</th>\n",
       "      <th>2020-02-20</th>\n",
       "      <th>2020-02-21</th>\n",
       "      <th>2020-02-22</th>\n",
       "      <th>2020-02-23</th>\n",
       "      <th>2020-02-24</th>\n",
       "      <th>合计</th>\n",
       "    </tr>\n",
       "  </thead>\n",
       "  <tbody>\n",
       "  </tbody>\n",
       "</table>\n",
       "<p>0 rows × 65 columns</p>\n",
       "</div>"
      ],
      "text/plain": [
       "Empty DataFrame\n",
       "Columns: [远传ID, 数据编号, 区册号, 用户编号, 用户名称, 用途, 性质, 口径, 数据编号.1, 2020-01-01, 2020-01-02, 2020-01-03, 2020-01-04, 2020-01-05, 2020-01-06, 2020-01-07, 2020-01-08, 2020-01-09, 2020-01-10, 2020-01-11, 2020-01-12, 2020-01-13, 2020-01-14, 2020-01-15, 2020-01-16, 2020-01-17, 2020-01-18, 2020-01-19, 2020-01-20, 2020-01-21, 2020-01-22, 2020-01-23, 2020-01-24, 2020-01-25, 2020-01-26, 2020-01-27, 2020-01-28, 2020-01-29, 2020-01-30, 2020-01-31, 2020-02-01, 2020-02-02, 2020-02-03, 2020-02-04, 2020-02-05, 2020-02-06, 2020-02-07, 2020-02-08, 2020-02-09, 2020-02-10, 2020-02-11, 2020-02-12, 2020-02-13, 2020-02-14, 2020-02-15, 2020-02-16, 2020-02-17, 2020-02-18, 2020-02-19, 2020-02-20, 2020-02-21, 2020-02-22, 2020-02-23, 2020-02-24, 合计]\n",
       "Index: []\n",
       "\n",
       "[0 rows x 65 columns]"
      ]
     },
     "execution_count": 207,
     "metadata": {},
     "output_type": "execute_result"
    }
   ],
   "source": [
    "large_metre_2020[large_metre_2020[['远传ID','用户编号']].isnull().any(axis=1)]"
   ]
  },
  {
   "cell_type": "code",
   "execution_count": 208,
   "metadata": {},
   "outputs": [
    {
     "data": {
      "text/html": [
       "<div>\n",
       "<style scoped>\n",
       "    .dataframe tbody tr th:only-of-type {\n",
       "        vertical-align: middle;\n",
       "    }\n",
       "\n",
       "    .dataframe tbody tr th {\n",
       "        vertical-align: top;\n",
       "    }\n",
       "\n",
       "    .dataframe thead th {\n",
       "        text-align: right;\n",
       "    }\n",
       "</style>\n",
       "<table border=\"1\" class=\"dataframe\">\n",
       "  <thead>\n",
       "    <tr style=\"text-align: right;\">\n",
       "      <th></th>\n",
       "      <th>远传ID</th>\n",
       "      <th>数据编号</th>\n",
       "      <th>区册号</th>\n",
       "      <th>用户编号</th>\n",
       "      <th>用户名称</th>\n",
       "      <th>用途</th>\n",
       "      <th>性质</th>\n",
       "      <th>口径</th>\n",
       "      <th>用户地址</th>\n",
       "      <th>数据编号.1</th>\n",
       "      <th>...</th>\n",
       "      <th>2020-02-16</th>\n",
       "      <th>2020-02-17</th>\n",
       "      <th>2020-02-18</th>\n",
       "      <th>2020-02-19</th>\n",
       "      <th>2020-02-20</th>\n",
       "      <th>2020-02-21</th>\n",
       "      <th>2020-02-22</th>\n",
       "      <th>2020-02-23</th>\n",
       "      <th>2020-02-24</th>\n",
       "      <th>合计</th>\n",
       "    </tr>\n",
       "  </thead>\n",
       "  <tbody>\n",
       "  </tbody>\n",
       "</table>\n",
       "<p>0 rows × 66 columns</p>\n",
       "</div>"
      ],
      "text/plain": [
       "Empty DataFrame\n",
       "Columns: [远传ID, 数据编号, 区册号, 用户编号, 用户名称, 用途, 性质, 口径, 用户地址, 数据编号.1, 2020-01-01, 2020-01-02, 2020-01-03, 2020-01-04, 2020-01-05, 2020-01-06, 2020-01-07, 2020-01-08, 2020-01-09, 2020-01-10, 2020-01-11, 2020-01-12, 2020-01-13, 2020-01-14, 2020-01-15, 2020-01-16, 2020-01-17, 2020-01-18, 2020-01-19, 2020-01-20, 2020-01-21, 2020-01-22, 2020-01-23, 2020-01-24, 2020-01-25, 2020-01-26, 2020-01-27, 2020-01-28, 2020-01-29, 2020-01-30, 2020-01-31, 2020-02-01, 2020-02-02, 2020-02-03, 2020-02-04, 2020-02-05, 2020-02-06, 2020-02-07, 2020-02-08, 2020-02-09, 2020-02-10, 2020-02-11, 2020-02-12, 2020-02-13, 2020-02-14, 2020-02-15, 2020-02-16, 2020-02-17, 2020-02-18, 2020-02-19, 2020-02-20, 2020-02-21, 2020-02-22, 2020-02-23, 2020-02-24, 合计]\n",
       "Index: []\n",
       "\n",
       "[0 rows x 66 columns]"
      ]
     },
     "execution_count": 208,
     "metadata": {},
     "output_type": "execute_result"
    }
   ],
   "source": [
    "smart_metre_2020[smart_metre_2020[['远传ID','用户编号']].isnull().any(axis=1)]"
   ]
  },
  {
   "cell_type": "code",
   "execution_count": 209,
   "metadata": {},
   "outputs": [
    {
     "data": {
      "text/html": [
       "<div>\n",
       "<style scoped>\n",
       "    .dataframe tbody tr th:only-of-type {\n",
       "        vertical-align: middle;\n",
       "    }\n",
       "\n",
       "    .dataframe tbody tr th {\n",
       "        vertical-align: top;\n",
       "    }\n",
       "\n",
       "    .dataframe thead th {\n",
       "        text-align: right;\n",
       "    }\n",
       "</style>\n",
       "<table border=\"1\" class=\"dataframe\">\n",
       "  <thead>\n",
       "    <tr style=\"text-align: right;\">\n",
       "      <th></th>\n",
       "      <th>远传ID</th>\n",
       "      <th>数据编号</th>\n",
       "      <th>区册号</th>\n",
       "      <th>用户编号</th>\n",
       "      <th>用户名称</th>\n",
       "      <th>用途</th>\n",
       "      <th>性质</th>\n",
       "      <th>口径</th>\n",
       "      <th>数据编号.1</th>\n",
       "      <th>2020-01-01</th>\n",
       "      <th>...</th>\n",
       "      <th>2020-02-16</th>\n",
       "      <th>2020-02-17</th>\n",
       "      <th>2020-02-18</th>\n",
       "      <th>2020-02-19</th>\n",
       "      <th>2020-02-20</th>\n",
       "      <th>2020-02-21</th>\n",
       "      <th>2020-02-22</th>\n",
       "      <th>2020-02-23</th>\n",
       "      <th>2020-02-24</th>\n",
       "      <th>合计</th>\n",
       "    </tr>\n",
       "  </thead>\n",
       "  <tbody>\n",
       "    <tr>\n",
       "      <th>2773</th>\n",
       "      <td>91830142</td>\n",
       "      <td>9.918301e+11</td>\n",
       "      <td>3105021500</td>\n",
       "      <td>0030187199</td>\n",
       "      <td>广东省广州市白云区金沙洲B3734F02.04地块</td>\n",
       "      <td>计费</td>\n",
       "      <td>NaN</td>\n",
       "      <td>100</td>\n",
       "      <td>9.918301e+11</td>\n",
       "      <td>85.800000</td>\n",
       "      <td>...</td>\n",
       "      <td>65.1</td>\n",
       "      <td>72.3</td>\n",
       "      <td>66.7</td>\n",
       "      <td>64.8</td>\n",
       "      <td>63.5</td>\n",
       "      <td>69.5</td>\n",
       "      <td>70.1</td>\n",
       "      <td>66.799999</td>\n",
       "      <td>68.300001</td>\n",
       "      <td>3961.800000</td>\n",
       "    </tr>\n",
       "    <tr>\n",
       "      <th>2788</th>\n",
       "      <td>91830142</td>\n",
       "      <td>9.918301e+11</td>\n",
       "      <td>3105021500</td>\n",
       "      <td>0030187199</td>\n",
       "      <td>白云区金沙洲保障房</td>\n",
       "      <td>计费</td>\n",
       "      <td>NaN</td>\n",
       "      <td>NaN</td>\n",
       "      <td>9.918301e+11</td>\n",
       "      <td>0.000000</td>\n",
       "      <td>...</td>\n",
       "      <td>0.0</td>\n",
       "      <td>0.0</td>\n",
       "      <td>0.0</td>\n",
       "      <td>0.0</td>\n",
       "      <td>0.0</td>\n",
       "      <td>0.0</td>\n",
       "      <td>0.0</td>\n",
       "      <td>0.000000</td>\n",
       "      <td>0.000000</td>\n",
       "      <td>0.000000</td>\n",
       "    </tr>\n",
       "    <tr>\n",
       "      <th>3023</th>\n",
       "      <td>91830159</td>\n",
       "      <td>9.918302e+11</td>\n",
       "      <td>3075011900</td>\n",
       "      <td>0022002381</td>\n",
       "      <td>芳村龙溪路原高尔夫球场AF030614地块隽泷园一期</td>\n",
       "      <td>NaN</td>\n",
       "      <td>NaN</td>\n",
       "      <td>NaN</td>\n",
       "      <td>9.918302e+11</td>\n",
       "      <td>0.000000</td>\n",
       "      <td>...</td>\n",
       "      <td>0.0</td>\n",
       "      <td>0.0</td>\n",
       "      <td>0.0</td>\n",
       "      <td>0.0</td>\n",
       "      <td>0.0</td>\n",
       "      <td>0.0</td>\n",
       "      <td>0.0</td>\n",
       "      <td>0.000000</td>\n",
       "      <td>0.000000</td>\n",
       "      <td>0.000000</td>\n",
       "    </tr>\n",
       "    <tr>\n",
       "      <th>3024</th>\n",
       "      <td>91830159</td>\n",
       "      <td>9.918302e+11</td>\n",
       "      <td>3075011900</td>\n",
       "      <td>0022002381</td>\n",
       "      <td>芳村龙溪路原高尔夫球场AF030614地块隽泷园一期</td>\n",
       "      <td>NaN</td>\n",
       "      <td>NaN</td>\n",
       "      <td>100</td>\n",
       "      <td>9.918302e+11</td>\n",
       "      <td>2.699999</td>\n",
       "      <td>...</td>\n",
       "      <td>11.0</td>\n",
       "      <td>NaN</td>\n",
       "      <td>5306.8</td>\n",
       "      <td>5.2</td>\n",
       "      <td>11.0</td>\n",
       "      <td>16.3</td>\n",
       "      <td>2.3</td>\n",
       "      <td>2.500000</td>\n",
       "      <td>3.000000</td>\n",
       "      <td>16067.599998</td>\n",
       "    </tr>\n",
       "  </tbody>\n",
       "</table>\n",
       "<p>4 rows × 65 columns</p>\n",
       "</div>"
      ],
      "text/plain": [
       "          远传ID          数据编号         区册号        用户编号  \\\n",
       "2773  91830142  9.918301e+11  3105021500  0030187199   \n",
       "2788  91830142  9.918301e+11  3105021500  0030187199   \n",
       "3023  91830159  9.918302e+11  3075011900  0022002381   \n",
       "3024  91830159  9.918302e+11  3075011900  0022002381   \n",
       "\n",
       "                            用户名称   用途   性质   口径        数据编号.1  2020-01-01  \\\n",
       "2773   广东省广州市白云区金沙洲B3734F02.04地块   计费  NaN  100  9.918301e+11   85.800000   \n",
       "2788                   白云区金沙洲保障房   计费  NaN  NaN  9.918301e+11    0.000000   \n",
       "3023  芳村龙溪路原高尔夫球场AF030614地块隽泷园一期  NaN  NaN  NaN  9.918302e+11    0.000000   \n",
       "3024  芳村龙溪路原高尔夫球场AF030614地块隽泷园一期  NaN  NaN  100  9.918302e+11    2.699999   \n",
       "\n",
       "      ...  2020-02-16  2020-02-17  2020-02-18  2020-02-19  2020-02-20  \\\n",
       "2773  ...        65.1        72.3        66.7        64.8        63.5   \n",
       "2788  ...         0.0         0.0         0.0         0.0         0.0   \n",
       "3023  ...         0.0         0.0         0.0         0.0         0.0   \n",
       "3024  ...        11.0         NaN      5306.8         5.2        11.0   \n",
       "\n",
       "      2020-02-21  2020-02-22  2020-02-23  2020-02-24            合计  \n",
       "2773        69.5        70.1   66.799999   68.300001   3961.800000  \n",
       "2788         0.0         0.0    0.000000    0.000000      0.000000  \n",
       "3023         0.0         0.0    0.000000    0.000000      0.000000  \n",
       "3024        16.3         2.3    2.500000    3.000000  16067.599998  \n",
       "\n",
       "[4 rows x 65 columns]"
      ]
     },
     "execution_count": 209,
     "metadata": {},
     "output_type": "execute_result"
    }
   ],
   "source": [
    "#大表同用户编号，远传ID情况\n",
    "large_metre_2020[large_metre_2020.duplicated(['远传ID','用户编号'],keep=False)].sort_values('用户编号',ascending=False)"
   ]
  },
  {
   "cell_type": "code",
   "execution_count": 210,
   "metadata": {},
   "outputs": [
    {
     "data": {
      "text/html": [
       "<div>\n",
       "<style scoped>\n",
       "    .dataframe tbody tr th:only-of-type {\n",
       "        vertical-align: middle;\n",
       "    }\n",
       "\n",
       "    .dataframe tbody tr th {\n",
       "        vertical-align: top;\n",
       "    }\n",
       "\n",
       "    .dataframe thead th {\n",
       "        text-align: right;\n",
       "    }\n",
       "</style>\n",
       "<table border=\"1\" class=\"dataframe\">\n",
       "  <thead>\n",
       "    <tr style=\"text-align: right;\">\n",
       "      <th></th>\n",
       "      <th>远传ID</th>\n",
       "      <th>数据编号</th>\n",
       "      <th>区册号</th>\n",
       "      <th>用户编号</th>\n",
       "      <th>用户名称</th>\n",
       "      <th>用途</th>\n",
       "      <th>性质</th>\n",
       "      <th>口径</th>\n",
       "      <th>数据编号.1</th>\n",
       "      <th>2020-01-01</th>\n",
       "      <th>...</th>\n",
       "      <th>2020-02-16</th>\n",
       "      <th>2020-02-17</th>\n",
       "      <th>2020-02-18</th>\n",
       "      <th>2020-02-19</th>\n",
       "      <th>2020-02-20</th>\n",
       "      <th>2020-02-21</th>\n",
       "      <th>2020-02-22</th>\n",
       "      <th>2020-02-23</th>\n",
       "      <th>2020-02-24</th>\n",
       "      <th>合计</th>\n",
       "    </tr>\n",
       "  </thead>\n",
       "  <tbody>\n",
       "  </tbody>\n",
       "</table>\n",
       "<p>0 rows × 65 columns</p>\n",
       "</div>"
      ],
      "text/plain": [
       "Empty DataFrame\n",
       "Columns: [远传ID, 数据编号, 区册号, 用户编号, 用户名称, 用途, 性质, 口径, 数据编号.1, 2020-01-01, 2020-01-02, 2020-01-03, 2020-01-04, 2020-01-05, 2020-01-06, 2020-01-07, 2020-01-08, 2020-01-09, 2020-01-10, 2020-01-11, 2020-01-12, 2020-01-13, 2020-01-14, 2020-01-15, 2020-01-16, 2020-01-17, 2020-01-18, 2020-01-19, 2020-01-20, 2020-01-21, 2020-01-22, 2020-01-23, 2020-01-24, 2020-01-25, 2020-01-26, 2020-01-27, 2020-01-28, 2020-01-29, 2020-01-30, 2020-01-31, 2020-02-01, 2020-02-02, 2020-02-03, 2020-02-04, 2020-02-05, 2020-02-06, 2020-02-07, 2020-02-08, 2020-02-09, 2020-02-10, 2020-02-11, 2020-02-12, 2020-02-13, 2020-02-14, 2020-02-15, 2020-02-16, 2020-02-17, 2020-02-18, 2020-02-19, 2020-02-20, 2020-02-21, 2020-02-22, 2020-02-23, 2020-02-24, 合计]\n",
       "Index: []\n",
       "\n",
       "[0 rows x 65 columns]"
      ]
     },
     "execution_count": 210,
     "metadata": {},
     "output_type": "execute_result"
    }
   ],
   "source": [
    "#\n",
    "large_metre_2020.drop([2788,3023],inplace=True)\n",
    "\n",
    "large_metre_2020[large_metre_2020.duplicated(['远传ID','用户编号'],keep=False)]"
   ]
  },
  {
   "cell_type": "code",
   "execution_count": 211,
   "metadata": {},
   "outputs": [
    {
     "name": "stdout",
     "output_type": "stream",
     "text": [
      "nan                     170\n",
      "广州市住房保障办公室              157\n",
      "广州市地下铁道总公司               70\n",
      "广州市土地开发中心                42\n",
      "保利房地产（集团）股份有限公司          32\n",
      "                       ... \n",
      "广东水利电力职业技术学院              1\n",
      "庆丰                        1\n",
      "文冲村委会                     1\n",
      "广州市长湴村委会广州市敦本盛实业有限公司      1\n",
      "广州中信厚德物业管理有限公司            1\n",
      "Name: 用户名称, Length: 6527, dtype: int64\n",
      "nan                     0.017833\n",
      "广州市住房保障办公室              0.016469\n",
      "广州市地下铁道总公司              0.007343\n",
      "广州市土地开发中心               0.004406\n",
      "保利房地产（集团）股份有限公司         0.003357\n",
      "                          ...   \n",
      "广东水利电力职业技术学院            0.000105\n",
      "庆丰                      0.000105\n",
      "文冲村委会                   0.000105\n",
      "广州市长湴村委会广州市敦本盛实业有限公司    0.000105\n",
      "广州中信厚德物业管理有限公司          0.000105\n",
      "Name: 用户名称, Length: 6527, dtype: float64\n",
      "住户               3468\n",
      "待定               2344\n",
      "广州市怡康物业管理有限公司     356\n",
      "恒大地产集团有限公司        336\n",
      "广州市住房保障办公室        143\n",
      "                 ... \n",
      "孔祥彬                 1\n",
      "何伟耀彭结英              1\n",
      "伍艺敏                 1\n",
      "冯爱娟                 1\n",
      "岑菁                  1\n",
      "Name: 用户名称, Length: 92356, dtype: int64\n",
      "住户               0.029551\n",
      "待定               0.019974\n",
      "广州市怡康物业管理有限公司    0.003034\n",
      "恒大地产集团有限公司       0.002863\n",
      "广州市住房保障办公室       0.001219\n",
      "                   ...   \n",
      "孔祥彬              0.000009\n",
      "何伟耀彭结英           0.000009\n",
      "伍艺敏              0.000009\n",
      "冯爱娟              0.000009\n",
      "岑菁               0.000009\n",
      "Name: 用户名称, Length: 92356, dtype: float64\n"
     ]
    }
   ],
   "source": [
    "print(large_metre_2020['用户名称'].value_counts(dropna=False))\n",
    "print(large_metre_2020['用户名称'].value_counts(dropna=False,normalize=1))\n",
    "print(smart_metre_2020['用户名称'].value_counts(dropna=False))\n",
    "\n",
    "print(smart_metre_2020['用户名称'].value_counts(dropna=False,normalize=1))"
   ]
  },
  {
   "cell_type": "code",
   "execution_count": 212,
   "metadata": {},
   "outputs": [
    {
     "data": {
      "text/html": [
       "<div>\n",
       "<style scoped>\n",
       "    .dataframe tbody tr th:only-of-type {\n",
       "        vertical-align: middle;\n",
       "    }\n",
       "\n",
       "    .dataframe tbody tr th {\n",
       "        vertical-align: top;\n",
       "    }\n",
       "\n",
       "    .dataframe thead th {\n",
       "        text-align: right;\n",
       "    }\n",
       "</style>\n",
       "<table border=\"1\" class=\"dataframe\">\n",
       "  <thead>\n",
       "    <tr style=\"text-align: right;\">\n",
       "      <th></th>\n",
       "      <th>远传ID</th>\n",
       "      <th>数据编号</th>\n",
       "      <th>区册号</th>\n",
       "      <th>用户编号</th>\n",
       "      <th>用户名称</th>\n",
       "      <th>用途</th>\n",
       "      <th>性质</th>\n",
       "      <th>口径</th>\n",
       "      <th>数据编号.1</th>\n",
       "      <th>2020-01-01</th>\n",
       "      <th>...</th>\n",
       "      <th>2020-02-16</th>\n",
       "      <th>2020-02-17</th>\n",
       "      <th>2020-02-18</th>\n",
       "      <th>2020-02-19</th>\n",
       "      <th>2020-02-20</th>\n",
       "      <th>2020-02-21</th>\n",
       "      <th>2020-02-22</th>\n",
       "      <th>2020-02-23</th>\n",
       "      <th>2020-02-24</th>\n",
       "      <th>合计</th>\n",
       "    </tr>\n",
       "  </thead>\n",
       "  <tbody>\n",
       "    <tr>\n",
       "      <th>9365</th>\n",
       "      <td>67190012</td>\n",
       "      <td>6.719001e+11</td>\n",
       "      <td>NaN</td>\n",
       "      <td>0035377102</td>\n",
       "      <td>nan</td>\n",
       "      <td>计费</td>\n",
       "      <td>NaN</td>\n",
       "      <td>NaN</td>\n",
       "      <td>6.719001e+11</td>\n",
       "      <td>1.000000</td>\n",
       "      <td>...</td>\n",
       "      <td>1.200001</td>\n",
       "      <td>1.100000</td>\n",
       "      <td>1.100000</td>\n",
       "      <td>0.900000</td>\n",
       "      <td>0.900000</td>\n",
       "      <td>0.700000</td>\n",
       "      <td>0.800000</td>\n",
       "      <td>0.700000</td>\n",
       "      <td>1.099999</td>\n",
       "      <td>64.400001</td>\n",
       "    </tr>\n",
       "    <tr>\n",
       "      <th>9366</th>\n",
       "      <td>67190261</td>\n",
       "      <td>6.719026e+11</td>\n",
       "      <td>NaN</td>\n",
       "      <td>0021899036</td>\n",
       "      <td>nan</td>\n",
       "      <td>计费</td>\n",
       "      <td>NaN</td>\n",
       "      <td>NaN</td>\n",
       "      <td>6.719026e+11</td>\n",
       "      <td>0.000000</td>\n",
       "      <td>...</td>\n",
       "      <td>0.600001</td>\n",
       "      <td>0.799999</td>\n",
       "      <td>0.800001</td>\n",
       "      <td>0.699999</td>\n",
       "      <td>1.100000</td>\n",
       "      <td>1.000000</td>\n",
       "      <td>0.800001</td>\n",
       "      <td>0.900000</td>\n",
       "      <td>1.000000</td>\n",
       "      <td>101.499999</td>\n",
       "    </tr>\n",
       "    <tr>\n",
       "      <th>9367</th>\n",
       "      <td>67190034</td>\n",
       "      <td>6.719003e+11</td>\n",
       "      <td>NaN</td>\n",
       "      <td>0022311346</td>\n",
       "      <td>nan</td>\n",
       "      <td>计费</td>\n",
       "      <td>NaN</td>\n",
       "      <td>NaN</td>\n",
       "      <td>6.719003e+11</td>\n",
       "      <td>15.700000</td>\n",
       "      <td>...</td>\n",
       "      <td>18.500000</td>\n",
       "      <td>34.599999</td>\n",
       "      <td>32.100001</td>\n",
       "      <td>24.500000</td>\n",
       "      <td>24.399999</td>\n",
       "      <td>29.200000</td>\n",
       "      <td>28.100001</td>\n",
       "      <td>43.699999</td>\n",
       "      <td>30.200000</td>\n",
       "      <td>1144.599998</td>\n",
       "    </tr>\n",
       "    <tr>\n",
       "      <th>9368</th>\n",
       "      <td>69985209</td>\n",
       "      <td>6.998521e+11</td>\n",
       "      <td>NaN</td>\n",
       "      <td>0010478455</td>\n",
       "      <td>nan</td>\n",
       "      <td>计费</td>\n",
       "      <td>NaN</td>\n",
       "      <td>NaN</td>\n",
       "      <td>6.998521e+11</td>\n",
       "      <td>15.179999</td>\n",
       "      <td>...</td>\n",
       "      <td>10.150000</td>\n",
       "      <td>6.210000</td>\n",
       "      <td>7.430000</td>\n",
       "      <td>7.800000</td>\n",
       "      <td>11.940000</td>\n",
       "      <td>10.000000</td>\n",
       "      <td>8.729999</td>\n",
       "      <td>13.560001</td>\n",
       "      <td>10.109999</td>\n",
       "      <td>558.569999</td>\n",
       "    </tr>\n",
       "    <tr>\n",
       "      <th>9369</th>\n",
       "      <td>69984640</td>\n",
       "      <td>6.998464e+11</td>\n",
       "      <td>NaN</td>\n",
       "      <td>0006323598</td>\n",
       "      <td>nan</td>\n",
       "      <td>计费</td>\n",
       "      <td>NaN</td>\n",
       "      <td>NaN</td>\n",
       "      <td>6.998464e+11</td>\n",
       "      <td>103.700000</td>\n",
       "      <td>...</td>\n",
       "      <td>93.000000</td>\n",
       "      <td>114.700000</td>\n",
       "      <td>117.699999</td>\n",
       "      <td>98.600001</td>\n",
       "      <td>97.700000</td>\n",
       "      <td>101.500000</td>\n",
       "      <td>93.500000</td>\n",
       "      <td>99.000000</td>\n",
       "      <td>97.699999</td>\n",
       "      <td>4744.299999</td>\n",
       "    </tr>\n",
       "    <tr>\n",
       "      <th>...</th>\n",
       "      <td>...</td>\n",
       "      <td>...</td>\n",
       "      <td>...</td>\n",
       "      <td>...</td>\n",
       "      <td>...</td>\n",
       "      <td>...</td>\n",
       "      <td>...</td>\n",
       "      <td>...</td>\n",
       "      <td>...</td>\n",
       "      <td>...</td>\n",
       "      <td>...</td>\n",
       "      <td>...</td>\n",
       "      <td>...</td>\n",
       "      <td>...</td>\n",
       "      <td>...</td>\n",
       "      <td>...</td>\n",
       "      <td>...</td>\n",
       "      <td>...</td>\n",
       "      <td>...</td>\n",
       "      <td>...</td>\n",
       "      <td>...</td>\n",
       "    </tr>\n",
       "    <tr>\n",
       "      <th>9530</th>\n",
       "      <td>67190459</td>\n",
       "      <td>6.719046e+11</td>\n",
       "      <td>NaN</td>\n",
       "      <td>0006049599</td>\n",
       "      <td>nan</td>\n",
       "      <td>计费</td>\n",
       "      <td>NaN</td>\n",
       "      <td>NaN</td>\n",
       "      <td>6.719046e+11</td>\n",
       "      <td>207.200001</td>\n",
       "      <td>...</td>\n",
       "      <td>34.500000</td>\n",
       "      <td>32.899999</td>\n",
       "      <td>34.100001</td>\n",
       "      <td>36.200000</td>\n",
       "      <td>37.000000</td>\n",
       "      <td>37.399999</td>\n",
       "      <td>72.500000</td>\n",
       "      <td>63.300000</td>\n",
       "      <td>72.900001</td>\n",
       "      <td>5338.200001</td>\n",
       "    </tr>\n",
       "    <tr>\n",
       "      <th>9531</th>\n",
       "      <td>69177424</td>\n",
       "      <td>6.917742e+11</td>\n",
       "      <td>NaN</td>\n",
       "      <td>0010166013</td>\n",
       "      <td>nan</td>\n",
       "      <td>计费</td>\n",
       "      <td>NaN</td>\n",
       "      <td>NaN</td>\n",
       "      <td>6.917742e+11</td>\n",
       "      <td>61.540001</td>\n",
       "      <td>...</td>\n",
       "      <td>15.820000</td>\n",
       "      <td>18.229999</td>\n",
       "      <td>14.820000</td>\n",
       "      <td>14.430000</td>\n",
       "      <td>7.270001</td>\n",
       "      <td>9.199999</td>\n",
       "      <td>14.100000</td>\n",
       "      <td>14.290001</td>\n",
       "      <td>6.480000</td>\n",
       "      <td>1124.590002</td>\n",
       "    </tr>\n",
       "    <tr>\n",
       "      <th>9532</th>\n",
       "      <td>69990548</td>\n",
       "      <td>6.999055e+11</td>\n",
       "      <td>NaN</td>\n",
       "      <td>0021970346</td>\n",
       "      <td>nan</td>\n",
       "      <td>计费</td>\n",
       "      <td>NaN</td>\n",
       "      <td>NaN</td>\n",
       "      <td>6.999055e+11</td>\n",
       "      <td>1.480000</td>\n",
       "      <td>...</td>\n",
       "      <td>92.610001</td>\n",
       "      <td>90.340000</td>\n",
       "      <td>90.580000</td>\n",
       "      <td>90.190000</td>\n",
       "      <td>91.679999</td>\n",
       "      <td>94.300001</td>\n",
       "      <td>90.319999</td>\n",
       "      <td>92.110000</td>\n",
       "      <td>92.640000</td>\n",
       "      <td>3232.790000</td>\n",
       "    </tr>\n",
       "    <tr>\n",
       "      <th>9533</th>\n",
       "      <td>69976091</td>\n",
       "      <td>6.997609e+11</td>\n",
       "      <td>NaN</td>\n",
       "      <td>0006201630</td>\n",
       "      <td>nan</td>\n",
       "      <td>计费</td>\n",
       "      <td>NaN</td>\n",
       "      <td>NaN</td>\n",
       "      <td>6.997609e+11</td>\n",
       "      <td>165.099999</td>\n",
       "      <td>...</td>\n",
       "      <td>158.500000</td>\n",
       "      <td>160.200000</td>\n",
       "      <td>166.300000</td>\n",
       "      <td>158.900001</td>\n",
       "      <td>159.700000</td>\n",
       "      <td>163.099999</td>\n",
       "      <td>162.400001</td>\n",
       "      <td>154.300000</td>\n",
       "      <td>171.099999</td>\n",
       "      <td>7594.199997</td>\n",
       "    </tr>\n",
       "    <tr>\n",
       "      <th>9534</th>\n",
       "      <td>67190942</td>\n",
       "      <td>6.719094e+11</td>\n",
       "      <td>NaN</td>\n",
       "      <td>0015208138</td>\n",
       "      <td>nan</td>\n",
       "      <td>计费</td>\n",
       "      <td>NaN</td>\n",
       "      <td>NaN</td>\n",
       "      <td>6.719094e+11</td>\n",
       "      <td>93.000000</td>\n",
       "      <td>...</td>\n",
       "      <td>12.400000</td>\n",
       "      <td>57.699999</td>\n",
       "      <td>67.600000</td>\n",
       "      <td>61.900000</td>\n",
       "      <td>61.800001</td>\n",
       "      <td>61.000000</td>\n",
       "      <td>20.000000</td>\n",
       "      <td>18.400000</td>\n",
       "      <td>78.200000</td>\n",
       "      <td>5172.999999</td>\n",
       "    </tr>\n",
       "  </tbody>\n",
       "</table>\n",
       "<p>170 rows × 65 columns</p>\n",
       "</div>"
      ],
      "text/plain": [
       "          远传ID          数据编号  区册号        用户编号 用户名称  用途   性质   口径  \\\n",
       "9365  67190012  6.719001e+11  NaN  0035377102  nan  计费  NaN  NaN   \n",
       "9366  67190261  6.719026e+11  NaN  0021899036  nan  计费  NaN  NaN   \n",
       "9367  67190034  6.719003e+11  NaN  0022311346  nan  计费  NaN  NaN   \n",
       "9368  69985209  6.998521e+11  NaN  0010478455  nan  计费  NaN  NaN   \n",
       "9369  69984640  6.998464e+11  NaN  0006323598  nan  计费  NaN  NaN   \n",
       "...        ...           ...  ...         ...  ...  ..  ...  ...   \n",
       "9530  67190459  6.719046e+11  NaN  0006049599  nan  计费  NaN  NaN   \n",
       "9531  69177424  6.917742e+11  NaN  0010166013  nan  计费  NaN  NaN   \n",
       "9532  69990548  6.999055e+11  NaN  0021970346  nan  计费  NaN  NaN   \n",
       "9533  69976091  6.997609e+11  NaN  0006201630  nan  计费  NaN  NaN   \n",
       "9534  67190942  6.719094e+11  NaN  0015208138  nan  计费  NaN  NaN   \n",
       "\n",
       "            数据编号.1  2020-01-01  ...  2020-02-16  2020-02-17  2020-02-18  \\\n",
       "9365  6.719001e+11    1.000000  ...    1.200001    1.100000    1.100000   \n",
       "9366  6.719026e+11    0.000000  ...    0.600001    0.799999    0.800001   \n",
       "9367  6.719003e+11   15.700000  ...   18.500000   34.599999   32.100001   \n",
       "9368  6.998521e+11   15.179999  ...   10.150000    6.210000    7.430000   \n",
       "9369  6.998464e+11  103.700000  ...   93.000000  114.700000  117.699999   \n",
       "...            ...         ...  ...         ...         ...         ...   \n",
       "9530  6.719046e+11  207.200001  ...   34.500000   32.899999   34.100001   \n",
       "9531  6.917742e+11   61.540001  ...   15.820000   18.229999   14.820000   \n",
       "9532  6.999055e+11    1.480000  ...   92.610001   90.340000   90.580000   \n",
       "9533  6.997609e+11  165.099999  ...  158.500000  160.200000  166.300000   \n",
       "9534  6.719094e+11   93.000000  ...   12.400000   57.699999   67.600000   \n",
       "\n",
       "      2020-02-19  2020-02-20  2020-02-21  2020-02-22  2020-02-23  2020-02-24  \\\n",
       "9365    0.900000    0.900000    0.700000    0.800000    0.700000    1.099999   \n",
       "9366    0.699999    1.100000    1.000000    0.800001    0.900000    1.000000   \n",
       "9367   24.500000   24.399999   29.200000   28.100001   43.699999   30.200000   \n",
       "9368    7.800000   11.940000   10.000000    8.729999   13.560001   10.109999   \n",
       "9369   98.600001   97.700000  101.500000   93.500000   99.000000   97.699999   \n",
       "...          ...         ...         ...         ...         ...         ...   \n",
       "9530   36.200000   37.000000   37.399999   72.500000   63.300000   72.900001   \n",
       "9531   14.430000    7.270001    9.199999   14.100000   14.290001    6.480000   \n",
       "9532   90.190000   91.679999   94.300001   90.319999   92.110000   92.640000   \n",
       "9533  158.900001  159.700000  163.099999  162.400001  154.300000  171.099999   \n",
       "9534   61.900000   61.800001   61.000000   20.000000   18.400000   78.200000   \n",
       "\n",
       "               合计  \n",
       "9365    64.400001  \n",
       "9366   101.499999  \n",
       "9367  1144.599998  \n",
       "9368   558.569999  \n",
       "9369  4744.299999  \n",
       "...           ...  \n",
       "9530  5338.200001  \n",
       "9531  1124.590002  \n",
       "9532  3232.790000  \n",
       "9533  7594.199997  \n",
       "9534  5172.999999  \n",
       "\n",
       "[170 rows x 65 columns]"
      ]
     },
     "execution_count": 212,
     "metadata": {},
     "output_type": "execute_result"
    }
   ],
   "source": [
    "large_metre_2020[large_metre_2020['用户名称']=='nan']"
   ]
  },
  {
   "cell_type": "code",
   "execution_count": 213,
   "metadata": {},
   "outputs": [
    {
     "data": {
      "text/html": [
       "<div>\n",
       "<style scoped>\n",
       "    .dataframe tbody tr th:only-of-type {\n",
       "        vertical-align: middle;\n",
       "    }\n",
       "\n",
       "    .dataframe tbody tr th {\n",
       "        vertical-align: top;\n",
       "    }\n",
       "\n",
       "    .dataframe thead th {\n",
       "        text-align: right;\n",
       "    }\n",
       "</style>\n",
       "<table border=\"1\" class=\"dataframe\">\n",
       "  <thead>\n",
       "    <tr style=\"text-align: right;\">\n",
       "      <th></th>\n",
       "      <th>远传ID</th>\n",
       "      <th>数据编号</th>\n",
       "      <th>区册号</th>\n",
       "      <th>用户编号</th>\n",
       "      <th>用户名称</th>\n",
       "      <th>用途</th>\n",
       "      <th>性质</th>\n",
       "      <th>口径</th>\n",
       "      <th>用户地址</th>\n",
       "      <th>数据编号.1</th>\n",
       "    </tr>\n",
       "  </thead>\n",
       "  <tbody>\n",
       "    <tr>\n",
       "      <th>107700</th>\n",
       "      <td>15131303</td>\n",
       "      <td>1.420364e+09</td>\n",
       "      <td>'024803001</td>\n",
       "      <td>0003087868</td>\n",
       "      <td>待定</td>\n",
       "      <td>NaN</td>\n",
       "      <td>[阶梯]居民生活用水净水</td>\n",
       "      <td>20.0</td>\n",
       "      <td>环市中路300号天秀大厦TXC-12F</td>\n",
       "      <td>1.420364e+09</td>\n",
       "    </tr>\n",
       "    <tr>\n",
       "      <th>100222</th>\n",
       "      <td>15033202</td>\n",
       "      <td>1.420381e+09</td>\n",
       "      <td>'030211001</td>\n",
       "      <td>0010429772</td>\n",
       "      <td>住户</td>\n",
       "      <td>NaN</td>\n",
       "      <td>[阶梯]居民生活用水净水</td>\n",
       "      <td>20.0</td>\n",
       "      <td>荔湾北路小梅大街41号(C栋)708房</td>\n",
       "      <td>1.420381e+09</td>\n",
       "    </tr>\n",
       "    <tr>\n",
       "      <th>26752</th>\n",
       "      <td>15080324</td>\n",
       "      <td>1.420347e+09</td>\n",
       "      <td>'082601002</td>\n",
       "      <td>0011528568</td>\n",
       "      <td>待定</td>\n",
       "      <td>NaN</td>\n",
       "      <td>[阶梯]居民生活用水净水</td>\n",
       "      <td>20.0</td>\n",
       "      <td>世纪北一街13号102</td>\n",
       "      <td>1.420347e+09</td>\n",
       "    </tr>\n",
       "    <tr>\n",
       "      <th>26751</th>\n",
       "      <td>15080324</td>\n",
       "      <td>1.420347e+09</td>\n",
       "      <td>'082601002</td>\n",
       "      <td>0011528571</td>\n",
       "      <td>待定</td>\n",
       "      <td>NaN</td>\n",
       "      <td>[阶梯]居民生活用水净水</td>\n",
       "      <td>20.0</td>\n",
       "      <td>世纪北一街13号103</td>\n",
       "      <td>1.420347e+09</td>\n",
       "    </tr>\n",
       "    <tr>\n",
       "      <th>30222</th>\n",
       "      <td>15180321</td>\n",
       "      <td>1.420352e+09</td>\n",
       "      <td>'082301002</td>\n",
       "      <td>0011529008</td>\n",
       "      <td>待定</td>\n",
       "      <td>NaN</td>\n",
       "      <td>[阶梯]居民生活用水净水</td>\n",
       "      <td>20.0</td>\n",
       "      <td>世纪北一街5号2001</td>\n",
       "      <td>1.420352e+09</td>\n",
       "    </tr>\n",
       "    <tr>\n",
       "      <th>...</th>\n",
       "      <td>...</td>\n",
       "      <td>...</td>\n",
       "      <td>...</td>\n",
       "      <td>...</td>\n",
       "      <td>...</td>\n",
       "      <td>...</td>\n",
       "      <td>...</td>\n",
       "      <td>...</td>\n",
       "      <td>...</td>\n",
       "      <td>...</td>\n",
       "    </tr>\n",
       "    <tr>\n",
       "      <th>57361</th>\n",
       "      <td>17040310</td>\n",
       "      <td>1.625203e+09</td>\n",
       "      <td>'051801001</td>\n",
       "      <td>0028411882</td>\n",
       "      <td>住户</td>\n",
       "      <td>NaN</td>\n",
       "      <td>[阶梯]居民生活用水净水</td>\n",
       "      <td>25.0</td>\n",
       "      <td>广东省广州市白云区金沙洲沙凤一路89号东区1栋1001房</td>\n",
       "      <td>1.625203e+09</td>\n",
       "    </tr>\n",
       "    <tr>\n",
       "      <th>57360</th>\n",
       "      <td>17040310</td>\n",
       "      <td>1.620629e+09</td>\n",
       "      <td>'051801001</td>\n",
       "      <td>0028411941</td>\n",
       "      <td>住户</td>\n",
       "      <td>NaN</td>\n",
       "      <td>[阶梯]居民生活用水净水</td>\n",
       "      <td>20.0</td>\n",
       "      <td>广东省广州市白云区金沙洲沙凤一路89号东区1栋1007房</td>\n",
       "      <td>1.620629e+09</td>\n",
       "    </tr>\n",
       "    <tr>\n",
       "      <th>57359</th>\n",
       "      <td>17040310</td>\n",
       "      <td>1.620631e+09</td>\n",
       "      <td>'051801001</td>\n",
       "      <td>0028412120</td>\n",
       "      <td>住户</td>\n",
       "      <td>NaN</td>\n",
       "      <td>[阶梯]居民生活用水净水</td>\n",
       "      <td>20.0</td>\n",
       "      <td>广东省广州市白云区金沙洲沙凤一路89号东区1栋1304房</td>\n",
       "      <td>1.620631e+09</td>\n",
       "    </tr>\n",
       "    <tr>\n",
       "      <th>57358</th>\n",
       "      <td>17040309</td>\n",
       "      <td>1.625204e+09</td>\n",
       "      <td>'051801001</td>\n",
       "      <td>0028413165</td>\n",
       "      <td>住户</td>\n",
       "      <td>NaN</td>\n",
       "      <td>[阶梯]居民生活用水净水</td>\n",
       "      <td>25.0</td>\n",
       "      <td>广东省广州市白云区金沙洲沙凤一路87号东区2栋601房</td>\n",
       "      <td>1.625204e+09</td>\n",
       "    </tr>\n",
       "    <tr>\n",
       "      <th>57357</th>\n",
       "      <td>17040309</td>\n",
       "      <td>1.625204e+09</td>\n",
       "      <td>'051801001</td>\n",
       "      <td>0028413341</td>\n",
       "      <td>住户</td>\n",
       "      <td>NaN</td>\n",
       "      <td>[阶梯]居民生活用水净水</td>\n",
       "      <td>25.0</td>\n",
       "      <td>广东省广州市白云区金沙洲沙凤一路87号东区2栋805房</td>\n",
       "      <td>1.625204e+09</td>\n",
       "    </tr>\n",
       "  </tbody>\n",
       "</table>\n",
       "<p>5812 rows × 10 columns</p>\n",
       "</div>"
      ],
      "text/plain": [
       "            远传ID          数据编号         区册号        用户编号 用户名称   用途  \\\n",
       "107700  15131303  1.420364e+09  '024803001  0003087868   待定  NaN   \n",
       "100222  15033202  1.420381e+09  '030211001  0010429772   住户  NaN   \n",
       "26752   15080324  1.420347e+09  '082601002  0011528568   待定  NaN   \n",
       "26751   15080324  1.420347e+09  '082601002  0011528571   待定  NaN   \n",
       "30222   15180321  1.420352e+09  '082301002  0011529008   待定  NaN   \n",
       "...          ...           ...         ...         ...  ...  ...   \n",
       "57361   17040310  1.625203e+09  '051801001  0028411882   住户  NaN   \n",
       "57360   17040310  1.620629e+09  '051801001  0028411941   住户  NaN   \n",
       "57359   17040310  1.620631e+09  '051801001  0028412120   住户  NaN   \n",
       "57358   17040309  1.625204e+09  '051801001  0028413165   住户  NaN   \n",
       "57357   17040309  1.625204e+09  '051801001  0028413341   住户  NaN   \n",
       "\n",
       "                  性质    口径                          用户地址        数据编号.1  \n",
       "107700  [阶梯]居民生活用水净水  20.0           环市中路300号天秀大厦TXC-12F  1.420364e+09  \n",
       "100222  [阶梯]居民生活用水净水  20.0           荔湾北路小梅大街41号(C栋)708房  1.420381e+09  \n",
       "26752   [阶梯]居民生活用水净水  20.0                   世纪北一街13号102  1.420347e+09  \n",
       "26751   [阶梯]居民生活用水净水  20.0                   世纪北一街13号103  1.420347e+09  \n",
       "30222   [阶梯]居民生活用水净水  20.0                   世纪北一街5号2001  1.420352e+09  \n",
       "...              ...   ...                           ...           ...  \n",
       "57361   [阶梯]居民生活用水净水  25.0  广东省广州市白云区金沙洲沙凤一路89号东区1栋1001房  1.625203e+09  \n",
       "57360   [阶梯]居民生活用水净水  20.0  广东省广州市白云区金沙洲沙凤一路89号东区1栋1007房  1.620629e+09  \n",
       "57359   [阶梯]居民生活用水净水  20.0  广东省广州市白云区金沙洲沙凤一路89号东区1栋1304房  1.620631e+09  \n",
       "57358   [阶梯]居民生活用水净水  25.0   广东省广州市白云区金沙洲沙凤一路87号东区2栋601房  1.625204e+09  \n",
       "57357   [阶梯]居民生活用水净水  25.0   广东省广州市白云区金沙洲沙凤一路87号东区2栋805房  1.625204e+09  \n",
       "\n",
       "[5812 rows x 10 columns]"
      ]
     },
     "execution_count": 213,
     "metadata": {},
     "output_type": "execute_result"
    }
   ],
   "source": [
    "smart_metre_2020[smart_metre_2020['用户名称'].isin(['住户','待定'])].iloc[:,:10].sort_values('用户编号')"
   ]
  },
  {
   "cell_type": "code",
   "execution_count": 214,
   "metadata": {},
   "outputs": [
    {
     "data": {
      "text/plain": [
       "NaN       0.457988\n",
       "计费        0.432603\n",
       "收费        0.042274\n",
       "考核        0.033673\n",
       "计量不计费     0.024022\n",
       "趸售        0.003567\n",
       "计费表       0.002832\n",
       "经营服务用水    0.000629\n",
       "100       0.000629\n",
       "不计费       0.000315\n",
       "居民生活      0.000315\n",
       "行政事业      0.000315\n",
       "不收费       0.000210\n",
       "收费表       0.000105\n",
       "工业用水      0.000105\n",
       "监控        0.000105\n",
       "218       0.000105\n",
       "150       0.000105\n",
       "消防        0.000105\n",
       "Name: 用途, dtype: float64"
      ]
     },
     "execution_count": 214,
     "metadata": {},
     "output_type": "execute_result"
    }
   ],
   "source": [
    "large_metre_2020['用途'].value_counts(dropna=False,normalize=1)"
   ]
  },
  {
   "cell_type": "code",
   "execution_count": 215,
   "metadata": {},
   "outputs": [
    {
     "data": {
      "text/plain": [
       "NaN    0.999233\n",
       "计费     0.000767\n",
       "Name: 用途, dtype: float64"
      ]
     },
     "execution_count": 215,
     "metadata": {},
     "output_type": "execute_result"
    }
   ],
   "source": [
    "smart_metre_2020['用途'].value_counts(dropna=False,normalize=1)"
   ]
  },
  {
   "cell_type": "code",
   "execution_count": 216,
   "metadata": {},
   "outputs": [
    {
     "data": {
      "text/plain": [
       "Text(0, 0.5, '各种计费用途水表占比')"
      ]
     },
     "execution_count": 216,
     "metadata": {},
     "output_type": "execute_result"
    },
    {
     "data": {
      "image/png": "[encoded data removed]",
      "text/plain": [
       "<Figure size 648x432 with 1 Axes>"
      ]
     },
     "metadata": {
      "needs_background": "light"
     },
     "output_type": "display_data"
    }
   ],
   "source": [
    "\n",
    "large_metre_2020['用途'].value_counts(dropna=False,normalize=1).plot.bar(figsize=(9,6))\n",
    "plt.ylabel('各种计费用途水表占比')\n"
   ]
  },
  {
   "cell_type": "code",
   "execution_count": 217,
   "metadata": {},
   "outputs": [
    {
     "data": {
      "text/plain": [
       "NaN           0.078418\n",
       "4047012010    0.025403\n",
       "4057012010    0.022531\n",
       "2018092010    0.021648\n",
       "06A620010     0.018555\n",
       "                ...   \n",
       "07A113000     0.000221\n",
       "1062202010    0.000221\n",
       "1063342010    0.000221\n",
       "040101000     0.000221\n",
       "04G720000     0.000221\n",
       "Name: 区册号, Length: 715, dtype: float64"
      ]
     },
     "execution_count": 217,
     "metadata": {},
     "output_type": "execute_result"
    }
   ],
   "source": [
    "large_metre_2020[large_metre_2020['用途'].isin(['计费','收费'])]['区册号'].value_counts(dropna=False,normalize=1)"
   ]
  },
  {
   "cell_type": "code",
   "execution_count": null,
   "metadata": {},
   "outputs": [],
   "source": [
    "large_metre_list = pd.read_csv(r'./自来水数据/远传表原始数据/营抄系统的大表清单卢部提取remote_meter_user_info_20200213_202002171625.csv',encoding = 'gbk')\n",
    "smart_metre_list = pd.read_csv(r'./自来水数据/远传表原始数据/营抄系统的小表清单卢部提取smart_meter_user_info_20200213_202002171625.csv',encoding = 'gb18030')"
   ]
  },
  {
   "cell_type": "code",
   "execution_count": 262,
   "metadata": {},
   "outputs": [
    {
     "data": {
      "text/html": [
       "<div>\n",
       "<style scoped>\n",
       "    .dataframe tbody tr th:only-of-type {\n",
       "        vertical-align: middle;\n",
       "    }\n",
       "\n",
       "    .dataframe tbody tr th {\n",
       "        vertical-align: top;\n",
       "    }\n",
       "\n",
       "    .dataframe thead th {\n",
       "        text-align: right;\n",
       "    }\n",
       "</style>\n",
       "<table border=\"1\" class=\"dataframe\">\n",
       "  <thead>\n",
       "    <tr style=\"text-align: right;\">\n",
       "      <th></th>\n",
       "      <th>Unnamed: 0</th>\n",
       "      <th>user_no</th>\n",
       "      <th>user_name</th>\n",
       "      <th>mr_sect_no</th>\n",
       "      <th>trade_sort</th>\n",
       "      <th>use_type_code</th>\n",
       "      <th>meter_calibre</th>\n",
       "      <th>user_ms_type</th>\n",
       "    </tr>\n",
       "  </thead>\n",
       "  <tbody>\n",
       "    <tr>\n",
       "      <th>0</th>\n",
       "      <td>6610803</td>\n",
       "      <td>0006610803</td>\n",
       "      <td>广州合景房地产开发有限公司</td>\n",
       "      <td>2058032010</td>\n",
       "      <td>公共消防</td>\n",
       "      <td>消防环卫绿化</td>\n",
       "      <td>100.0</td>\n",
       "      <td>计费</td>\n",
       "    </tr>\n",
       "    <tr>\n",
       "      <th>1</th>\n",
       "      <td>9830341</td>\n",
       "      <td>0009830341</td>\n",
       "      <td>水沥村委会</td>\n",
       "      <td>4027012010</td>\n",
       "      <td>农村/城中村总表民用</td>\n",
       "      <td>居民生活</td>\n",
       "      <td>100.0</td>\n",
       "      <td>计费</td>\n",
       "    </tr>\n",
       "    <tr>\n",
       "      <th>2</th>\n",
       "      <td>289186</td>\n",
       "      <td>0000289186</td>\n",
       "      <td>广州市荔湾区詹天佑小学</td>\n",
       "      <td>1063062010</td>\n",
       "      <td>学校用水</td>\n",
       "      <td>学校用水</td>\n",
       "      <td>100.0</td>\n",
       "      <td>计费</td>\n",
       "    </tr>\n",
       "    <tr>\n",
       "      <th>3</th>\n",
       "      <td>6610799</td>\n",
       "      <td>0006610799</td>\n",
       "      <td>广州合景房地产开发有限公司</td>\n",
       "      <td>2058032010</td>\n",
       "      <td>公共绿化</td>\n",
       "      <td>消防环卫绿化</td>\n",
       "      <td>100.0</td>\n",
       "      <td>计费</td>\n",
       "    </tr>\n",
       "    <tr>\n",
       "      <th>4</th>\n",
       "      <td>6935102</td>\n",
       "      <td>0006935102</td>\n",
       "      <td>东山钢瓶厂</td>\n",
       "      <td>1061112010</td>\n",
       "      <td>混合商业</td>\n",
       "      <td>经营服务用水</td>\n",
       "      <td>NaN</td>\n",
       "      <td>计费</td>\n",
       "    </tr>\n",
       "  </tbody>\n",
       "</table>\n",
       "</div>"
      ],
      "text/plain": [
       "   Unnamed: 0     user_no      user_name  mr_sect_no  trade_sort  \\\n",
       "0     6610803  0006610803  广州合景房地产开发有限公司  2058032010        公共消防   \n",
       "1     9830341  0009830341          水沥村委会  4027012010  农村/城中村总表民用   \n",
       "2      289186  0000289186    广州市荔湾区詹天佑小学  1063062010        学校用水   \n",
       "3     6610799  0006610799  广州合景房地产开发有限公司  2058032010        公共绿化   \n",
       "4     6935102  0006935102          东山钢瓶厂  1061112010        混合商业   \n",
       "\n",
       "  use_type_code  meter_calibre user_ms_type  \n",
       "0        消防环卫绿化          100.0           计费  \n",
       "1          居民生活          100.0           计费  \n",
       "2          学校用水          100.0           计费  \n",
       "3        消防环卫绿化          100.0           计费  \n",
       "4        经营服务用水            NaN           计费  "
      ]
     },
     "execution_count": 262,
     "metadata": {},
     "output_type": "execute_result"
    }
   ],
   "source": [
    "large_metre_list.head()"
   ]
  },
  {
   "cell_type": "code",
   "execution_count": null,
   "metadata": {},
   "outputs": [],
   "source": [
    "smart_metre_list.head()"
   ]
  },
  {
   "cell_type": "markdown",
   "metadata": {},
   "source": [
    "**修正清单用户编号格式**"
   ]
  },
  {
   "cell_type": "code",
   "execution_count": null,
   "metadata": {},
   "outputs": [],
   "source": [
    "large_metre_list['user_no'] = large_metre_list['user_no'].astype('str').str.pad(10,fillchar='0')\n",
    "smart_metre_list['user_no'] = smart_metre_list['user_no'].astype('str').str.pad(10,fillchar='0')"
   ]
  },
  {
   "cell_type": "code",
   "execution_count": null,
   "metadata": {},
   "outputs": [],
   "source": [
    "print(large_metre_list.info())\n",
    "smart_metre_list.info()"
   ]
  },
  {
   "cell_type": "code",
   "execution_count": null,
   "metadata": {},
   "outputs": [],
   "source": [
    "smart_metre_list['user_ms_type'].value_counts(dropna=False)"
   ]
  },
  {
   "cell_type": "markdown",
   "metadata": {},
   "source": [
    "**获取远传大表不一致的编号**"
   ]
  },
  {
   "cell_type": "code",
   "execution_count": 220,
   "metadata": {},
   "outputs": [
    {
     "data": {
      "text/plain": [
       "7471"
      ]
     },
     "execution_count": 220,
     "metadata": {},
     "output_type": "execute_result"
    }
   ],
   "source": [
    "len(set(large_metre_2020['用户编号'])&set(large_metre_list['user_no']))"
   ]
  },
  {
   "cell_type": "code",
   "execution_count": 221,
   "metadata": {},
   "outputs": [
    {
     "data": {
      "text/plain": [
       "1126"
      ]
     },
     "execution_count": 221,
     "metadata": {},
     "output_type": "execute_result"
    }
   ],
   "source": [
    "len(set(large_metre_list['user_no'])-set(large_metre_2020['用户编号']))"
   ]
  },
  {
   "cell_type": "code",
   "execution_count": 222,
   "metadata": {},
   "outputs": [
    {
     "data": {
      "text/plain": [
       "2061"
      ]
     },
     "execution_count": 222,
     "metadata": {},
     "output_type": "execute_result"
    }
   ],
   "source": [
    "len(set(large_metre_2020['用户编号'])-set(large_metre_list['user_no']))"
   ]
  },
  {
   "cell_type": "code",
   "execution_count": 224,
   "metadata": {},
   "outputs": [],
   "source": [
    "large_metre_2020_inner = pd.merge(large_metre_2020,large_metre_list,left_on='用户编号', right_on='user_no')"
   ]
  },
  {
   "cell_type": "code",
   "execution_count": 226,
   "metadata": {},
   "outputs": [
    {
     "name": "stdout",
     "output_type": "stream",
     "text": [
      "<class 'pandas.core.frame.DataFrame'>\n",
      "Int64Index: 7471 entries, 0 to 7470\n",
      "Data columns (total 73 columns):\n",
      "远传ID             7471 non-null object\n",
      "数据编号             7471 non-null float64\n",
      "区册号              6489 non-null object\n",
      "用户编号             7471 non-null object\n",
      "用户名称             7471 non-null object\n",
      "用途               4063 non-null object\n",
      "性质               4060 non-null object\n",
      "口径               7227 non-null object\n",
      "数据编号.1           7471 non-null float64\n",
      "2020-01-01       6303 non-null float64\n",
      "2020-01-02       6069 non-null float64\n",
      "2020-01-03       6655 non-null float64\n",
      "2020-01-04       6823 non-null float64\n",
      "2020-01-05       6861 non-null float64\n",
      "2020-01-06       7037 non-null float64\n",
      "2020-01-07       7038 non-null float64\n",
      "2020-01-08       7036 non-null float64\n",
      "2020-01-09       7045 non-null float64\n",
      "2020-01-10       7043 non-null float64\n",
      "2020-01-11       7041 non-null float64\n",
      "2020-01-12       7035 non-null float64\n",
      "2020-01-13       7048 non-null float64\n",
      "2020-01-14       7054 non-null float64\n",
      "2020-01-15       7058 non-null float64\n",
      "2020-01-16       6947 non-null float64\n",
      "2020-01-17       6696 non-null float64\n",
      "2020-01-18       6689 non-null float64\n",
      "2020-01-19       6603 non-null float64\n",
      "2020-01-20       6795 non-null float64\n",
      "2020-01-21       7078 non-null float64\n",
      "2020-01-22       7088 non-null float64\n",
      "2020-01-23       7090 non-null float64\n",
      "2020-01-24       7116 non-null float64\n",
      "2020-01-25       7114 non-null float64\n",
      "2020-01-26       7085 non-null float64\n",
      "2020-01-27       7065 non-null float64\n",
      "2020-01-28       7078 non-null float64\n",
      "2020-01-29       7068 non-null float64\n",
      "2020-01-30       7048 non-null float64\n",
      "2020-01-31       6866 non-null float64\n",
      "2020-02-01       6858 non-null float64\n",
      "2020-02-02       7063 non-null float64\n",
      "2020-02-03       7072 non-null float64\n",
      "2020-02-04       7038 non-null float64\n",
      "2020-02-05       7037 non-null float64\n",
      "2020-02-06       7051 non-null float64\n",
      "2020-02-07       7045 non-null float64\n",
      "2020-02-08       7040 non-null float64\n",
      "2020-02-09       7040 non-null float64\n",
      "2020-02-10       7068 non-null float64\n",
      "2020-02-11       7067 non-null float64\n",
      "2020-02-12       7065 non-null float64\n",
      "2020-02-13       7061 non-null float64\n",
      "2020-02-14       6481 non-null float64\n",
      "2020-02-15       6468 non-null float64\n",
      "2020-02-16       6997 non-null float64\n",
      "2020-02-17       7003 non-null float64\n",
      "2020-02-18       7012 non-null float64\n",
      "2020-02-19       7007 non-null float64\n",
      "2020-02-20       7030 non-null float64\n",
      "2020-02-21       7047 non-null float64\n",
      "2020-02-22       7046 non-null float64\n",
      "2020-02-23       7030 non-null float64\n",
      "2020-02-24       7024 non-null float64\n",
      "合计               7471 non-null float64\n",
      "Unnamed: 0       7471 non-null int64\n",
      "user_no          7471 non-null object\n",
      "user_name        7471 non-null object\n",
      "mr_sect_no       7471 non-null object\n",
      "trade_sort       7471 non-null object\n",
      "use_type_code    7471 non-null object\n",
      "meter_calibre    7468 non-null float64\n",
      "user_ms_type     7471 non-null object\n",
      "dtypes: float64(59), int64(1), object(13)\n",
      "memory usage: 4.2+ MB\n"
     ]
    }
   ],
   "source": [
    "large_metre_2020_inner.info()"
   ]
  },
  {
   "cell_type": "code",
   "execution_count": 240,
   "metadata": {},
   "outputs": [],
   "source": [
    "large_metre_2020_inner=large_metre_2020_inner[['远传ID', '数据编号', '区册号','mr_sect_no', '用户编号','用户名称', 'user_name','用途','user_ms_type',\n",
    "                        '性质','trade_sort','use_type_code', '口径', 'meter_calibre',\n",
    "                        '2020-01-01', '2020-01-02', '2020-01-03', '2020-01-04', '2020-01-05', '2020-01-06', '2020-01-07', '2020-01-08',\n",
    "                         '2020-01-09', '2020-01-10', '2020-01-11', '2020-01-12', '2020-01-13', '2020-01-14', '2020-01-15', '2020-01-16',\n",
    "                         '2020-01-17', '2020-01-18', '2020-01-19', '2020-01-20', '2020-01-21', '2020-01-22', '2020-01-23', '2020-01-24',\n",
    "                         '2020-01-25', '2020-01-26', '2020-01-27', '2020-01-28', '2020-01-29', '2020-01-30', '2020-01-31', '2020-02-01',\n",
    "                         '2020-02-02', '2020-02-03', '2020-02-04', '2020-02-05', '2020-02-06', '2020-02-07', '2020-02-08', '2020-02-09',\n",
    "                         '2020-02-10', '2020-02-11', '2020-02-12', '2020-02-13', '2020-02-14', '2020-02-15', '2020-02-16', '2020-02-17',\n",
    "                         '2020-02-18', '2020-02-19', '2020-02-20', '2020-02-21', '2020-02-22', '2020-02-23', '2020-02-24', '合计' ]]\n",
    "\n",
    "\n",
    "large_metre_2020_inner = large_metre_2020_inner[large_metre_2020_inner['user_ms_type']=='计费']"
   ]
  },
  {
   "cell_type": "code",
   "execution_count": 243,
   "metadata": {},
   "outputs": [
    {
     "data": {
      "text/plain": [
       "计费    7460\n",
       "Name: user_ms_type, dtype: int64"
      ]
     },
     "execution_count": 243,
     "metadata": {},
     "output_type": "execute_result"
    }
   ],
   "source": [
    "large_metre_2020_inner['user_ms_type'].value_counts()"
   ]
  },
  {
   "cell_type": "code",
   "execution_count": 248,
   "metadata": {},
   "outputs": [
    {
     "data": {
      "text/html": [
       "<div>\n",
       "<style scoped>\n",
       "    .dataframe tbody tr th:only-of-type {\n",
       "        vertical-align: middle;\n",
       "    }\n",
       "\n",
       "    .dataframe tbody tr th {\n",
       "        vertical-align: top;\n",
       "    }\n",
       "\n",
       "    .dataframe thead th {\n",
       "        text-align: right;\n",
       "    }\n",
       "</style>\n",
       "<table border=\"1\" class=\"dataframe\">\n",
       "  <thead>\n",
       "    <tr style=\"text-align: right;\">\n",
       "      <th></th>\n",
       "      <th>Unnamed: 0</th>\n",
       "      <th>user_no</th>\n",
       "      <th>user_name</th>\n",
       "      <th>mr_sect_no</th>\n",
       "      <th>trade_sort</th>\n",
       "      <th>use_type_code</th>\n",
       "      <th>meter_calibre</th>\n",
       "      <th>user_ms_type</th>\n",
       "    </tr>\n",
       "  </thead>\n",
       "  <tbody>\n",
       "    <tr>\n",
       "      <th>4</th>\n",
       "      <td>6935102</td>\n",
       "      <td>0006935102</td>\n",
       "      <td>东山钢瓶厂</td>\n",
       "      <td>1061112010</td>\n",
       "      <td>混合商业</td>\n",
       "      <td>经营服务用水</td>\n",
       "      <td>NaN</td>\n",
       "      <td>计费</td>\n",
       "    </tr>\n",
       "    <tr>\n",
       "      <th>5</th>\n",
       "      <td>6935030</td>\n",
       "      <td>0006935030</td>\n",
       "      <td>三茂铁路公司办公室</td>\n",
       "      <td>1061192010</td>\n",
       "      <td>水疗馆</td>\n",
       "      <td>特种用水</td>\n",
       "      <td>NaN</td>\n",
       "      <td>计费</td>\n",
       "    </tr>\n",
       "    <tr>\n",
       "      <th>6</th>\n",
       "      <td>6618676</td>\n",
       "      <td>0006618676</td>\n",
       "      <td>黄仁强</td>\n",
       "      <td>1063042010</td>\n",
       "      <td>居民（旧）</td>\n",
       "      <td>居民生活</td>\n",
       "      <td>15.0</td>\n",
       "      <td>计费</td>\n",
       "    </tr>\n",
       "    <tr>\n",
       "      <th>7</th>\n",
       "      <td>6619318</td>\n",
       "      <td>0006619318</td>\n",
       "      <td>王爱兰（低保）</td>\n",
       "      <td>1063212010</td>\n",
       "      <td>居民（旧）</td>\n",
       "      <td>居民生活</td>\n",
       "      <td>15.0</td>\n",
       "      <td>计费</td>\n",
       "    </tr>\n",
       "    <tr>\n",
       "      <th>8</th>\n",
       "      <td>6619334</td>\n",
       "      <td>0006619334</td>\n",
       "      <td>黄腾开（低保）</td>\n",
       "      <td>1063212010</td>\n",
       "      <td>低保户（旧）</td>\n",
       "      <td>居民生活</td>\n",
       "      <td>15.0</td>\n",
       "      <td>计费</td>\n",
       "    </tr>\n",
       "    <tr>\n",
       "      <th>...</th>\n",
       "      <td>...</td>\n",
       "      <td>...</td>\n",
       "      <td>...</td>\n",
       "      <td>...</td>\n",
       "      <td>...</td>\n",
       "      <td>...</td>\n",
       "      <td>...</td>\n",
       "      <td>...</td>\n",
       "    </tr>\n",
       "    <tr>\n",
       "      <th>8591</th>\n",
       "      <td>37356095</td>\n",
       "      <td>0037356095</td>\n",
       "      <td>华南理工大学</td>\n",
       "      <td>3054012010</td>\n",
       "      <td>商业</td>\n",
       "      <td>经营服务用水</td>\n",
       "      <td>NaN</td>\n",
       "      <td>计费</td>\n",
       "    </tr>\n",
       "    <tr>\n",
       "      <th>8592</th>\n",
       "      <td>37354099</td>\n",
       "      <td>0037354099</td>\n",
       "      <td>华南理工大学</td>\n",
       "      <td>3054012010</td>\n",
       "      <td>商业</td>\n",
       "      <td>经营服务用水</td>\n",
       "      <td>NaN</td>\n",
       "      <td>计费</td>\n",
       "    </tr>\n",
       "    <tr>\n",
       "      <th>8594</th>\n",
       "      <td>37217121</td>\n",
       "      <td>0037217121</td>\n",
       "      <td>姚甜瑞</td>\n",
       "      <td>1021042010</td>\n",
       "      <td>居民家庭</td>\n",
       "      <td>居民生活</td>\n",
       "      <td>NaN</td>\n",
       "      <td>计费</td>\n",
       "    </tr>\n",
       "    <tr>\n",
       "      <th>8595</th>\n",
       "      <td>37489104</td>\n",
       "      <td>0037489104</td>\n",
       "      <td>谭炳强（低保）</td>\n",
       "      <td>1063412010</td>\n",
       "      <td>居民家庭</td>\n",
       "      <td>居民生活</td>\n",
       "      <td>15.0</td>\n",
       "      <td>计费</td>\n",
       "    </tr>\n",
       "    <tr>\n",
       "      <th>8596</th>\n",
       "      <td>37490108</td>\n",
       "      <td>0037490108</td>\n",
       "      <td>陈小平</td>\n",
       "      <td>1021042010</td>\n",
       "      <td>居民家庭</td>\n",
       "      <td>居民生活</td>\n",
       "      <td>NaN</td>\n",
       "      <td>计费</td>\n",
       "    </tr>\n",
       "  </tbody>\n",
       "</table>\n",
       "<p>1103 rows × 8 columns</p>\n",
       "</div>"
      ],
      "text/plain": [
       "      Unnamed: 0     user_no  user_name  mr_sect_no trade_sort use_type_code  \\\n",
       "4        6935102  0006935102      东山钢瓶厂  1061112010       混合商业        经营服务用水   \n",
       "5        6935030  0006935030  三茂铁路公司办公室  1061192010        水疗馆          特种用水   \n",
       "6        6618676  0006618676        黄仁强  1063042010      居民（旧）          居民生活   \n",
       "7        6619318  0006619318    王爱兰（低保）  1063212010      居民（旧）          居民生活   \n",
       "8        6619334  0006619334    黄腾开（低保）  1063212010     低保户（旧）          居民生活   \n",
       "...          ...         ...        ...         ...        ...           ...   \n",
       "8591    37356095  0037356095     华南理工大学  3054012010         商业        经营服务用水   \n",
       "8592    37354099  0037354099     华南理工大学  3054012010         商业        经营服务用水   \n",
       "8594    37217121  0037217121        姚甜瑞  1021042010       居民家庭          居民生活   \n",
       "8595    37489104  0037489104    谭炳强（低保）  1063412010       居民家庭          居民生活   \n",
       "8596    37490108  0037490108        陈小平  1021042010       居民家庭          居民生活   \n",
       "\n",
       "      meter_calibre user_ms_type  \n",
       "4               NaN           计费  \n",
       "5               NaN           计费  \n",
       "6              15.0           计费  \n",
       "7              15.0           计费  \n",
       "8              15.0           计费  \n",
       "...             ...          ...  \n",
       "8591            NaN           计费  \n",
       "8592            NaN           计费  \n",
       "8594            NaN           计费  \n",
       "8595           15.0           计费  \n",
       "8596            NaN           计费  \n",
       "\n",
       "[1103 rows x 8 columns]"
      ]
     },
     "execution_count": 248,
     "metadata": {},
     "output_type": "execute_result"
    }
   ],
   "source": [
    "large_metre_list[large_metre_list['user_no'].isin(list(set(large_metre_list['user_no'])-set(large_metre_2020['用户编号'])))].query(\"user_ms_type=='计费'\")"
   ]
  },
  {
   "cell_type": "markdown",
   "metadata": {},
   "source": [
    "在远传系统中不在营抄系统中的远传大表的用户编号清单"
   ]
  },
  {
   "cell_type": "code",
   "execution_count": null,
   "metadata": {},
   "outputs": [],
   "source": [
    "large_metre_2020[large_metre_2020['用户编号'].\\\n",
    "                 isin(list(set(large_metre_2020['用户编号'])&set(large_metre_list['user_no'])))][:-1].\\\n",
    "to_csv('./数据导出/远传大表用户（同时在远传系统中和营抄系统中）.csv')"
   ]
  },
  {
   "cell_type": "code",
   "execution_count": null,
   "metadata": {},
   "outputs": [],
   "source": [
    "large_metre_2020[large_metre_2020['用户编号'].\\\n",
    "                 isin(list(set(large_metre_2020['用户编号'])-set(large_metre_list['user_no'])))][:-1].\\\n",
    "to_csv('./数据导出/远传大表用户（在远传系统中不在营抄系统中）.csv')"
   ]
  },
  {
   "cell_type": "code",
   "execution_count": null,
   "metadata": {},
   "outputs": [],
   "source": [
    "large_metre_list[large_metre_list['user_no'].isin(list(set(large_metre_list['user_no'])-set(large_metre_2020['用户编号'])))].\\\n",
    "to_csv('./数据导出/远传大表用户（在营抄系统中不在远传系统中）.csv')"
   ]
  },
  {
   "cell_type": "markdown",
   "metadata": {},
   "source": [
    "**获取远传小表不一致的清单**"
   ]
  },
  {
   "cell_type": "code",
   "execution_count": 250,
   "metadata": {},
   "outputs": [
    {
     "data": {
      "text/plain": [
       "103754"
      ]
     },
     "execution_count": 250,
     "metadata": {},
     "output_type": "execute_result"
    }
   ],
   "source": [
    "len(set(smart_metre_2020['用户编号'])&set(smart_metre_list['user_no']))"
   ]
  },
  {
   "cell_type": "code",
   "execution_count": 251,
   "metadata": {},
   "outputs": [
    {
     "data": {
      "text/plain": [
       "13601"
      ]
     },
     "execution_count": 251,
     "metadata": {},
     "output_type": "execute_result"
    }
   ],
   "source": [
    "len(set(smart_metre_2020['用户编号'])-set(smart_metre_list['user_no']))"
   ]
  },
  {
   "cell_type": "code",
   "execution_count": 252,
   "metadata": {},
   "outputs": [
    {
     "data": {
      "text/plain": [
       "25967"
      ]
     },
     "execution_count": 252,
     "metadata": {},
     "output_type": "execute_result"
    }
   ],
   "source": [
    "len(set(smart_metre_list['user_no'])-set(smart_metre_2020['用户编号']))"
   ]
  },
  {
   "cell_type": "code",
   "execution_count": 257,
   "metadata": {},
   "outputs": [],
   "source": [
    "smart_metre_2020_inner = pd.merge(smart_metre_2020,smart_metre_list,left_on='用户编号', right_on='user_no')"
   ]
  },
  {
   "cell_type": "code",
   "execution_count": 255,
   "metadata": {},
   "outputs": [
    {
     "name": "stdout",
     "output_type": "stream",
     "text": [
      "<class 'pandas.core.frame.DataFrame'>\n",
      "Int64Index: 103754 entries, 0 to 103753\n",
      "Data columns (total 74 columns):\n",
      "远传ID             103754 non-null object\n",
      "数据编号             103754 non-null float64\n",
      "区册号              103754 non-null object\n",
      "用户编号             103754 non-null object\n",
      "用户名称             103754 non-null object\n",
      "用途               75 non-null object\n",
      "性质               103754 non-null object\n",
      "口径               103752 non-null float64\n",
      "用户地址             103754 non-null object\n",
      "数据编号.1           103754 non-null float64\n",
      "2020-01-01       95629 non-null float64\n",
      "2020-01-02       94463 non-null float64\n",
      "2020-01-03       96093 non-null float64\n",
      "2020-01-04       97197 non-null float64\n",
      "2020-01-05       96837 non-null float64\n",
      "2020-01-06       96454 non-null float64\n",
      "2020-01-07       97528 non-null float64\n",
      "2020-01-08       97233 non-null float64\n",
      "2020-01-09       96449 non-null float64\n",
      "2020-01-10       98019 non-null float64\n",
      "2020-01-11       96819 non-null float64\n",
      "2020-01-12       87445 non-null float64\n",
      "2020-01-13       83941 non-null float64\n",
      "2020-01-14       66053 non-null float64\n",
      "2020-01-15       69016 non-null float64\n",
      "2020-01-16       87614 non-null float64\n",
      "2020-01-17       82305 non-null float64\n",
      "2020-01-18       85345 non-null float64\n",
      "2020-01-19       81046 non-null float64\n",
      "2020-01-20       87059 non-null float64\n",
      "2020-01-21       83776 non-null float64\n",
      "2020-01-22       83759 non-null float64\n",
      "2020-01-23       97924 non-null float64\n",
      "2020-01-24       98458 non-null float64\n",
      "2020-01-25       99057 non-null float64\n",
      "2020-01-26       98607 non-null float64\n",
      "2020-01-27       94117 non-null float64\n",
      "2020-01-28       79207 non-null float64\n",
      "2020-01-29       75844 non-null float64\n",
      "2020-01-30       82900 non-null float64\n",
      "2020-01-31       90140 non-null float64\n",
      "2020-02-01       97763 non-null float64\n",
      "2020-02-02       96847 non-null float64\n",
      "2020-02-03       83977 non-null float64\n",
      "2020-02-04       81065 non-null float64\n",
      "2020-02-05       87910 non-null float64\n",
      "2020-02-06       90559 non-null float64\n",
      "2020-02-07       91462 non-null float64\n",
      "2020-02-08       0 non-null float64\n",
      "2020-02-09       0 non-null float64\n",
      "2020-02-10       0 non-null float64\n",
      "2020-02-11       568 non-null float64\n",
      "2020-02-12       91146 non-null float64\n",
      "2020-02-13       91605 non-null float64\n",
      "2020-02-14       75906 non-null float64\n",
      "2020-02-15       76042 non-null float64\n",
      "2020-02-16       94817 non-null float64\n",
      "2020-02-17       95025 non-null float64\n",
      "2020-02-18       94686 non-null float64\n",
      "2020-02-19       94313 non-null float64\n",
      "2020-02-20       95160 non-null float64\n",
      "2020-02-21       94663 non-null float64\n",
      "2020-02-22       9500 non-null float64\n",
      "2020-02-23       3050 non-null float64\n",
      "2020-02-24       14586 non-null float64\n",
      "合计               103754 non-null float64\n",
      "user_no          103754 non-null object\n",
      "user_no.1        103754 non-null int64\n",
      "user_name        103754 non-null object\n",
      "mr_sect_no       103754 non-null int64\n",
      "trade_sort       103754 non-null object\n",
      "use_type_code    103754 non-null object\n",
      "meter_calibre    103754 non-null float64\n",
      "user_ms_type     103754 non-null object\n",
      "dtypes: float64(60), int64(2), object(12)\n",
      "memory usage: 59.4+ MB\n"
     ]
    }
   ],
   "source": [
    "smart_metre_2020_inner.info()"
   ]
  },
  {
   "cell_type": "code",
   "execution_count": 259,
   "metadata": {},
   "outputs": [],
   "source": [
    "smart_metre_2020_inner = smart_metre_2020_inner[['远传ID', '数据编号', '区册号','mr_sect_no', '用户编号','用户名称', 'user_name','用途','user_ms_type',\n",
    "                        '性质','trade_sort','use_type_code', '口径', 'meter_calibre',\n",
    "                        '2020-01-01', '2020-01-02', '2020-01-03', '2020-01-04', '2020-01-05', '2020-01-06', '2020-01-07', '2020-01-08',\n",
    "                         '2020-01-09', '2020-01-10', '2020-01-11', '2020-01-12', '2020-01-13', '2020-01-14', '2020-01-15', '2020-01-16',\n",
    "                         '2020-01-17', '2020-01-18', '2020-01-19', '2020-01-20', '2020-01-21', '2020-01-22', '2020-01-23', '2020-01-24',\n",
    "                         '2020-01-25', '2020-01-26', '2020-01-27', '2020-01-28', '2020-01-29', '2020-01-30', '2020-01-31', '2020-02-01',\n",
    "                         '2020-02-02', '2020-02-03', '2020-02-04', '2020-02-05', '2020-02-06', '2020-02-07', '2020-02-08', '2020-02-09',\n",
    "                         '2020-02-10', '2020-02-11', '2020-02-12', '2020-02-13', '2020-02-14', '2020-02-15', '2020-02-16', '2020-02-17',\n",
    "                         '2020-02-18', '2020-02-19', '2020-02-20', '2020-02-21', '2020-02-22', '2020-02-23', '2020-02-24', '合计' ]]\n",
    "\n",
    "\n"
   ]
  },
  {
   "cell_type": "code",
   "execution_count": 260,
   "metadata": {},
   "outputs": [
    {
     "data": {
      "text/plain": [
       "计费    103754\n",
       "Name: user_ms_type, dtype: int64"
      ]
     },
     "execution_count": 260,
     "metadata": {},
     "output_type": "execute_result"
    }
   ],
   "source": [
    "smart_metre_2020_inner['user_ms_type'].value_counts()"
   ]
  },
  {
   "cell_type": "code",
   "execution_count": 261,
   "metadata": {},
   "outputs": [
    {
     "data": {
      "text/html": [
       "<div>\n",
       "<style scoped>\n",
       "    .dataframe tbody tr th:only-of-type {\n",
       "        vertical-align: middle;\n",
       "    }\n",
       "\n",
       "    .dataframe tbody tr th {\n",
       "        vertical-align: top;\n",
       "    }\n",
       "\n",
       "    .dataframe thead th {\n",
       "        text-align: right;\n",
       "    }\n",
       "</style>\n",
       "<table border=\"1\" class=\"dataframe\">\n",
       "  <thead>\n",
       "    <tr style=\"text-align: right;\">\n",
       "      <th></th>\n",
       "      <th>user_no</th>\n",
       "      <th>user_no.1</th>\n",
       "      <th>user_name</th>\n",
       "      <th>mr_sect_no</th>\n",
       "      <th>trade_sort</th>\n",
       "      <th>use_type_code</th>\n",
       "      <th>meter_calibre</th>\n",
       "      <th>user_ms_type</th>\n",
       "    </tr>\n",
       "  </thead>\n",
       "  <tbody>\n",
       "    <tr>\n",
       "      <th>0</th>\n",
       "      <td>0006618924</td>\n",
       "      <td>6618924</td>\n",
       "      <td>陈皓维</td>\n",
       "      <td>1063290311</td>\n",
       "      <td>抄表到户居民家庭</td>\n",
       "      <td>居民生活</td>\n",
       "      <td>15.0</td>\n",
       "      <td>计费</td>\n",
       "    </tr>\n",
       "    <tr>\n",
       "      <th>1</th>\n",
       "      <td>0006618937</td>\n",
       "      <td>6618937</td>\n",
       "      <td>梁美好</td>\n",
       "      <td>1063290311</td>\n",
       "      <td>抄表到户居民家庭</td>\n",
       "      <td>居民生活</td>\n",
       "      <td>15.0</td>\n",
       "      <td>计费</td>\n",
       "    </tr>\n",
       "    <tr>\n",
       "      <th>53</th>\n",
       "      <td>0001614813</td>\n",
       "      <td>1614813</td>\n",
       "      <td>李晧</td>\n",
       "      <td>1061110211</td>\n",
       "      <td>抄表到户居民家庭</td>\n",
       "      <td>居民生活</td>\n",
       "      <td>20.0</td>\n",
       "      <td>计费</td>\n",
       "    </tr>\n",
       "    <tr>\n",
       "      <th>59</th>\n",
       "      <td>0001614871</td>\n",
       "      <td>1614871</td>\n",
       "      <td>刘观洪</td>\n",
       "      <td>1061110211</td>\n",
       "      <td>抄表到户居民家庭</td>\n",
       "      <td>居民生活</td>\n",
       "      <td>20.0</td>\n",
       "      <td>计费</td>\n",
       "    </tr>\n",
       "    <tr>\n",
       "      <th>95</th>\n",
       "      <td>0002437545</td>\n",
       "      <td>2437545</td>\n",
       "      <td>芳村东朗村委会工地</td>\n",
       "      <td>3065100312</td>\n",
       "      <td>建筑业</td>\n",
       "      <td>经营服务用水</td>\n",
       "      <td>40.0</td>\n",
       "      <td>计费</td>\n",
       "    </tr>\n",
       "    <tr>\n",
       "      <th>...</th>\n",
       "      <td>...</td>\n",
       "      <td>...</td>\n",
       "      <td>...</td>\n",
       "      <td>...</td>\n",
       "      <td>...</td>\n",
       "      <td>...</td>\n",
       "      <td>...</td>\n",
       "      <td>...</td>\n",
       "    </tr>\n",
       "    <tr>\n",
       "      <th>129716</th>\n",
       "      <td>0032767416</td>\n",
       "      <td>32767416</td>\n",
       "      <td>秦曦</td>\n",
       "      <td>4047111612</td>\n",
       "      <td>抄表到户居民家庭</td>\n",
       "      <td>居民生活</td>\n",
       "      <td>25.0</td>\n",
       "      <td>计费</td>\n",
       "    </tr>\n",
       "    <tr>\n",
       "      <th>129717</th>\n",
       "      <td>0032769151</td>\n",
       "      <td>32769151</td>\n",
       "      <td>刘汉城</td>\n",
       "      <td>4047111612</td>\n",
       "      <td>抄表到户居民家庭</td>\n",
       "      <td>居民生活</td>\n",
       "      <td>20.0</td>\n",
       "      <td>计费</td>\n",
       "    </tr>\n",
       "    <tr>\n",
       "      <th>129718</th>\n",
       "      <td>0032756698</td>\n",
       "      <td>32756698</td>\n",
       "      <td>陈伟方</td>\n",
       "      <td>4047111612</td>\n",
       "      <td>抄表到户居民家庭</td>\n",
       "      <td>居民生活</td>\n",
       "      <td>25.0</td>\n",
       "      <td>计费</td>\n",
       "    </tr>\n",
       "    <tr>\n",
       "      <th>129719</th>\n",
       "      <td>0032759293</td>\n",
       "      <td>32759293</td>\n",
       "      <td>刘涛</td>\n",
       "      <td>4047111612</td>\n",
       "      <td>抄表到户居民家庭</td>\n",
       "      <td>居民生活</td>\n",
       "      <td>20.0</td>\n",
       "      <td>计费</td>\n",
       "    </tr>\n",
       "    <tr>\n",
       "      <th>129720</th>\n",
       "      <td>0035797092</td>\n",
       "      <td>35797092</td>\n",
       "      <td>方晓云</td>\n",
       "      <td>4067011811</td>\n",
       "      <td>抄表到户居民家庭</td>\n",
       "      <td>居民生活</td>\n",
       "      <td>20.0</td>\n",
       "      <td>计费</td>\n",
       "    </tr>\n",
       "  </tbody>\n",
       "</table>\n",
       "<p>25944 rows × 8 columns</p>\n",
       "</div>"
      ],
      "text/plain": [
       "           user_no  user_no.1  user_name  mr_sect_no trade_sort use_type_code  \\\n",
       "0       0006618924    6618924        陈皓维  1063290311   抄表到户居民家庭          居民生活   \n",
       "1       0006618937    6618937        梁美好  1063290311   抄表到户居民家庭          居民生活   \n",
       "53      0001614813    1614813         李晧  1061110211   抄表到户居民家庭          居民生活   \n",
       "59      0001614871    1614871        刘观洪  1061110211   抄表到户居民家庭          居民生活   \n",
       "95      0002437545    2437545  芳村东朗村委会工地  3065100312        建筑业        经营服务用水   \n",
       "...            ...        ...        ...         ...        ...           ...   \n",
       "129716  0032767416   32767416         秦曦  4047111612   抄表到户居民家庭          居民生活   \n",
       "129717  0032769151   32769151        刘汉城  4047111612   抄表到户居民家庭          居民生活   \n",
       "129718  0032756698   32756698        陈伟方  4047111612   抄表到户居民家庭          居民生活   \n",
       "129719  0032759293   32759293         刘涛  4047111612   抄表到户居民家庭          居民生活   \n",
       "129720  0035797092   35797092        方晓云  4067011811   抄表到户居民家庭          居民生活   \n",
       "\n",
       "        meter_calibre user_ms_type  \n",
       "0                15.0           计费  \n",
       "1                15.0           计费  \n",
       "53               20.0           计费  \n",
       "59               20.0           计费  \n",
       "95               40.0           计费  \n",
       "...               ...          ...  \n",
       "129716           25.0           计费  \n",
       "129717           20.0           计费  \n",
       "129718           25.0           计费  \n",
       "129719           20.0           计费  \n",
       "129720           20.0           计费  \n",
       "\n",
       "[25944 rows x 8 columns]"
      ]
     },
     "execution_count": 261,
     "metadata": {},
     "output_type": "execute_result"
    }
   ],
   "source": [
    "smart_metre_list[smart_metre_list['user_no'].isin(list(set(smart_metre_list['user_no'])-set(smart_metre_2020['用户编号'])))].query(\"user_ms_type=='计费'\")"
   ]
  },
  {
   "cell_type": "code",
   "execution_count": null,
   "metadata": {},
   "outputs": [],
   "source": [
    "smart_metre_2020[smart_metre_2020['用户编号'].isin(list(set(smart_metre_2020['用户编号'])&set(smart_metre_list['user_no'])))][:-1].\\\n",
    "to_csv('./数据导出/远传小表用户(同时在远传系统和营抄系统中).csv')"
   ]
  },
  {
   "cell_type": "markdown",
   "metadata": {},
   "source": [
    "在远传系统中不在营抄系统中的远传小表的用户编号清单"
   ]
  },
  {
   "cell_type": "code",
   "execution_count": null,
   "metadata": {},
   "outputs": [],
   "source": [
    "smart_metre_2020[smart_metre_2020['用户编号'].isin(list(set(smart_metre_2020['用户编号'])-set(smart_metre_list['user_no'])))][:-1].\\\n",
    "to_csv('./数据导出/远传小表用户（在远传系统中不在营抄系统中）.csv')"
   ]
  },
  {
   "cell_type": "markdown",
   "metadata": {},
   "source": [
    "在营抄系统中不在远传系统中的小表用户编号清单"
   ]
  },
  {
   "cell_type": "code",
   "execution_count": null,
   "metadata": {},
   "outputs": [],
   "source": [
    "smart_metre_list[smart_metre_list['user_no'].isin(list(set(smart_metre_list['user_no'])-set(smart_metre_2020['用户编号'])))].\\\n",
    "to_csv('./数据导出/远传小表用户（在营抄系统中不在远传系统中）.csv')"
   ]
  },
  {
   "cell_type": "markdown",
   "metadata": {},
   "source": [
    "**配对数据的读表质量**"
   ]
  },
  {
   "cell_type": "code",
   "execution_count": 289,
   "metadata": {},
   "outputs": [
    {
     "data": {
      "text/plain": [
       "1.000000    2834\n",
       "0.963636    1608\n",
       "0.927273     820\n",
       "0.890909     527\n",
       "0.854545     260\n",
       "0.909091     175\n",
       "0.872727     149\n",
       "0.945455     147\n",
       "0.818182     135\n",
       "0.981818     115\n",
       "0.836364     106\n",
       "0.781818      75\n",
       "0.800000      64\n",
       "0.763636      51\n",
       "0.745455      46\n",
       "0.690909      26\n",
       "0.727273      26\n",
       "0.709091      22\n",
       "0.636364      22\n",
       "0.654545      17\n",
       "0.672727      17\n",
       "0.545455      15\n",
       "0.581818      15\n",
       "0.600000      15\n",
       "0.418182      12\n",
       "0.618182      12\n",
       "0.563636      11\n",
       "0.436364      11\n",
       "0.509091      11\n",
       "0.363636       9\n",
       "0.454545       9\n",
       "0.400000       8\n",
       "0.381818       7\n",
       "0.472727       7\n",
       "0.527273       6\n",
       "0.490909       6\n",
       "0.309091       6\n",
       "0.254545       5\n",
       "0.290909       5\n",
       "0.181818       5\n",
       "0.200000       5\n",
       "0.327273       5\n",
       "0.345455       5\n",
       "0.109091       4\n",
       "0.090909       3\n",
       "0.272727       3\n",
       "0.054545       3\n",
       "0.163636       3\n",
       "0.018182       3\n",
       "0.036364       2\n",
       "0.236364       2\n",
       "0.145455       2\n",
       "0.218182       2\n",
       "0.072727       1\n",
       "dtype: int64"
      ]
     },
     "execution_count": 289,
     "metadata": {},
     "output_type": "execute_result"
    }
   ],
   "source": [
    "(large_metre_2020_inner.set_index('用户编号').iloc[:,13:-1].notnull().sum(axis=1)/55).value_counts()"
   ]
  },
  {
   "cell_type": "code",
   "execution_count": 305,
   "metadata": {},
   "outputs": [
    {
     "data": {
      "text/plain": [
       "0.836364    16783\n",
       "0.800000    15115\n",
       "0.763636    10858\n",
       "0.872727    10146\n",
       "0.727273     6114\n",
       "0.854545     5252\n",
       "0.818182     4735\n",
       "0.781818     3998\n",
       "0.890909     3664\n",
       "0.745455     3377\n",
       "0.690909     3298\n",
       "0.709091     3130\n",
       "0.654545     2230\n",
       "0.672727     1862\n",
       "0.636364     1362\n",
       "0.618182     1203\n",
       "0.545455      920\n",
       "0.600000      911\n",
       "0.581818      859\n",
       "0.509091      829\n",
       "0.527273      669\n",
       "0.927273      606\n",
       "0.472727      569\n",
       "0.381818      552\n",
       "0.563636      449\n",
       "0.418182      447\n",
       "0.490909      376\n",
       "0.327273      332\n",
       "0.309091      296\n",
       "0.400000      292\n",
       "0.454545      283\n",
       "0.272727      236\n",
       "0.436364      214\n",
       "0.254545      195\n",
       "0.072727      171\n",
       "0.018182      167\n",
       "0.290909      160\n",
       "0.236364      154\n",
       "0.218182      139\n",
       "0.345455      139\n",
       "0.181818      118\n",
       "0.363636      104\n",
       "0.945455       90\n",
       "0.145455       78\n",
       "0.909091       48\n",
       "0.090909       47\n",
       "0.127273       37\n",
       "0.109091       34\n",
       "0.163636       30\n",
       "0.054545       29\n",
       "0.036364       27\n",
       "0.200000       20\n",
       "dtype: int64"
      ]
     },
     "execution_count": 305,
     "metadata": {},
     "output_type": "execute_result"
    }
   ],
   "source": [
    "(smart_metre_2020_inner.set_index('用户编号').iloc[:,13:-1].notnull().sum(axis=1)/55).value_counts()"
   ]
  },
  {
   "cell_type": "code",
   "execution_count": 313,
   "metadata": {},
   "outputs": [
    {
     "data": {
      "text/plain": [
       "Text(0.5, 1.0, '大表')"
      ]
     },
     "execution_count": 313,
     "metadata": {},
     "output_type": "execute_result"
    },
    {
     "data": {
      "image/png": "[encoded data removed]",
      "text/plain": [
       "<Figure size 432x288 with 1 Axes>"
      ]
     },
     "metadata": {
      "needs_background": "light"
     },
     "output_type": "display_data"
    }
   ],
   "source": [
    "(large_metre_2020_inner.set_index('用户编号').iloc[:,13:-1].notnull().sum(axis=1)/55).value_counts(bins=10,normalize=1).plot(kind='bar')\n",
    "plt.xlabel('数据完整率')\n",
    "plt.ylabel('表数量占比')\n",
    "\n",
    "plt.title('大表')"
   ]
  },
  {
   "cell_type": "code",
   "execution_count": 312,
   "metadata": {},
   "outputs": [
    {
     "data": {
      "text/plain": [
       "Text(0.5, 1.0, '小表')"
      ]
     },
     "execution_count": 312,
     "metadata": {},
     "output_type": "execute_result"
    },
    {
     "data": {
      "image/png": "[encoded data removed]",
      "text/plain": [
       "<Figure size 432x288 with 1 Axes>"
      ]
     },
     "metadata": {
      "needs_background": "light"
     },
     "output_type": "display_data"
    }
   ],
   "source": [
    "(smart_metre_2020_inner.set_index('用户编号').iloc[:,13:-1].notnull().sum(axis=1)/55).value_counts(bins=6,normalize=1).plot(kind='bar')\n",
    "plt.xlabel('数据完整率')\n",
    "plt.ylabel('表数量占比')\n",
    "\n",
    "plt.title('小表')"
   ]
  },
  {
   "cell_type": "code",
   "execution_count": 316,
   "metadata": {},
   "outputs": [],
   "source": [
    "all_metre_2020 = large_metre_2020_inner.set_index('用户编号').iloc[:,13:-1].append(smart_metre_2020_inner.set_index('用户编号').iloc[:,13:-1])"
   ]
  },
  {
   "cell_type": "code",
   "execution_count": null,
   "metadata": {},
   "outputs": [],
   "source": []
  },
  {
   "cell_type": "code",
   "execution_count": null,
   "metadata": {},
   "outputs": [],
   "source": []
  },
  {
   "cell_type": "code",
   "execution_count": 354,
   "metadata": {},
   "outputs": [
    {
     "data": {
      "text/plain": [
       "<matplotlib.legend.Legend at 0x24756645b48>"
      ]
     },
     "execution_count": 354,
     "metadata": {},
     "output_type": "execute_result"
    },
    {
     "data": {
      "image/png": "[encoded data removed]",
      "text/plain": [
       "<Figure size 720x360 with 2 Axes>"
      ]
     },
     "metadata": {
      "needs_background": "light"
     },
     "output_type": "display_data"
    }
   ],
   "source": [
    "# 画图\n",
    "fig, ax1 = plt.subplots(figsize = (10, 5))\n",
    "\n",
    "# 左轴\n",
    "large_metre_2020_inner.set_index('用户编号').iloc[:,13:-1].sum().plot(kind='bar',ax=ax1)\n",
    "ax1.set_xlabel('日期')\n",
    "ax1.set_ylabel('远传表水量')\n",
    "plt.title(\"远传大表\")\n",
    "# 右轴\n",
    "ax2 = ax1.twinx()\n",
    "large_metre_2020_inner.set_index('用户编号').iloc[:,13:-1].count().plot(color='r',label='远传正常表数量',ax=ax2)\n",
    "ax2.set_ylabel('远传正常表数量')\n",
    "plt.legend(loc='upper right')"
   ]
  },
  {
   "cell_type": "code",
   "execution_count": 355,
   "metadata": {},
   "outputs": [
    {
     "data": {
      "text/plain": [
       "<matplotlib.legend.Legend at 0x24754a1f648>"
      ]
     },
     "execution_count": 355,
     "metadata": {},
     "output_type": "execute_result"
    },
    {
     "data": {
      "image/png": "[encoded data removed]",
      "text/plain": [
       "<Figure size 720x360 with 2 Axes>"
      ]
     },
     "metadata": {
      "needs_background": "light"
     },
     "output_type": "display_data"
    }
   ],
   "source": [
    "# 画图\n",
    "fig, ax1 = plt.subplots(figsize = (10, 5))\n",
    "\n",
    "# 左轴\n",
    "smart_metre_2020_inner.set_index('用户编号').iloc[:,13:-1].sum().plot(kind='bar',ax=ax1)\n",
    "ax1.set_xlabel('日期')\n",
    "ax1.set_ylabel('远传表水量')\n",
    "plt.title(\"远传小表\")\n",
    "# 右轴\n",
    "ax2 = ax1.twinx()\n",
    "smart_metre_2020_inner.set_index('用户编号').iloc[:,13:-1].count().plot(color='r',label='远传表正常数量',ax=ax2)\n",
    "ax2.set_ylabel('远传正常表数量')\n",
    "plt.legend(loc='upper right')"
   ]
  },
  {
   "cell_type": "code",
   "execution_count": 322,
   "metadata": {},
   "outputs": [
    {
     "data": {
      "text/plain": [
       "2020-01-01    101922\n",
       "2020-01-02    100521\n",
       "2020-01-03    102737\n",
       "2020-01-04    104009\n",
       "2020-01-05    103687\n",
       "2020-01-06    103480\n",
       "2020-01-07    104555\n",
       "2020-01-08    104258\n",
       "2020-01-09    103484\n",
       "2020-01-10    105052\n",
       "2020-01-11    103849\n",
       "2020-01-12     94469\n",
       "2020-01-13     90978\n",
       "2020-01-14     73096\n",
       "2020-01-15     76063\n",
       "2020-01-16     94550\n",
       "2020-01-17     88991\n",
       "2020-01-18     92025\n",
       "2020-01-19     87639\n",
       "2020-01-20     93843\n",
       "2020-01-21     90843\n",
       "2020-01-22     90836\n",
       "2020-01-23    105003\n",
       "2020-01-24    105563\n",
       "2020-01-25    106160\n",
       "2020-01-26    105681\n",
       "2020-01-27    101171\n",
       "2020-01-28     86275\n",
       "2020-01-29     82903\n",
       "2020-01-30     89938\n",
       "2020-01-31     96996\n",
       "2020-02-01    104611\n",
       "2020-02-02    103899\n",
       "2020-02-03     91039\n",
       "2020-02-04     88094\n",
       "2020-02-05     94936\n",
       "2020-02-06     97599\n",
       "2020-02-07     98497\n",
       "2020-02-08      7030\n",
       "2020-02-09      7030\n",
       "2020-02-10      7057\n",
       "2020-02-11      7624\n",
       "2020-02-12     98200\n",
       "2020-02-13     98655\n",
       "2020-02-14     82376\n",
       "2020-02-15     82499\n",
       "2020-02-16    101803\n",
       "2020-02-17    102017\n",
       "2020-02-18    101688\n",
       "2020-02-19    101309\n",
       "2020-02-20    102179\n",
       "2020-02-21    101699\n",
       "2020-02-22     16535\n",
       "2020-02-23     10069\n",
       "2020-02-24     21599\n",
       "dtype: int64"
      ]
     },
     "execution_count": 322,
     "metadata": {},
     "output_type": "execute_result"
    }
   ],
   "source": [
    "all_metre_2020.count()"
   ]
  },
  {
   "cell_type": "code",
   "execution_count": 119,
   "metadata": {},
   "outputs": [
    {
     "data": {
      "text/plain": [
       "<matplotlib.axes._subplots.AxesSubplot at 0x1b702b655c8>"
      ]
     },
     "execution_count": 119,
     "metadata": {},
     "output_type": "execute_result"
    },
    {
     "data": {
      "image/png": "[encoded data removed]",
      "text/plain": [
       "<Figure size 864x864 with 2 Axes>"
      ]
     },
     "metadata": {
      "needs_background": "light"
     },
     "output_type": "display_data"
    }
   ],
   "source": [
    "plt.figure(figsize=(12,12))\n",
    "plt.subplot(2,1,1)\n",
    "large_metre_2020['用途'].astype('str').value_counts(dropna=False).plot(kind='bar',title='远传大表')\n",
    "plt.subplot(2,1,2)\n",
    "smart_metre_2020['用途'].astype('str').value_counts(dropna=False).plot(kind='bar')"
   ]
  },
  {
   "cell_type": "code",
   "execution_count": null,
   "metadata": {},
   "outputs": [],
   "source": []
  },
  {
   "cell_type": "code",
   "execution_count": 110,
   "metadata": {},
   "outputs": [
    {
     "data": {
      "text/plain": [
       "<matplotlib.axes._subplots.AxesSubplot at 0x1b7012f01c8>"
      ]
     },
     "execution_count": 110,
     "metadata": {},
     "output_type": "execute_result"
    },
    {
     "data": {
      "image/png": "[encoded data removed]",
      "text/plain": [
       "<Figure size 864x864 with 2 Axes>"
      ]
     },
     "metadata": {
      "needs_background": "light"
     },
     "output_type": "display_data"
    }
   ],
   "source": [
    "plt.figure(figsize=(12,12))\n",
    "plt.subplot(2,1,1)\n",
    "large_metre_2020['性质'].astype('str').value_counts(dropna=False).plot(kind='bar',title='远传大表')\n",
    "plt.subplot(2,1,2)\n",
    "smart_metre_2020['性质'].astype('str').value_counts(dropna=False).plot(kind='bar')"
   ]
  },
  {
   "cell_type": "code",
   "execution_count": 109,
   "metadata": {
    "scrolled": true
   },
   "outputs": [
    {
     "data": {
      "text/plain": [
       "<matplotlib.axes._subplots.AxesSubplot at 0x1b7011ecd08>"
      ]
     },
     "execution_count": 109,
     "metadata": {},
     "output_type": "execute_result"
    },
    {
     "data": {
      "image/png": "[encoded data removed]",
      "text/plain": [
       "<Figure size 864x864 with 2 Axes>"
      ]
     },
     "metadata": {
      "needs_background": "light"
     },
     "output_type": "display_data"
    }
   ],
   "source": [
    "plt.figure(figsize=(12,12))\n",
    "plt.subplot(2,1,1)\n",
    "large_metre_2020['口径'].astype('str').value_counts(dropna=False).plot(kind='bar',title='远传大表')\n",
    "plt.subplot(2,1,2)\n",
    "smart_metre_2020['口径'].astype('str').value_counts(dropna=False).plot(kind='bar')"
   ]
  },
  {
   "cell_type": "code",
   "execution_count": null,
   "metadata": {},
   "outputs": [],
   "source": []
  },
  {
   "cell_type": "markdown",
   "metadata": {},
   "source": [
    "**远传系统与营抄系统中的远传大小表数量"
   ]
  },
  {
   "cell_type": "code",
   "execution_count": 113,
   "metadata": {},
   "outputs": [
    {
     "data": {
      "text/plain": [
       "<matplotlib.axes._subplots.AxesSubplot at 0x1b7021be348>"
      ]
     },
     "execution_count": 113,
     "metadata": {},
     "output_type": "execute_result"
    },
    {
     "data": {
      "image/png": "[encoded data removed]",
      "text/plain": [
       "<Figure size 864x864 with 2 Axes>"
      ]
     },
     "metadata": {
      "needs_background": "light"
     },
     "output_type": "display_data"
    }
   ],
   "source": [
    "plt.figure(figsize=(12,12))\n",
    "plt.subplot(2,1,1)\n",
    "large_metre_2020['trade_sort'].astype('str').value_counts(dropna=False).plot(kind='bar',title='远传大表')\n",
    "plt.subplot(2,1,2)\n",
    "smart_metre_2020['trade_sort'].astype('str').value_counts(dropna=False).plot(kind='bar')"
   ]
  },
  {
   "cell_type": "code",
   "execution_count": 114,
   "metadata": {},
   "outputs": [
    {
     "data": {
      "text/plain": [
       "<matplotlib.axes._subplots.AxesSubplot at 0x1b701365308>"
      ]
     },
     "execution_count": 114,
     "metadata": {},
     "output_type": "execute_result"
    },
    {
     "data": {
      "image/png": "[encoded data removed]",
      "text/plain": [
       "<Figure size 864x864 with 2 Axes>"
      ]
     },
     "metadata": {
      "needs_background": "light"
     },
     "output_type": "display_data"
    }
   ],
   "source": [
    "plt.figure(figsize=(12,12))\n",
    "plt.subplot(2,1,1)\n",
    "large_metre_2020['use_type_code'].astype('str').value_counts(dropna=False).plot(kind='bar',title='远传大表')\n",
    "plt.subplot(2,1,2)\n",
    "smart_metre_2020['use_type_code'].astype('str').value_counts(dropna=False).plot(kind='bar')"
   ]
  },
  {
   "cell_type": "code",
   "execution_count": 115,
   "metadata": {},
   "outputs": [
    {
     "data": {
      "text/plain": [
       "<matplotlib.axes._subplots.AxesSubplot at 0x1b701676108>"
      ]
     },
     "execution_count": 115,
     "metadata": {},
     "output_type": "execute_result"
    },
    {
     "data": {
      "image/png": "[encoded data removed]",
      "text/plain": [
       "<Figure size 864x864 with 2 Axes>"
      ]
     },
     "metadata": {
      "needs_background": "light"
     },
     "output_type": "display_data"
    }
   ],
   "source": [
    "plt.figure(figsize=(12,12))\n",
    "plt.subplot(2,1,1)\n",
    "large_metre_2020['meter_calibre'].astype('str').value_counts(dropna=False).plot(kind='bar',title='远传大表')\n",
    "plt.subplot(2,1,2)\n",
    "smart_metre_2020['meter_calibre'].astype('str').value_counts(dropna=False).plot(kind='bar')"
   ]
  },
  {
   "cell_type": "code",
   "execution_count": 116,
   "metadata": {},
   "outputs": [
    {
     "data": {
      "text/plain": [
       "<matplotlib.axes._subplots.AxesSubplot at 0x1b7020b3b48>"
      ]
     },
     "execution_count": 116,
     "metadata": {},
     "output_type": "execute_result"
    },
    {
     "data": {
      "image/png": "[encoded data removed]",
      "text/plain": [
       "<Figure size 864x864 with 2 Axes>"
      ]
     },
     "metadata": {
      "needs_background": "light"
     },
     "output_type": "display_data"
    }
   ],
   "source": [
    "plt.figure(figsize=(12,12))\n",
    "plt.subplot(2,1,1)\n",
    "large_metre_2020['user_ms_type'].astype('str').value_counts(dropna=False).plot(kind='bar',title='远传大表')\n",
    "plt.subplot(2,1,2)\n",
    "smart_metre_2020['user_ms_type'].astype('str').value_counts(dropna=False).plot(kind='bar')"
   ]
  },
  {
   "cell_type": "code",
   "execution_count": 134,
   "metadata": {},
   "outputs": [
    {
     "data": {
      "text/plain": [
       "<matplotlib.axes._subplots.AxesSubplot at 0x1b769966588>"
      ]
     },
     "execution_count": 134,
     "metadata": {},
     "output_type": "execute_result"
    },
    {
     "data": {
      "image/png": "[encoded data removed]",
      "text/plain": [
       "<Figure size 864x576 with 1 Axes>"
      ]
     },
     "metadata": {
      "needs_background": "light"
     },
     "output_type": "display_data"
    }
   ],
   "source": [
    "large_metre_2020.boxplot(column=[\"合计\"], by=\"meter_calibre\",figsize=(12,8))"
   ]
  },
  {
   "cell_type": "code",
   "execution_count": 131,
   "metadata": {},
   "outputs": [
    {
     "data": {
      "text/plain": [
       "<matplotlib.axes._subplots.AxesSubplot at 0x1b75c894dc8>"
      ]
     },
     "execution_count": 131,
     "metadata": {},
     "output_type": "execute_result"
    },
    {
     "data": {
      "image/png": "[encoded data removed]",
      "text/plain": [
       "<Figure size 864x576 with 1 Axes>"
      ]
     },
     "metadata": {
      "needs_background": "light"
     },
     "output_type": "display_data"
    }
   ],
   "source": [
    "smart_metre_2020.boxplot(column=[\"合计\"], by=\"meter_calibre\",figsize=(12,8))"
   ]
  },
  {
   "cell_type": "code",
   "execution_count": 129,
   "metadata": {},
   "outputs": [
    {
     "data": {
      "text/plain": [
       "<matplotlib.axes._subplots.AxesSubplot at 0x1b7594ada08>"
      ]
     },
     "execution_count": 129,
     "metadata": {},
     "output_type": "execute_result"
    },
    {
     "data": {
      "image/png": "[encoded data removed]",
      "text/plain": [
       "<Figure size 864x576 with 1 Axes>"
      ]
     },
     "metadata": {
      "needs_background": "light"
     },
     "output_type": "display_data"
    }
   ],
   "source": [
    "large_metre_2020.boxplot(column=[\"合计\"], by=\"use_type_code\",figsize=(12,8))"
   ]
  },
  {
   "cell_type": "code",
   "execution_count": 130,
   "metadata": {},
   "outputs": [
    {
     "data": {
      "text/plain": [
       "<matplotlib.axes._subplots.AxesSubplot at 0x1b75b73e7c8>"
      ]
     },
     "execution_count": 130,
     "metadata": {},
     "output_type": "execute_result"
    },
    {
     "data": {
      "text/plain": [
       "<Figure size 1440x720 with 0 Axes>"
      ]
     },
     "metadata": {},
     "output_type": "display_data"
    },
    {
     "data": {
      "image/png": "[encoded data removed]",
      "text/plain": [
       "<Figure size 864x576 with 1 Axes>"
      ]
     },
     "metadata": {
      "needs_background": "light"
     },
     "output_type": "display_data"
    }
   ],
   "source": [
    "plt.figure(figsize=(20,10))\n",
    "smart_metre_2020.boxplot(column=[\"合计\"], by=\"use_type_code\",figsize=(12,8))"
   ]
  },
  {
   "cell_type": "code",
   "execution_count": null,
   "metadata": {},
   "outputs": [],
   "source": [
    "print(\"远传系统2020年远传大表数量{}，营抄系统2020年远传大表清单表数量{}\".format(large_metre_2020['用户编号'].count(),large_metre_list['user_no'].count()))"
   ]
  },
  {
   "cell_type": "code",
   "execution_count": null,
   "metadata": {},
   "outputs": [],
   "source": [
    "print(\"远传系统2020年远传小表数量{}，营抄系统2020年远传小表清单表数量{}\".format(smart_metre_2020['用户编号'].count(),smart_metre_list['user_no'].count()))"
   ]
  },
  {
   "cell_type": "code",
   "execution_count": null,
   "metadata": {},
   "outputs": [],
   "source": []
  },
  {
   "cell_type": "code",
   "execution_count": null,
   "metadata": {},
   "outputs": [],
   "source": []
  }
 ],
 "metadata": {
  "kernelspec": {
   "display_name": "Python 3",
   "language": "python",
   "name": "python3"
  },
  "language_info": {
   "codemirror_mode": {
    "name": "ipython",
    "version": 3
   },
   "file_extension": ".py",
   "mimetype": "text/x-python",
   "name": "python",
   "nbconvert_exporter": "python",
   "pygments_lexer": "ipython3",
   "version": "3.7.4"
  }
 },
 "nbformat": 4,
 "nbformat_minor": 2
}
