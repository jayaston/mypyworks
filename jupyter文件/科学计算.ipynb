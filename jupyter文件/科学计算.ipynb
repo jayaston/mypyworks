{
 "cells": [
  {
   "cell_type": "code",
   "execution_count": 1,
   "metadata": {},
   "outputs": [],
   "source": [
    "import sympy as sy#不定积分、定积分、符号运算\n",
    "import numpy as np #向量运算\n",
    "import scipy as sc #定积分、点集积分\n",
    "from scipy.integrate import tplquad,dblquad,quad #sc 不能替代scipy.integrate 他们属于不同文件\n",
    "import matplotlib.pyplot as plt #科学画图\n",
    "import datetime as dt"
   ]
  },
  {
   "cell_type": "code",
   "execution_count": 6,
   "metadata": {},
   "outputs": [
    {
     "data": {
      "text/plain": [
       "datetime.date(2021, 11, 22)"
      ]
     },
     "execution_count": 6,
     "metadata": {},
     "output_type": "execute_result"
    }
   ],
   "source": [
    "#计算时间\n",
    "dt.date(2021,5,21)+dt.timedelta(days=185)"
   ]
  },
  {
   "cell_type": "code",
   "execution_count": 3,
   "metadata": {},
   "outputs": [
    {
     "data": {
      "text/plain": [
       "-0.5390246011650612"
      ]
     },
     "execution_count": 3,
     "metadata": {},
     "output_type": "execute_result"
    }
   ],
   "source": [
    "#定义自变量的域，，其中a是一个实数，b是一个正数，c是一个负数，d是一个奇数，e是一个偶数。\n",
    "x = sym.symbol(\"x\")\n",
    "a = sym.symbol(\"a\", real = True)\n",
    "b = sym.symbol(\"b\", positive = True)\n",
    "c = sym.symbol(\"c\", negative = True)\n",
    "d = sym.symbol(\"d\", odd = True)\n",
    "e = sym.symbol(\"e\", even = True)\n",
    "y, z = sym.symbols(\"x, y\")"
   ]
  },
  {
   "cell_type": "code",
   "execution_count": 2,
   "metadata": {},
   "outputs": [
    {
     "data": {
      "text/plain": [
       "3.0"
      ]
     },
     "execution_count": 2,
     "metadata": {},
     "output_type": "execute_result"
    }
   ],
   "source": [
    "np.sqrt(9)"
   ]
  },
  {
   "cell_type": "code",
   "execution_count": 15,
   "metadata": {},
   "outputs": [
    {
     "name": "stdout",
     "output_type": "stream",
     "text": [
      "0.25825201855145286\n",
      "0.2608249877784703\n"
     ]
    }
   ],
   "source": [
    "#函数画图\n",
    "def f(x1,x2,x3,x4):\n",
    "    return 1 - (x1+x2+x3+x4)/(x1/(1-0.3812)+x2/(1-0.2062)+x3/(1-0.2943)+x4/(1-0.1609))\n",
    "\n",
    "x1 = np.linspace(3905 +2043*(1-0.05), 3905 +2043*(1+0.05), 100)#中\n",
    "x2 = np.linspace(6196 +3327 *(1-0.05), 6196 +3327 *(1+0.05), 100)#东\n",
    "x3 = np.linspace(4272 +2035 *(1-0.05), 4272 +2035 *(1+0.05), 100)#南\n",
    "x4 = np.linspace(4769 +2379 *(1-0.05), 4769 +2379 *(1+0.05), 100)#北\n",
    "\n",
    "import itertools\n",
    "xlist = list(itertools.product(x1,x2,x3,x4))\n",
    "\n",
    "result = [f(i[0],i[1],i[2],i[3]) for i in xlist]\n",
    "print(min(result))\n",
    "print(max(result))"
   ]
  },
  {
   "cell_type": "code",
   "execution_count": null,
   "metadata": {},
   "outputs": [],
   "source": [
    "#x = np.arange(-100.,100.,0.1)\n",
    "ax.plot(x, f(x), lw=2)\n",
    "ax.fill_between(x, f(x), color='green', alpha=0.5)\n",
    "ax.set_xlabel(\"$x$\", fontsize=18)\n",
    "ax.set_ylabel(\"$f(x)$\", fontsize=18)\n",
    "ax.set_ylim(0, 25)\n",
    "#plt.show()"
   ]
  },
  {
   "cell_type": "code",
   "execution_count": 3,
   "metadata": {},
   "outputs": [
    {
     "name": "stdout",
     "output_type": "stream",
     "text": [
      "3.999999999999999\n"
     ]
    },
    {
     "data": {
      "text/plain": [
       "(0, 25)"
      ]
     },
     "execution_count": 3,
     "metadata": {},
     "output_type": "execute_result"
    },
    {
     "data": {
      "image/png": "[encoded data removed]",
      "text/plain": [
       "<Figure size 576x216 with 1 Axes>"
      ]
     },
     "metadata": {
      "needs_background": "light"
     },
     "output_type": "display_data"
    }
   ],
   "source": [
    "#函数画图\n",
    "def f(x):\n",
    "    return 1 / np.sqrt(abs(x))\n",
    "v, err = quad(f, -1, 1, points=[0])\n",
    "print(v)\n",
    "fig, ax = plt.subplots(figsize=(8, 3))\n",
    "x = np.linspace(-1, 1, 10000)\n",
    "#x = np.arange(-100.,100.,0.1)\n",
    "ax.plot(x, f(x), lw=2)\n",
    "ax.fill_between(x, f(x), color='green', alpha=0.5)\n",
    "ax.set_xlabel(\"$x$\", fontsize=18)\n",
    "ax.set_ylabel(\"$f(x)$\", fontsize=18)\n",
    "ax.set_ylim(0, 25)\n",
    "#plt.show()"
   ]
  },
  {
   "cell_type": "code",
   "execution_count": 3,
   "metadata": {},
   "outputs": [
    {
     "name": "stdout",
     "output_type": "stream",
     "text": [
      "3.999999999999999\n"
     ]
    },
    {
     "data": {
      "text/plain": [
       "(0, 25)"
      ]
     },
     "execution_count": 3,
     "metadata": {},
     "output_type": "execute_result"
    },
    {
     "data": {
      "image/png": "[encoded data removed]",
      "text/plain": [
       "<Figure size 576x216 with 1 Axes>"
      ]
     },
     "metadata": {
      "needs_background": "light"
     },
     "output_type": "display_data"
    }
   ],
   "source": [
    "#函数画图2\n",
    "def f(x):\n",
    "    return np.square(x+3)*np.power(x-1,3)\n",
    "\n",
    "fig, ax = plt.subplots(figsize=(8, 6))\n",
    "x = np.linspace(-4, 2, 10000)\n",
    "#x = np.arange(-100.,100.,0.1)\n",
    "ax.plot(x, f(x), lw=2)\n",
    "ax.fill_between(x, f(x), color='green', alpha=0.5)\n",
    "ax.set_xlabel(\"$x$\", fontsize=18)\n",
    "ax.set_ylabel(\"$f(x)$\", fontsize=18)\n",
    "#ax.set_ylim(-5, 5)\n",
    "#plt.show()"
   ]
  },
  {
   "cell_type": "code",
   "execution_count": 70,
   "metadata": {},
   "outputs": [
    {
     "data": {
      "text/plain": [
       "Text(0, 0.5, '$f(x)$')"
      ]
     },
     "execution_count": 70,
     "metadata": {},
     "output_type": "execute_result"
    },
    {
     "data": {
      "image/png": "[encoded data removed]",
      "text/plain": [
       "<Figure size 576x432 with 1 Axes>"
      ]
     },
     "metadata": {
      "needs_background": "light"
     },
     "output_type": "display_data"
    }
   ],
   "source": [
    "#函数画图2  x范围不要太大\n",
    "def f(x):\n",
    "    return 1/(np.power(0.2,-x)+1)\n",
    "\n",
    "fig, ax = plt.subplots(figsize=(8, 6))\n",
    "x = np.linspace(-100, 100, 10000)\n",
    "#x = np.arange(-100.,100.,0.1)\n",
    "ax.plot(x, f(x), lw=2)\n",
    "ax.fill_between(x, f(x), color='green', alpha=0.5)\n",
    "ax.set_xlabel(\"$x$\", fontsize=18)\n",
    "ax.set_ylabel(\"$f(x)$\", fontsize=18)\n",
    "#ax.set_ylim(-5, 5)\n",
    "#plt.show()"
   ]
  },
  {
   "cell_type": "code",
   "execution_count": 27,
   "metadata": {},
   "outputs": [
    {
     "name": "stdout",
     "output_type": "stream",
     "text": [
      "积分结果： 2.0\n",
      "二重积分结果： -0.4989998520503062\n",
      "三重积分结果： -0.05881880054964517\n"
     ]
    }
   ],
   "source": [
    "#scipy计算定积分\n",
    "val1,err1=quad(lambda x:np.sin(x),#函数\n",
    "               0,#x下界0\n",
    "               np.pi)#x上界pi\n",
    "print ('积分结果：',val1)\n",
    " \n",
    "#二重积分\n",
    "val2,err2=dblquad(lambda y,x:np.sin(x)*np.cos(y),#函数\n",
    "                  0,#x下界0\n",
    "                  np.pi,#x上界pi\n",
    "                  lambda x:x**2,#y下界x^2\n",
    "                  lambda x:2*x)#y上界2*x\n",
    "print ('二重积分结果：',val2)\n",
    " \n",
    "#三重积分\n",
    "val3,err3=tplquad(lambda z,y,x:1/(np.sqrt(x+y**2+z**3)),#函数\n",
    "                0,#x下界0\n",
    "                1,#x上界1\n",
    "                lambda x:-x,#y下界-x\n",
    "                lambda x:x,#y上界x\n",
    "                lambda x,y:np.sin(x),#z下界sin(x)\n",
    "                lambda x,y:x+2*y)#z上界x+2*y\n",
    "print ('三重积分结果：',val3)\n"
   ]
  },
  {
   "cell_type": "code",
   "execution_count": null,
   "metadata": {},
   "outputs": [],
   "source": [
    "#展开多项式\n",
    "sympy.expand((x+1)**2)\n",
    "#x**2 + 2*x + 1\n",
    "sympy.expand((x+1)**5)\n",
    "#x**5 + 5*x**4 + 10*x**3 + 10*x**2 + 5*x + 1\n",
    "#因式分解\n",
    "sympy.factor(x**3+1)\n",
    "#(x + 1)*(x**2 - x + 1)\n",
    "sympy.factor(x**2+3*x+2)\n",
    "#(x + 1)*(x + 2)"
   ]
  },
  {
   "cell_type": "code",
   "execution_count": 77,
   "metadata": {},
   "outputs": [
    {
     "data": {
      "text/latex": [
       "$\\displaystyle - \\frac{dx}{dy y + y^{2}} + \\frac{dy}{dy y + y^{2}} - \\frac{x}{dy y + y^{2}} + \\frac{x}{y^{2}} + \\frac{1}{dy + y} - \\frac{1}{y}$"
      ],
      "text/plain": [
       "-dx/(dy*y + y**2) + dy/(dy*y + y**2) - x/(dy*y + y**2) + x/y**2 + 1/(dy + y) - 1/y"
      ]
     },
     "execution_count": 77,
     "metadata": {},
     "output_type": "execute_result"
    }
   ],
   "source": [
    "#sympy简化公式\n",
    "#sympy中公式变量也是可以四则运算的\n",
    "x,y,dx,dy = sy.symbols('x y dx dy')\n",
    "f1 = (y+dy-x-dx)/(y+dy)-(y-x)/y\n",
    "f2 =  y\n",
    "sy.simplify(f1/f2)\n",
    "#展开表达式\n",
    "#f3 = (x-5)**3\n",
    "sy.expand(f1/f2)\n",
    "\n"
   ]
  },
  {
   "cell_type": "code",
   "execution_count": 5,
   "metadata": {},
   "outputs": [
    {
     "data": {
      "text/latex": [
       "$\\displaystyle \\frac{- b g - b i + g - h}{c}$"
      ],
      "text/plain": [
       "(-b*g - b*i + g - h)/c"
      ]
     },
     "execution_count": 5,
     "metadata": {},
     "output_type": "execute_result"
    }
   ],
   "source": [
    "#简化产销差影响公式\n",
    "#当期产销差率 B，对比期产销差率 A ，\n",
    "#E 为当期供水量，F 为当期售水量，\n",
    "#C 为对比期供水量，D 对比期售水量。\n",
    "# G 为单独影响供水量变化因素引起的两期供水量增加值；\n",
    "#H 为单独影响售水量变化因素引起的两期售水量增加值\n",
    "# I 为影响供水量、售水量同时变化的因素引起的两期供水量、售水量增加值\n",
    "b,c,g,h,i = sy.symbols('b c g h i')\n",
    "f1 = b-(c-(((c+g+i)*(1-b))-h-i))/c\n",
    "\n",
    "sy.simplify(f1)\n",
    "#sy.expand(f1)"
   ]
  },
  {
   "cell_type": "code",
   "execution_count": 48,
   "metadata": {},
   "outputs": [
    {
     "data": {
      "text/latex": [
       "$\\displaystyle 5.0$"
      ],
      "text/plain": [
       "5.00000000000000"
      ]
     },
     "execution_count": 48,
     "metadata": {},
     "output_type": "execute_result"
    }
   ],
   "source": [
    "#求表达式的值\n",
    "x,y = sy.symbols('x y')\n",
    "fx = x**2 - 5*x + 6 + y\n",
    "fx.evalf(subs = {x:2 , y:5})"
   ]
  },
  {
   "cell_type": "code",
   "execution_count": 4,
   "metadata": {},
   "outputs": [
    {
     "data": {
      "text/latex": [
       "$\\displaystyle \\sqrt{2}$"
      ],
      "text/plain": [
       "sqrt(2)"
      ]
     },
     "execution_count": 4,
     "metadata": {},
     "output_type": "execute_result"
    }
   ],
   "source": [
    "sy.sqrt(2)"
   ]
  },
  {
   "cell_type": "code",
   "execution_count": 8,
   "metadata": {},
   "outputs": [
    {
     "data": {
      "text/plain": [
       "[1]"
      ]
     },
     "execution_count": 8,
     "metadata": {},
     "output_type": "execute_result"
    }
   ],
   "source": [
    "#解方程、方程组 等式右边自动当0\n",
    "x,y = sy.symbols('x y')\n",
    "#fx = 1+0.6*x\n",
    "fx = sy.sqrt((x**2+4)/2)+sy.sqrt((6-x)**2-(x**2+4)/2)-sy.sqrt(40)\n",
    "sy.solve(fx,x)\n",
    "\n",
    "#list(map(float,sy.solve(fx,x)))\n",
    "\n",
    "#sy.solve([x + y - 1,x - y -3],[x,y])"
   ]
  },
  {
   "cell_type": "code",
   "execution_count": 31,
   "metadata": {},
   "outputs": [
    {
     "data": {
      "text/latex": [
       "$\\displaystyle 10100$"
      ],
      "text/plain": [
       "10100"
      ]
     },
     "execution_count": 31,
     "metadata": {},
     "output_type": "execute_result"
    }
   ],
   "source": [
    "#计算求和式\n",
    "n = sy.Symbol('n',integer =True) #变量只出现在求和式中会自动当成int类型可以不指定int。\n",
    "sy.summation(2 * n,(n,1,100)) #也是求和式的表达式"
   ]
  },
  {
   "cell_type": "code",
   "execution_count": 36,
   "metadata": {},
   "outputs": [
    {
     "data": {
      "text/latex": [
       "$\\displaystyle 10 x + 40$"
      ],
      "text/plain": [
       "10*x + 40"
      ]
     },
     "execution_count": 36,
     "metadata": {},
     "output_type": "execute_result"
    }
   ],
   "source": [
    "#解带求和式的方程\n",
    "x,i= sy.symbols('x i')\n",
    "\n",
    "f = sy.summation(x,(i,1,5)) + 10 * x - 15 \n",
    "#求和公式summation第一个参数是项表达式，第二个参数表示累加项数，如果项表达式不用项数表示那么只会显示表达式。\n",
    "sy.solve(f,x) "
   ]
  },
  {
   "cell_type": "code",
   "execution_count": 50,
   "metadata": {},
   "outputs": [
    {
     "data": {
      "text/latex": [
       "$\\displaystyle 1$"
      ],
      "text/plain": [
       "1"
      ]
     },
     "execution_count": 50,
     "metadata": {},
     "output_type": "execute_result"
    }
   ],
   "source": [
    "#极限计算\n",
    "n = sy.Symbol('n')\n",
    "s = n/(n+1)\n",
    "sy.limit(s,n,sy.oo,'-')#不加符号则默认‘+’右极限。其实当趋近于sy.oo,-sy.oo时符号时无效的。"
   ]
  },
  {
   "cell_type": "code",
   "execution_count": 12,
   "metadata": {},
   "outputs": [
    {
     "data": {
      "image/png": "[encoded data removed]",
      "text/latex": [
       "$\\displaystyle 1$"
      ],
      "text/plain": [
       "1"
      ]
     },
     "metadata": {},
     "output_type": "display_data"
    },
    {
     "data": {
      "image/png": "[encoded data removed]",
      "text/latex": [
       "$\\displaystyle \\infty$"
      ],
      "text/plain": [
       "∞"
      ]
     },
     "metadata": {},
     "output_type": "display_data"
    },
    {
     "data": {
      "text/latex": [
       "下面是行间公式:\\[\\lim_{x \\to 0^-} \\frac{1}{x}=-\\infty\\]"
      ],
      "text/plain": [
       "<IPython.core.display.Latex object>"
      ]
     },
     "metadata": {},
     "output_type": "display_data"
    }
   ],
   "source": [
    "#一次算多个极限\n",
    "\n",
    "from IPython.display import display, Latex\n",
    "import sympy as sy\n",
    "x, y, z = sy.symbols('x y z', real=True)\n",
    "sy.init_printing(use_unicode=True)\n",
    "\n",
    "f1 = sy.sin(x)/x\n",
    "\n",
    "\n",
    "display(sy.limit(f1, x, 0))\n",
    "\n",
    "f2 = 1/x\n",
    "\n",
    "\n",
    "lmt3 = sy.Limit(f2, x, 0, '-')\n",
    "display(sy.limit(f2, x, 0, '+'))\n",
    "display(Latex(f\"下面是行间公式:\\[{sy.latex(lmt3)}={sy.latex(lmt3.doit())}\\]\"))"
   ]
  },
  {
   "cell_type": "markdown",
   "metadata": {},
   "source": [
    "一元函数求导"
   ]
  },
  {
   "cell_type": "code",
   "execution_count": 46,
   "metadata": {},
   "outputs": [
    {
     "data": {
      "text/latex": [
       "$\\displaystyle \\left(x - 1\\right)^{3} \\left(2 x + 6\\right) + 3 \\left(x - 1\\right)^{2} \\left(x + 3\\right)^{2}$"
      ],
      "text/plain": [
       "(x - 1)**3*(2*x + 6) + 3*(x - 1)**2*(x + 3)**2"
      ]
     },
     "execution_count": 46,
     "metadata": {},
     "output_type": "execute_result"
    }
   ],
   "source": [
    "x = sy.Symbol('x')\n",
    "f =((x+3)**2) * ((x-1)**3)\n",
    "sy.diff(f,x,1)\n",
    "#sy.diff(f,x,2)"
   ]
  },
  {
   "cell_type": "code",
   "execution_count": 8,
   "metadata": {},
   "outputs": [
    {
     "data": {
      "text/plain": [
       "Text(0, 0.5, '$f(x)$')"
      ]
     },
     "execution_count": 8,
     "metadata": {},
     "output_type": "execute_result"
    },
    {
     "data": {
      "image/png": "[encoded data removed]",
      "text/plain": [
       "<Figure size 576x432 with 1 Axes>"
      ]
     },
     "metadata": {
      "needs_background": "light"
     },
     "output_type": "display_data"
    }
   ],
   "source": [
    "def f(x):\n",
    "    return 2*(x-1)*((x-1)**2 + 6*(x-1)*(x+3)+3*(x+3)**2)\n",
    "\n",
    "fig, ax = plt.subplots(figsize=(8,6))\n",
    "x = np.linspace(-4, 4, 10000)\n",
    "#x = np.arange(-100.,100.,0.1)\n",
    "ax.plot(x, f(x), lw=2)\n",
    "ax.fill_between(x, f(x), color='green', alpha=0.5)\n",
    "ax.set_xlabel(\"$x$\", fontsize=18)\n",
    "ax.set_ylabel(\"$f(x)$\", fontsize=18)\n",
    "#ax.set_ylim(0, 25)\n",
    "#plt.show()"
   ]
  },
  {
   "cell_type": "code",
   "execution_count": 101,
   "metadata": {},
   "outputs": [
    {
     "data": {
      "text/latex": [
       "$\\displaystyle \\frac{0.37037037037037}{x^{2.66666666666667}}$"
      ],
      "text/plain": [
       "0.37037037037037*x**(-2.66666666666667)"
      ]
     },
     "execution_count": 101,
     "metadata": {},
     "output_type": "execute_result"
    }
   ],
   "source": [
    "#三阶导数\n",
    "x = sy.Symbol('x')\n",
    "f = x**(1/3)\n",
    "sy.diff(f,x,3)"
   ]
  },
  {
   "cell_type": "code",
   "execution_count": 105,
   "metadata": {},
   "outputs": [
    {
     "data": {
      "text/plain": [
       "Text(0, 0.5, '$f(x)$')"
      ]
     },
     "execution_count": 105,
     "metadata": {},
     "output_type": "execute_result"
    },
    {
     "data": {
      "image/png": "[encoded data removed]",
      "text/plain": [
       "<Figure size 576x432 with 1 Axes>"
      ]
     },
     "metadata": {
      "needs_background": "light"
     },
     "output_type": "display_data"
    }
   ],
   "source": [
    "def f(x):\n",
    "    return  x**3\n",
    "\n",
    "fig, ax = plt.subplots(figsize=(8,6))\n",
    "x = np.linspace(0,10, 10000)\n",
    "#x = np.arange(-1,100.,0.1)\n",
    "ax.plot(x, f(x), lw=2)\n",
    "ax.fill_between(x, f(x), color='green', alpha=0.5)\n",
    "ax.set_xlabel(\"$x$\", fontsize=18)\n",
    "ax.set_ylabel(\"$f(x)$\", fontsize=18)\n",
    "#ax.set_ylim(-0.1, 0)\n",
    "#plt.show()"
   ]
  },
  {
   "cell_type": "code",
   "execution_count": 102,
   "metadata": {},
   "outputs": [
    {
     "data": {
      "text/latex": [
       "$\\displaystyle 96$"
      ],
      "text/plain": [
       "96"
      ]
     },
     "execution_count": 102,
     "metadata": {},
     "output_type": "execute_result"
    }
   ],
   "source": [
    "#diff也可以解多元的偏导，\n",
    "#.subs(x,2)是计算具体在这点上的导数值\n",
    "x,y,z = sy.symbols('x y z')\n",
    "expr = 2*x*y**2*z**4\n",
    "\n",
    "sy.diff(expr, y)\n",
    "#sy.diff(expr, x).subs([(x, 2), (y, 4), (z, 1)])  #计算具体导数植\n",
    "# sy.diff(expr, x,x,x)\n",
    "# sy.diff(expr, x,3)#这个和上面是等效的\n",
    "# sy.diff(expr, x, y,  z)#但是要记住每次解导数的时候都是在前面一次的结果上再求导数，没有数字默认为1阶\n",
    "# sy.diff(expr, x, y, 2, z, 4)#x的偏导函数再对y计算二级偏导再对结果计算z的四阶偏导\n",
    "sy.diff(expr, x, y, y, z, 4)\n",
    "\n",
    "# deriv = sy.Derivative(expr, x, y, y, z, 4)#这是先写成计算偏导的表达式。后面是函数。前面分别按顺序对前一个结果计算几阶偏导\n",
    "# deriv.doit()#然后再求解。和# sy.diff(expr, x, y, 2, z, 4)效果一样"
   ]
  },
  {
   "cell_type": "code",
   "execution_count": 99,
   "metadata": {},
   "outputs": [
    {
     "data": {
      "text/latex": [
       "$\\displaystyle \\frac{x + z}{y^{2}}$"
      ],
      "text/plain": [
       "(x + z)/y**2"
      ]
     },
     "execution_count": 99,
     "metadata": {},
     "output_type": "execute_result"
    }
   ],
   "source": [
    "\n",
    "#全微分就是综合了各个方向的斜率后的总增长量。一般形式就是各个方向上的增长量相加再减去一个综合值。总体增长量的是系数为各个偏导的线性方程组，类似于多个方向的力的结果。\n",
    "#以下是漏损率的全微分方程,全微分方程就是各个偏导数为系数，\n",
    "x,y,z = sy.symbols('x y z')#x是售水量z是免费水量#y是供水量\n",
    "f = 1-(x+z)/y\n",
    "sy.diff(f,y)\n",
    "\n",
    "#sy.diff(fx,x)\n",
    "\n",
    "\n",
    "# f1 = sy.exp(x*y*z)\n",
    "# sy.diff(f1,x,y,2,z,4)\n",
    "# f2 = x**2+3*x*y+y**2\n",
    "# sy.diff(f2,x,1,y,2) #这是计算高阶导数\n",
    "\n",
    "# f3 = x**4+y**3\n",
    "# sy.diff(f3,x,1,)#.subs(x,2)\n",
    "# f4 = (x+1)**3*(y+7)**2*(z-2)\n",
    "# sy.diff(f4,z)\n",
    "# f5 = sy.sin(x*y)*sy.cos(y/3)\n",
    "# sy.diff(f5,x)  #这是计算偏导\n"
   ]
  },
  {
   "cell_type": "code",
   "execution_count": null,
   "metadata": {},
   "outputs": [],
   "source": []
  },
  {
   "cell_type": "code",
   "execution_count": 13,
   "metadata": {},
   "outputs": [
    {
     "data": {
      "text/latex": [
       "$\\displaystyle \\frac{6 x}{y^{4}}$"
      ],
      "text/plain": [
       "6*x/y**4"
      ]
     },
     "execution_count": 13,
     "metadata": {},
     "output_type": "execute_result"
    }
   ],
   "source": [
    "#二元函数偏导数,二阶偏导数1-x/y\n",
    "x,y = sy.symbols('x y')\n",
    "f = 1-x/y\n",
    "fx = sy.diff(f,y,3)#func是要求导的函数，x是要对其求导的变量，n是可选的，表示求n阶导数，默认为1阶导数。\n",
    "\n",
    "#sy.diff(fx,x)\n",
    "fy = sy.diff(f,x,2)\n",
    "fx"
   ]
  },
  {
   "cell_type": "code",
   "execution_count": 10,
   "metadata": {},
   "outputs": [
    {
     "data": {
      "text/latex": [
       "$\\displaystyle \\frac{x}{y^{2}}$"
      ],
      "text/plain": [
       "x/y**2"
      ]
     },
     "execution_count": 10,
     "metadata": {},
     "output_type": "execute_result"
    }
   ],
   "source": [
    "sy.diff(f,y)"
   ]
  },
  {
   "cell_type": "code",
   "execution_count": 106,
   "metadata": {},
   "outputs": [
    {
     "data": {
      "text/latex": [
       "$\\displaystyle x^{2} y^{2} \\left(x^{4} y^{4} z^{4} + 20 x^{3} y^{3} z^{3} + 122 x^{2} y^{2} z^{2} + 256 x y z + 144\\right) e^{x y z}$"
      ],
      "text/plain": [
       "x**2*y**2*(x**4*y**4*z**4 + 20*x**3*y**3*z**3 + 122*x**2*y**2*z**2 + 256*x*y*z + 144)*exp(x*y*z)"
      ]
     },
     "execution_count": 106,
     "metadata": {},
     "output_type": "execute_result"
    }
   ],
   "source": [
    "#求多阶偏导数\n",
    "#from IPython.display import display, Latex\n",
    "import sympy as sy\n",
    "x, y, z = sy.symbols('x y z')\n",
    "\n",
    "f1 = sy.exp(x*y*z)\n",
    "sy.diff(f1,x,2,y,2,z,4)"
   ]
  },
  {
   "cell_type": "code",
   "execution_count": 105,
   "metadata": {},
   "outputs": [
    {
     "data": {
      "text/latex": [
       "$\\displaystyle \\log{\\left(e^{x} + 1 \\right)} + \\frac{e^{x}}{x^{2} - 1}$"
      ],
      "text/plain": [
       "log(exp(x) + 1) + exp(x)/(x**2 - 1)"
      ]
     },
     "execution_count": 105,
     "metadata": {},
     "output_type": "execute_result"
    }
   ],
   "source": [
    "#sympy求不定积分\n",
    "x = sy.symbols('x')\n",
    "sy.integrate(1/x,x)\n",
    "# 只写表达式\n",
    "integ = sy.Integral((x**4 + x**2*sy.exp(x) - x**2 - 2*x*sy.exp(x) - 2*x -\n",
    "    sy.exp(x))*sy.exp(x)/((x - 1)**2*(x + 1)**2*(sy.exp(x) + 1)), x)\n",
    "integ\n",
    "integ.doit() #计算表达式"
   ]
  },
  {
   "cell_type": "markdown",
   "metadata": {},
   "source": [
    "下面的例子，显示了如何求定积分，注意，sympy.Integral对象调用doit()方法求出的依然是sympy symbols expression，不是具体的数值，可以继续调用evalf()方法来求出其数值（如果可以的话）："
   ]
  },
  {
   "cell_type": "code",
   "execution_count": 95,
   "metadata": {},
   "outputs": [
    {
     "data": {
      "text/latex": [
       "$\\displaystyle \\log{\\left(2 x + 1 \\right)}$"
      ],
      "text/plain": [
       "log(2*x + 1)"
      ]
     },
     "execution_count": 95,
     "metadata": {},
     "output_type": "execute_result"
    }
   ],
   "source": [
    "#sympy求变限定积分\n",
    "import sympy as sy\n",
    "x,t = sy.symbols('x t')\n",
    "f = 1/(1+t)\n",
    "sy.integrate(f,(t,0,2*x))\n"
   ]
  },
  {
   "cell_type": "code",
   "execution_count": 19,
   "metadata": {},
   "outputs": [
    {
     "data": {
      "text/latex": [
       "$$\\int\\limits_{0}^{4} \\cos{\\left(2 x \\right)}\\, dx=\\frac{\\sin{\\left(8 \\right)}}{2}=\\frac{\\sin{\\left(8 \\right)}}{2}=0.494679123311691$$"
      ],
      "text/plain": [
       "<IPython.core.display.Latex object>"
      ]
     },
     "metadata": {},
     "output_type": "display_data"
    }
   ],
   "source": [
    "#sympy求定积分\n",
    "\n",
    "from IPython.display import display, Latex\n",
    "import sympy as sy\n",
    "x, y, z = sy.symbols('x y z', real=True)\n",
    "#sy.init_printing(use_unicode=True)\n",
    "\n",
    "f1 = sy.cos(2*x)\n",
    "\n",
    "int1 = sy.Integral(f1,(x, 0, 4))#输出为表达公式\n",
    "display(Latex(f\"$${sy.latex(int1)}={sy.latex(int1.doit())}={sy.latex(sy.integrate(f1,(x,0,4)))}={int1.doit().evalf()}$$\"))\n",
    "#sy.integrate(f1,(x,0,4)).evalf()"
   ]
  },
  {
   "cell_type": "code",
   "execution_count": 13,
   "metadata": {},
   "outputs": [
    {
     "data": {
      "text/latex": [
       "$\\displaystyle \\frac{2 t}{3}$"
      ],
      "text/plain": [
       "2*t/3"
      ]
     },
     "execution_count": 13,
     "metadata": {},
     "output_type": "execute_result"
    }
   ],
   "source": [
    "from IPython.display import display, Latex\n",
    "import sympy as sy\n",
    "x,t = sy.symbols('x t')\n",
    "f = x*(2*x)/t**2\n",
    "sy.Integral(f,(x, 0, t)).doit()"
   ]
  },
  {
   "cell_type": "markdown",
   "metadata": {},
   "source": [
    "Integral输出表达式，Integral(f,x).doit方法等同于integrate输出原函数表达式，定积分再加.evalf()才出数值结果。\n",
    "注意：由于sympy还是有一定的局限性，有些积分不一定求出来，这时候执行doit()不会报错，只是得不出结果。\n",
    "对于多重积分，同样可以计算，参看下面的例子："
   ]
  },
  {
   "cell_type": "code",
   "execution_count": 14,
   "metadata": {},
   "outputs": [
    {
     "data": {
      "image/png": "[encoded data removed]",
      "text/latex": [
       "$\\displaystyle 3.14159265358979$"
      ],
      "text/plain": [
       "3.14159265358979"
      ]
     },
     "execution_count": 14,
     "metadata": {},
     "output_type": "execute_result"
    }
   ],
   "source": [
    "#求多重定积分\n",
    "from IPython.display import display, Latex\n",
    "import sympy as sy\n",
    "x, y, z = sy.symbols('x y z', real=True)\n",
    "#sy.init_printing(use_unicode=True)\n",
    "\n",
    "f1 = sy.exp(-x**2 - y**2)\n",
    "\n",
    "#int1 = sy.Integral(f1,(x, -sy.oo, sy.oo), (y, -sy.oo, sy.oo)) #二重积分\n",
    "#display(Latex(f\"$${sy.latex(int1)}={sy.latex(int1.doit())}$$\"))\n",
    "#print(f\"{sy.latex(int1)}={sy.latex(int1.doit())}\")\n",
    "sy.integrate(f1,(x, -sy.oo, sy.oo), (y, -sy.oo, sy.oo)).evalf()\n"
   ]
  },
  {
   "cell_type": "code",
   "execution_count": 2,
   "metadata": {},
   "outputs": [
    {
     "data": {
      "text/plain": [
       "[1, 2, 3, 4, 5, 6]"
      ]
     },
     "execution_count": 2,
     "metadata": {},
     "output_type": "execute_result"
    }
   ],
   "source": [
    "[1,2,3]+[4,5,6]"
   ]
  },
  {
   "cell_type": "code",
   "execution_count": 10,
   "metadata": {},
   "outputs": [
    {
     "data": {
      "text/plain": [
       "2"
      ]
     },
     "execution_count": 10,
     "metadata": {},
     "output_type": "execute_result"
    }
   ],
   "source": [
    "np.dot(np.array([1,1]),np.array([0,2]))"
   ]
  },
  {
   "cell_type": "code",
   "execution_count": null,
   "metadata": {},
   "outputs": [],
   "source": []
  }
 ],
 "metadata": {
  "kernelspec": {
   "display_name": "Python 3",
   "language": "python",
   "name": "python3"
  },
  "language_info": {
   "codemirror_mode": {
    "name": "ipython",
    "version": 3
   },
   "file_extension": ".py",
   "mimetype": "text/x-python",
   "name": "python",
   "nbconvert_exporter": "python",
   "pygments_lexer": "ipython3",
   "version": "3.8.5"
  }
 },
 "nbformat": 4,
 "nbformat_minor": 2
}
