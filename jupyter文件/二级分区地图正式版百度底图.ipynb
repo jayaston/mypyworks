{
 "cells": [
  {
   "cell_type": "code",
   "execution_count": 106,
   "metadata": {},
   "outputs": [],
   "source": [
    "#正式开始\n",
    "import json\n",
    "import pandas as pd\n",
    "import numpy as np\n",
    "from pyecharts.charts import BMap\n",
    "from pyecharts import options as opts\n",
    "from pyecharts.commons.utils import JsCode\n",
    "from pyecharts.globals import BMapType, ChartType\n",
    "import os\n",
    "import re\n",
    "import configparser\n",
    "\n",
    "from urllib.request import urlopen, quote\n",
    "import requests\n",
    "def getlnglat(address):\n",
    "    url = 'http://api.map.baidu.com/geocoder/v2/'\n",
    "    output = 'json'\n",
    "    ak = 'EoDE9x4kPxLNCtUMxfGEYlvG9inVGaUr' # 百度地图ak，具体申请自行百度，提醒需要在“控制台”-“设置”-“启动服务”-“正逆地理编码”，启动\n",
    "    address = quote(address) # 由于本文地址变量为中文，为防止乱码，先用quote进行编码\n",
    "    uri = url + '?' + 'address=' + address  + '&output=' + output + '&ak=' + ak \n",
    "    req = urlopen(uri)\n",
    "    res = req.read().decode() \n",
    "    temp = json.loads(res)\n",
    "    lat = temp['result']['location']['lat']\n",
    "    lng = temp['result']['location']['lng']\n",
    "    return [lng,lat]   # 纬度 latitude   ，   经度 longitude  ，"
   ]
  },
  {
   "cell_type": "code",
   "execution_count": 107,
   "metadata": {},
   "outputs": [
    {
     "data": {
      "text/plain": [
       "['c:\\\\Users\\\\xiejie\\\\mypyworks\\\\loc_district.ini']"
      ]
     },
     "execution_count": 107,
     "metadata": {},
     "output_type": "execute_result"
    }
   ],
   "source": [
    "configPath_district = r\"c:\\Users\\xiejie\\mypyworks\\loc_district.ini\"\n",
    "conf_district = configparser.ConfigParser()\n",
    "conf_district.read(configPath_district,encoding=\"utf-8-sig\")"
   ]
  },
  {
   "cell_type": "code",
   "execution_count": 108,
   "metadata": {},
   "outputs": [
    {
     "data": {
      "text/plain": [
       "['c:\\\\Users\\\\xiejie\\\\mypyworks\\\\loc_zone1.ini']"
      ]
     },
     "execution_count": 108,
     "metadata": {},
     "output_type": "execute_result"
    }
   ],
   "source": [
    "configPath_zone1 = r\"c:\\Users\\xiejie\\mypyworks\\loc_zone1.ini\"\n",
    "conf_zone1 = configparser.ConfigParser()\n",
    "conf_zone1.read(configPath_zone1,encoding=\"utf-8-sig\")"
   ]
  },
  {
   "cell_type": "code",
   "execution_count": 109,
   "metadata": {},
   "outputs": [
    {
     "data": {
      "text/plain": [
       "['c:\\\\Users\\\\xiejie\\\\mypyworks\\\\loc_zone2.ini']"
      ]
     },
     "execution_count": 109,
     "metadata": {},
     "output_type": "execute_result"
    }
   ],
   "source": [
    "configPath_zone2 = r\"c:\\Users\\xiejie\\mypyworks\\loc_zone2.ini\"\n",
    "conf_zone2 = configparser.ConfigParser()\n",
    "conf_zone2.read(configPath_zone2,encoding=\"utf-8-sig\")"
   ]
  },
  {
   "cell_type": "code",
   "execution_count": 110,
   "metadata": {},
   "outputs": [
    {
     "data": {
      "text/plain": [
       "['c:\\\\Users\\\\xiejie\\\\mypyworks\\\\loc_zone3.ini']"
      ]
     },
     "execution_count": 110,
     "metadata": {},
     "output_type": "execute_result"
    }
   ],
   "source": [
    "configPath_zone3 = r\"c:\\Users\\xiejie\\mypyworks\\loc_zone3.ini\"\n",
    "conf_zone3 = configparser.ConfigParser()\n",
    "conf_zone3.read(configPath_zone3,encoding=\"utf-8-sig\")"
   ]
  },
  {
   "cell_type": "code",
   "execution_count": 111,
   "metadata": {},
   "outputs": [],
   "source": [
    "#输入增加的水厂\n",
    "#res = []\n",
    "# address = ['杨箕地铁站','广东省博物馆']\n",
    "# for i in address:\n",
    "#     geo_coord = getlnglat(i)\n",
    "#     #geo_coord.append(2)\n",
    "#     res.append([i, geo_coord])\n",
    "#手动输入水厂中心点坐标\n",
    "res_shuichang = [['西村水厂',[113.242737,23.146652],100],\n",
    "                 ['石门水厂',[113.217581,23.199655],80],\n",
    "                 ['江村水厂',[113.268646,23.283703],45],                 \n",
    "                 ['北部水厂',[113.201437,23.218786],60],\n",
    "                 ['南州水厂',[113.336227,23.06211],100],\n",
    "                 ['新塘水厂',[113.675056,23.135007],70],\n",
    "                 ['西洲水厂',[113.593658,23.103533],50],\n",
    "                ]\n",
    "#输入二级分区中心点\n",
    "res_zone2 = [[i,float(conf_zone2.get(i,\"center\").split(',')[0])+0.0065,float(conf_zone2.get(i,\"center\").split(',')[1])+0.0059] for i in conf_zone2.sections()]\n",
    "#输入三级分区\n",
    "#res_zone3 = [[i,float(conf_zone3.get(i,\"center\").split(',')[0])+0.0065,float(conf_zone3.get(i,\"center\").split(',')[1])+0.0059] for i in conf_zone3.sections()]"
   ]
  },
  {
   "cell_type": "code",
   "execution_count": 112,
   "metadata": {},
   "outputs": [
    {
     "data": {
      "text/plain": [
       "[0.256,\n",
       " 0.1981,\n",
       " 0.2621,\n",
       " 0.1164,\n",
       " 0.2997,\n",
       " 0.4078,\n",
       " 0.1817,\n",
       " 0.2058,\n",
       " 0.1562,\n",
       " -0.5829,\n",
       " 0.6009,\n",
       " 0.3055,\n",
       " 0.083,\n",
       " -0.0159,\n",
       " 0.111,\n",
       " 0.3709,\n",
       " 0.1584,\n",
       " 0.1295,\n",
       " 0.1526,\n",
       " 0.1183,\n",
       " 0.0174,\n",
       " 0.3752,\n",
       " 0.1037,\n",
       " 0.2247,\n",
       " 0.2379,\n",
       " 0.1092,\n",
       " 0.3298,\n",
       " 0.0119,\n",
       " 0.0629,\n",
       " 0.2672,\n",
       " 0.0042,\n",
       " -0.1003,\n",
       " 0.3416,\n",
       " 0.2518]"
      ]
     },
     "execution_count": 112,
     "metadata": {},
     "output_type": "execute_result"
    }
   ],
   "source": [
    "chanxiaocha = pd.read_excel(r'd:\\专题工作（重要）\\产销差工作\\产销差数据与资料积累\\产销差分析周月报图表.xlsx',\n",
    "                      sheet_name=15,index_col=[0,1],header=[0,1])\n",
    "\n",
    "chanxiaocha2 = list(chanxiaocha[('累计','综合产销差')][:34])\n",
    "chanxiaocha2\n"
   ]
  },
  {
   "cell_type": "code",
   "execution_count": 113,
   "metadata": {
    "code_folding": [
     6
    ]
   },
   "outputs": [],
   "source": [
    "c = BMap(init_opts=opts.InitOpts(width=\"1200px\", height=\"800px\")\n",
    "            ).add_schema(\n",
    "        baidu_ak=\"EoDE9x4kPxLNCtUMxfGEYlvG9inVGaUr\",\n",
    "        center=[113.398609,23.174159],\n",
    "        zoom=12,\n",
    "        is_roam=True,#是否支持缩放\n",
    "#         map_style={\n",
    "#             \"styleJson\": [\n",
    "#                 {\n",
    "#                     \"featureType\": \"water\",\n",
    "#                     \"elementType\": \"all\",\n",
    "#                     \"stylers\": {\"color\": \"#044161\"},\n",
    "#                 },\n",
    "#                 {\n",
    "#                     \"featureType\": \"land\",\n",
    "#                     \"elementType\": \"all\",\n",
    "#                     \"stylers\": {\"color\": \"#004981\"},\n",
    "#                 },\n",
    "#                 {\n",
    "#                     \"featureType\": \"boundary\",\n",
    "#                     \"elementType\": \"geometry\",\n",
    "#                     \"stylers\": {\"color\": \"#064f85\"},\n",
    "#                 },\n",
    "#                 {\n",
    "#                     \"featureType\": \"railway\",\n",
    "#                     \"elementType\": \"all\",\n",
    "#                     \"stylers\": {\"visibility\": \"off\"},\n",
    "#                 },\n",
    "#                 {\n",
    "#                     \"featureType\": \"highway\",\n",
    "#                     \"elementType\": \"geometry\",\n",
    "#                     \"stylers\": {\"color\": \"#004981\"},\n",
    "#                 },\n",
    "#                 {\n",
    "#                     \"featureType\": \"highway\",\n",
    "#                     \"elementType\": \"geometry.fill\",\n",
    "#                     \"stylers\": {\"color\": \"#005b96\", \"lightness\": 1},\n",
    "#                 },\n",
    "#                 {\n",
    "#                     \"featureType\": \"highway\",\n",
    "#                     \"elementType\": \"labels\",\n",
    "#                     \"stylers\": {\"visibility\": \"off\"},\n",
    "#                 },\n",
    "#                 {\n",
    "#                     \"featureType\": \"arterial\",\n",
    "#                     \"elementType\": \"geometry\",\n",
    "#                     \"stylers\": {\"color\": \"#004981\"},\n",
    "#                 },\n",
    "#                 {\n",
    "#                     \"featureType\": \"arterial\",\n",
    "#                     \"elementType\": \"geometry.fill\",\n",
    "#                     \"stylers\": {\"color\": \"#00508b\"},\n",
    "#                 },\n",
    "#                 {\n",
    "#                     \"featureType\": \"poi\",\n",
    "#                     \"elementType\": \"all\",\n",
    "#                     \"stylers\": {\"visibility\": \"off\"},\n",
    "#                 },\n",
    "#                 {\n",
    "#                     \"featureType\": \"green\",\n",
    "#                     \"elementType\": \"all\",\n",
    "#                     \"stylers\": {\"color\": \"#056197\", \"visibility\": \"off\"},\n",
    "#                 },\n",
    "#                 {\n",
    "#                     \"featureType\": \"subway\",\n",
    "#                     \"elementType\": \"all\",\n",
    "#                     \"stylers\": {\"visibility\": \"off\"},\n",
    "#                 },\n",
    "#                 {\n",
    "#                     \"featureType\": \"manmade\",\n",
    "#                     \"elementType\": \"all\",\n",
    "#                     \"stylers\": {\"visibility\": \"off\"},\n",
    "#                 },\n",
    "#                 {\n",
    "#                     \"featureType\": \"local\",\n",
    "#                     \"elementType\": \"all\",\n",
    "#                     \"stylers\": {\"visibility\": \"off\"},\n",
    "#                 },\n",
    "#                 {\n",
    "#                     \"featureType\": \"arterial\",\n",
    "#                     \"elementType\": \"labels\",\n",
    "#                     \"stylers\": {\"visibility\": \"off\"},\n",
    "#                 },\n",
    "#                 {\n",
    "#                     \"featureType\": \"boundary\",\n",
    "#                     \"elementType\": \"geometry.fill\",\n",
    "#                     \"stylers\": {\"color\": \"#029fd4\"},\n",
    "#                 },\n",
    "#                 {\n",
    "#                     \"featureType\": \"building\",\n",
    "#                     \"elementType\": \"all\",\n",
    "#                     \"stylers\": {\"color\": \"#1a5787\"},\n",
    "#                 },\n",
    "#                 {\n",
    "#                     \"featureType\": \"label\",\n",
    "#                     \"elementType\": \"all\",\n",
    "#                     \"stylers\": {\"visibility\": \"off\"},\n",
    "#                 },\n",
    "#             ]\n",
    "#         },\n",
    "\n",
    "    ).set_global_opts(\n",
    "        title_opts=opts.TitleOpts(\n",
    "            title=\"二级分区累计产销差率热力图\",\n",
    "            #subtitle=\"data from PM25.in\",\n",
    "            #subtitle_link=\"http://www.pm25.in\",\n",
    "            pos_left=\"center\",\n",
    "            title_textstyle_opts=opts.TextStyleOpts(color=\"#000\"),\n",
    "        ),\n",
    "#         toolbox_opts=opts.ToolboxOpts(\n",
    "#                      feature = opts.ToolBoxFeatureOpts(\n",
    "#                      save_as_image = opts.ToolBoxFeatureSaveAsImageOpts('jpeg'),),\n",
    "#                      ),\n",
    "        visualmap_opts=opts.VisualMapOpts(min_= 0,max_= 0.5,\n",
    "                                          pos_right= 0,pos_top= 'middle',\n",
    "                                          range_color=[\"lightskyblue\", \"orangered\"],\n",
    "                                          precision=2,\n",
    "                                          series_index=1,\n",
    "                                          range_text = ['产销差率高', '产销差率低'],\n",
    "                                          textstyle_opts = opts.TextStyleOpts(color = '#000')\n",
    "                                         ),\n",
    "        legend_opts=opts.LegendOpts(is_show=False),\n",
    "        tooltip_opts=opts.TooltipOpts(trigger=\"item\",formatter=JsCode(  \n",
    "                                                \"\"\"function(params) {\n",
    "                                                 str = params.data.name +'：'+ (params.data.value[2]*100).toFixed(2) + '%' ;\n",
    "                                                 return str }\n",
    "                                            \"\"\" )),\n",
    "    ).add_control_panel(\n",
    "        copyright_control_opts=opts.BMapCopyrightTypeOpts(position=2, copyright_= \"\",offset_height = 100,),\n",
    "        maptype_control_opts=opts.BMapTypeControlOpts(\n",
    "            type_=BMapType.MAPTYPE_CONTROL_DROPDOWN\n",
    "        ),\n",
    "        scale_control_opts=opts.BMapScaleControlOpts(),\n",
    "        overview_map_opts=opts.BMapOverviewMapControlOpts(is_open=False),\n",
    "        navigation_control_opts=opts.BMapNavigationControlOpts(is_enable_geo_location= False),\n",
    "        geo_location_control_opts=opts.BMapGeoLocationControlOpts(),\n",
    "    )"
   ]
  },
  {
   "cell_type": "code",
   "execution_count": 114,
   "metadata": {},
   "outputs": [],
   "source": [
    "#增加一级分区数据项\n",
    "data_zone1= []\n",
    "for i in conf_zone1.sections():\n",
    "    #c.add_coordinate(i[0],i[1],i[2])\n",
    "    loc = conf_zone1.get(i,\"loc\")\n",
    "    loc = [[float(y[0])+0.0065,float(y[1])+0.0059] for y in [x.split(' ') for x in loc.split(',')]]\n",
    "    loc0 = loc[0]\n",
    "    loc.append(loc0)\n",
    "    data_zone1.append(loc)\n",
    "\n",
    "#增加二级分区中心点和数据项\n",
    "data_zone2= []\n",
    "for i,j in zip(res_zone2,chanxiaocha2):\n",
    "    c.add_coordinate(i[0],i[1],i[2])\n",
    "    loc = conf_zone2.get(i[0],\"loc\")\n",
    "    loc = [[float(y[0])+0.0065,float(y[1])+0.0059] for y in [x.split(' ') for x in loc.split(',')]]\n",
    "    data_zone2.append(opts.MapItem(name=i[0],value=[re.findall(r\"^\\S+\\d+\",i[0])[0],str(loc),j]))\n",
    "        \n",
    "#增加三级分区数据项\n",
    "data_zone3= []\n",
    "for i in conf_zone3.sections():\n",
    "    #c.add_coordinate(i[0],i[1],i[2])\n",
    "    loc = conf_zone3.get(i,\"loc\")\n",
    "    loc = [[float(y[0])+0.0065,float(y[1])+0.0059] for y in [x.split(' ') for x in loc.split(',')]]\n",
    "    data_zone3.append(opts.MapItem(name=i,value=[re.findall(r\"(?<=\\)).+$\",i)[0],str(loc),0]))\n",
    "        \n",
    "#增加热力图\n",
    "# c.add(  \"产销差率\",\n",
    "#         data_zone2,\n",
    "#         type_=\"heatmap\",\n",
    "#         label_opts=opts.LabelOpts(formatter=\"{b}\"),\n",
    "#     )\n",
    "\n",
    "#增加水厂点\n",
    "data = []\n",
    "for i in res_shuichang:\n",
    "    c.add_coordinate(i[0],i[1][0],i[1][1])\n",
    "    data.append([i[0],i[2]])"
   ]
  },
  {
   "cell_type": "code",
   "execution_count": 115,
   "metadata": {},
   "outputs": [
    {
     "data": {
      "text/plain": [
       "<pyecharts.charts.basic_charts.bmap.BMap at 0x1e497f17940>"
      ]
     },
     "execution_count": 115,
     "metadata": {},
     "output_type": "execute_result"
    }
   ],
   "source": [
    "#画水厂\n",
    "c.add(type_=\"effectScatter\",\n",
    "        series_name=\"水厂\",\n",
    "        data_pair=data,\n",
    "        symbol_size=8,\n",
    "        effect_opts=opts.EffectOpts(),\n",
    "        label_opts=opts.LabelOpts(formatter=\"{b}\", position=\"right\", is_show=True),\n",
    "        itemstyle_opts=opts.ItemStyleOpts(color=\"purple\"),)"
   ]
  },
  {
   "cell_type": "code",
   "execution_count": 116,
   "metadata": {},
   "outputs": [
    {
     "data": {
      "text/plain": [
       "<pyecharts.charts.basic_charts.bmap.BMap at 0x1e497f17940>"
      ]
     },
     "execution_count": 116,
     "metadata": {},
     "output_type": "execute_result"
    }
   ],
   "source": [
    "#画二级分区\n",
    "c.add(series_name='二级分区',       \n",
    "    type_=ChartType.CUSTOM,\n",
    "    render_item=JsCode(\"\"\"\n",
    "    function renderItem(params, api) {\n",
    "        var coords = eval(api.value(1));\n",
    "        var points = [];\n",
    "        for (var i = 0; i < coords.length; i++) {\n",
    "            points.push(api.coord(coords[i]));\n",
    "        }\n",
    "        var color = api.visual('color');\n",
    "\n",
    "        return {\n",
    "            type: 'polygon',\n",
    "            shape: {\n",
    "                points: new echarts.graphic.clipPointsByRect(points, {\n",
    "                    x: params.coordSys.x,\n",
    "                    y: params.coordSys.y,\n",
    "                    width: params.coordSys.width,\n",
    "                    height: params.coordSys.height\n",
    "                })\n",
    "            },\n",
    "            style: api.style({\n",
    "                fill: color,\n",
    "                z: 1,            \n",
    "                opacity:0.6,\n",
    "                text: api.value(0)+':'+(api.value(2)*100).toFixed(2)+'%',\n",
    "                textFill: '#000',                    \n",
    "                font: '14px Microsoft YaHei',\n",
    "                lineWidth: 1,\n",
    "                textAlign: 'center',\n",
    "                textVerticalAlign:'bottom',\n",
    "                stroke: new echarts.color.lift(color)                   \n",
    "            }),\n",
    "            styleEmphasis: api.styleEmphasis()\n",
    "        };\n",
    "    }\n",
    "\n",
    "        \"\"\"),        \n",
    "    data_pair = data_zone2\n",
    "     )"
   ]
  },
  {
   "cell_type": "code",
   "execution_count": 117,
   "metadata": {},
   "outputs": [
    {
     "data": {
      "text/plain": [
       "<pyecharts.charts.basic_charts.bmap.BMap at 0x1e497f17940>"
      ]
     },
     "execution_count": 117,
     "metadata": {},
     "output_type": "execute_result"
    }
   ],
   "source": [
    "#画三级分区\n",
    "c.add(series_name='三级分区',       \n",
    "    type_=ChartType.CUSTOM,\n",
    "    render_item=JsCode(\"\"\"\n",
    "    function renderItem(params, api) {\n",
    "        var coords = eval(api.value(1));\n",
    "        var points = [];\n",
    "        for (var i = 0; i < coords.length; i++) {\n",
    "            points.push(api.coord(coords[i]));\n",
    "        }\n",
    "        var color = api.visual('color');\n",
    "\n",
    "        return {\n",
    "            type: 'polygon',\n",
    "            shape: {\n",
    "                points: new echarts.graphic.clipPointsByRect(points, {\n",
    "                    x: params.coordSys.x,\n",
    "                    y: params.coordSys.y,\n",
    "                    width: params.coordSys.width,\n",
    "                    height: params.coordSys.height\n",
    "                })\n",
    "            },\n",
    "            style: api.style({\n",
    "                fill: 'rgba(0,125,255,0)',\n",
    "                z: 2,            \n",
    "                opacity:1,                \n",
    "                lineWidth: 0.5,\n",
    "                lineStyle:'dotted',\n",
    "                stroke: new echarts.color.lift(color)                   \n",
    "            }),\n",
    "            styleEmphasis: api.styleEmphasis()\n",
    "        };\n",
    "    }\n",
    "\n",
    "        \"\"\"),\n",
    "      tooltip_opts=opts.TooltipOpts(trigger=\"item\",formatter=JsCode(  \n",
    "                                                \"\"\"function(params) {\n",
    "                                                 str = params.data.value[0] +'<br/>'+ (params.data.value[2]*100).toFixed(2) + '%' ;\n",
    "                                                 return str }\n",
    "                                            \"\"\" )),\n",
    "    data_pair = data_zone3\n",
    "     )"
   ]
  },
  {
   "cell_type": "code",
   "execution_count": 118,
   "metadata": {},
   "outputs": [
    {
     "data": {
      "text/plain": [
       "<pyecharts.charts.basic_charts.bmap.BMap at 0x1e497f17940>"
      ]
     },
     "execution_count": 118,
     "metadata": {},
     "output_type": "execute_result"
    }
   ],
   "source": [
    "#画一级分区\n",
    "c.add(series_name='一级分区',\n",
    "      type_=\"lines\",\n",
    "      data_pair = data_zone1,\n",
    "      is_polyline=True,       \n",
    "      linestyle_opts=opts.LineStyleOpts(color=\"#fff\", opacity=1, width=2,type_='dashed'),\n",
    "      effect_opts=opts.EffectOpts(is_show = False),       \n",
    "     )"
   ]
  },
  {
   "cell_type": "code",
   "execution_count": 119,
   "metadata": {},
   "outputs": [
    {
     "data": {
      "text/plain": [
       "'C:\\\\Users\\\\xiejie\\\\mypyworks\\\\jupyter文件\\\\二级分区.html'"
      ]
     },
     "execution_count": 119,
     "metadata": {},
     "output_type": "execute_result"
    }
   ],
   "source": [
    "\n",
    "c.render(\"二级分区.html\")\n",
    "    "
   ]
  },
  {
   "cell_type": "code",
   "execution_count": null,
   "metadata": {},
   "outputs": [],
   "source": []
  },
  {
   "cell_type": "code",
   "execution_count": null,
   "metadata": {},
   "outputs": [],
   "source": []
  },
  {
   "cell_type": "code",
   "execution_count": null,
   "metadata": {},
   "outputs": [],
   "source": []
  },
  {
   "cell_type": "code",
   "execution_count": 14,
   "metadata": {},
   "outputs": [
    {
     "data": {
      "text/plain": [
       "{'status': 0,\n",
       " 'result': {'location': {'lng': 113.22435187134177, 'lat': 23.1126111681127},\n",
       "  'precise': 1,\n",
       "  'confidence': 70,\n",
       "  'comprehension': 100,\n",
       "  'level': '生活服务'}}"
      ]
     },
     "execution_count": 14,
     "metadata": {},
     "output_type": "execute_result"
    }
   ],
   "source": []
  },
  {
   "cell_type": "code",
   "execution_count": null,
   "metadata": {},
   "outputs": [],
   "source": []
  }
 ],
 "metadata": {
  "kernelspec": {
   "display_name": "Python 3",
   "language": "python",
   "name": "python3"
  },
  "language_info": {
   "codemirror_mode": {
    "name": "ipython",
    "version": 3
   },
   "file_extension": ".py",
   "mimetype": "text/x-python",
   "name": "python",
   "nbconvert_exporter": "python",
   "pygments_lexer": "ipython3",
   "version": "3.8.5"
  }
 },
 "nbformat": 4,
 "nbformat_minor": 4
}
