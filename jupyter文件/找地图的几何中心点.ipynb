{
 "cells": [
  {
   "cell_type": "code",
   "execution_count": null,
   "metadata": {},
   "outputs": [],
   "source": [
    "[[113.049055,23.273062],[113.922468,23.605693],[114.230085,22.615453],[112.697493,22.954773],[112.851301,23.484833]]"
   ]
  },
  {
   "cell_type": "code",
   "execution_count": null,
   "metadata": {},
   "outputs": [],
   "source": [
    "calculateCenter(lnglatarr) {\n",
    "      var total = lnglatarr.length;\n",
    "      var X = 0,\n",
    "        Y = 0,\n",
    "        Z = 0;\n",
    "      lnglatarr.map((item) => {\n",
    "        var lng = (item[0] * Math.PI) / 180;\n",
    "        var lat = (item[1] * Math.PI) / 180;\n",
    "        var x, y, z;\n",
    "        x = Math.cos(lat) * Math.cos(lng);\n",
    "        y = Math.cos(lat) * Math.sin(lng);\n",
    "        z = Math.sin(lat);\n",
    "        X += x;\n",
    "        Y += y;\n",
    "        Z += z;\n",
    "      });\n",
    "      X = X / total;\n",
    "      Y = Y / total;\n",
    "      Z = Z / total;\n",
    "      var Lng = Math.atan2(Y, X);\n",
    "      var Hyp = Math.sqrt(X * X + Y * Y);\n",
    "      var Lat = Math.atan2(Z, Hyp);\n",
    "      return new AMap.LngLat((Lng * 180) / Math.PI, (Lat * 180) / Math.PI);\n",
    "    }\n"
   ]
  }
 ],
 "metadata": {
  "kernelspec": {
   "display_name": "Python 3",
   "language": "python",
   "name": "python3"
  },
  "language_info": {
   "codemirror_mode": {
    "name": "ipython",
    "version": 3
   },
   "file_extension": ".py",
   "mimetype": "text/x-python",
   "name": "python",
   "nbconvert_exporter": "python",
   "pygments_lexer": "ipython3",
   "version": "3.8.5"
  }
 },
 "nbformat": 4,
 "nbformat_minor": 4
}
