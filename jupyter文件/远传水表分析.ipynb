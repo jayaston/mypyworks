{
 "cells": [
  {
   "cell_type": "markdown",
   "metadata": {},
   "source": [
    "**提取数据**"
   ]
  },
  {
   "cell_type": "code",
   "execution_count": 269,
   "metadata": {},
   "outputs": [],
   "source": [
    "import pandas as pd\n",
    "large_metre_2019 = pd.read_excel(r'.\\自来水数据\\远传表原始数据\\远传系统2019年大口径智能表水量（1月1日至2月11日）.xlsx')\n",
    "smart_metre_2019 = pd.read_excel(r'.\\自来水数据\\远传表原始数据\\远传系统2019年小口径智能表水量（1月1日至2月11日）.xlsx')"
   ]
  },
  {
   "cell_type": "code",
   "execution_count": 270,
   "metadata": {},
   "outputs": [],
   "source": [
    "large_metre_2020 = pd.read_excel(r'.\\自来水数据\\远传表原始数据\\远传系统2020年大口径智能表水量（1月1日至2月11日）.xlsx')\n",
    "smart_metre_2020 = pd.read_excel(r'.\\自来水数据\\远传表原始数据\\远传系统2020年小口径智能表水量（1月1日至2月11日）.xlsx')"
   ]
  },
  {
   "cell_type": "code",
   "execution_count": 271,
   "metadata": {},
   "outputs": [],
   "source": [
    "large_metre_list = pd.read_csv(r'./自来水数据/远传表原始数据/营抄系统的大表清单卢部提取remote_meter_user_info_20200213_202002171625.csv',encoding = 'gbk')\n",
    "smart_metre_list = pd.read_csv(r'./自来水数据/远传表原始数据/营抄系统的小表清单卢部提取smart_meter_user_info_20200213_202002171625.csv',encoding = 'gb18030')"
   ]
  },
  {
   "cell_type": "code",
   "execution_count": 272,
   "metadata": {},
   "outputs": [
    {
     "data": {
      "text/html": [
       "<div>\n",
       "<style scoped>\n",
       "    .dataframe tbody tr th:only-of-type {\n",
       "        vertical-align: middle;\n",
       "    }\n",
       "\n",
       "    .dataframe tbody tr th {\n",
       "        vertical-align: top;\n",
       "    }\n",
       "\n",
       "    .dataframe thead th {\n",
       "        text-align: right;\n",
       "    }\n",
       "</style>\n",
       "<table border=\"1\" class=\"dataframe\">\n",
       "  <thead>\n",
       "    <tr style=\"text-align: right;\">\n",
       "      <th></th>\n",
       "      <th>Unnamed: 0</th>\n",
       "      <th>user_no</th>\n",
       "      <th>user_name</th>\n",
       "      <th>mr_sect_no</th>\n",
       "      <th>trade_sort</th>\n",
       "      <th>use_type_code</th>\n",
       "      <th>meter_calibre</th>\n",
       "      <th>user_ms_type</th>\n",
       "    </tr>\n",
       "  </thead>\n",
       "  <tbody>\n",
       "    <tr>\n",
       "      <th>0</th>\n",
       "      <td>6610803</td>\n",
       "      <td>6610803</td>\n",
       "      <td>广州合景房地产开发有限公司</td>\n",
       "      <td>2058032010</td>\n",
       "      <td>公共消防</td>\n",
       "      <td>消防环卫绿化</td>\n",
       "      <td>100.0</td>\n",
       "      <td>计费</td>\n",
       "    </tr>\n",
       "    <tr>\n",
       "      <th>1</th>\n",
       "      <td>9830341</td>\n",
       "      <td>9830341</td>\n",
       "      <td>水沥村委会</td>\n",
       "      <td>4027012010</td>\n",
       "      <td>农村/城中村总表民用</td>\n",
       "      <td>居民生活</td>\n",
       "      <td>100.0</td>\n",
       "      <td>计费</td>\n",
       "    </tr>\n",
       "    <tr>\n",
       "      <th>2</th>\n",
       "      <td>289186</td>\n",
       "      <td>289186</td>\n",
       "      <td>广州市荔湾区詹天佑小学</td>\n",
       "      <td>1063062010</td>\n",
       "      <td>学校用水</td>\n",
       "      <td>学校用水</td>\n",
       "      <td>100.0</td>\n",
       "      <td>计费</td>\n",
       "    </tr>\n",
       "    <tr>\n",
       "      <th>3</th>\n",
       "      <td>6610799</td>\n",
       "      <td>6610799</td>\n",
       "      <td>广州合景房地产开发有限公司</td>\n",
       "      <td>2058032010</td>\n",
       "      <td>公共绿化</td>\n",
       "      <td>消防环卫绿化</td>\n",
       "      <td>100.0</td>\n",
       "      <td>计费</td>\n",
       "    </tr>\n",
       "    <tr>\n",
       "      <th>4</th>\n",
       "      <td>6935102</td>\n",
       "      <td>6935102</td>\n",
       "      <td>东山钢瓶厂</td>\n",
       "      <td>1061112010</td>\n",
       "      <td>混合商业</td>\n",
       "      <td>经营服务用水</td>\n",
       "      <td>NaN</td>\n",
       "      <td>计费</td>\n",
       "    </tr>\n",
       "  </tbody>\n",
       "</table>\n",
       "</div>"
      ],
      "text/plain": [
       "   Unnamed: 0  user_no      user_name  mr_sect_no  trade_sort use_type_code  \\\n",
       "0     6610803  6610803  广州合景房地产开发有限公司  2058032010        公共消防        消防环卫绿化   \n",
       "1     9830341  9830341          水沥村委会  4027012010  农村/城中村总表民用          居民生活   \n",
       "2      289186   289186    广州市荔湾区詹天佑小学  1063062010        学校用水          学校用水   \n",
       "3     6610799  6610799  广州合景房地产开发有限公司  2058032010        公共绿化        消防环卫绿化   \n",
       "4     6935102  6935102          东山钢瓶厂  1061112010        混合商业        经营服务用水   \n",
       "\n",
       "   meter_calibre user_ms_type  \n",
       "0          100.0           计费  \n",
       "1          100.0           计费  \n",
       "2          100.0           计费  \n",
       "3          100.0           计费  \n",
       "4            NaN           计费  "
      ]
     },
     "execution_count": 272,
     "metadata": {},
     "output_type": "execute_result"
    }
   ],
   "source": [
    "large_metre_list.head()"
   ]
  },
  {
   "cell_type": "code",
   "execution_count": 273,
   "metadata": {},
   "outputs": [
    {
     "data": {
      "text/html": [
       "<div>\n",
       "<style scoped>\n",
       "    .dataframe tbody tr th:only-of-type {\n",
       "        vertical-align: middle;\n",
       "    }\n",
       "\n",
       "    .dataframe tbody tr th {\n",
       "        vertical-align: top;\n",
       "    }\n",
       "\n",
       "    .dataframe thead th {\n",
       "        text-align: right;\n",
       "    }\n",
       "</style>\n",
       "<table border=\"1\" class=\"dataframe\">\n",
       "  <thead>\n",
       "    <tr style=\"text-align: right;\">\n",
       "      <th></th>\n",
       "      <th>远传ID</th>\n",
       "      <th>数据编号</th>\n",
       "      <th>区册号</th>\n",
       "      <th>用户编号</th>\n",
       "      <th>用户名称</th>\n",
       "      <th>用途</th>\n",
       "      <th>性质</th>\n",
       "      <th>口径</th>\n",
       "      <th>数据编号.1</th>\n",
       "      <th>2020-01-01</th>\n",
       "      <th>...</th>\n",
       "      <th>2020-02-08</th>\n",
       "      <th>2020-02-09</th>\n",
       "      <th>2020-02-10</th>\n",
       "      <th>2020-02-11</th>\n",
       "      <th>合计</th>\n",
       "      <th>缺数天数</th>\n",
       "      <th>天数</th>\n",
       "      <th>日均水量</th>\n",
       "      <th>行业</th>\n",
       "      <th>用水性质</th>\n",
       "    </tr>\n",
       "  </thead>\n",
       "  <tbody>\n",
       "    <tr>\n",
       "      <th>0</th>\n",
       "      <td>51280</td>\n",
       "      <td>9.000513e+11</td>\n",
       "      <td>NaN</td>\n",
       "      <td>6297552.0</td>\n",
       "      <td>增城市新塘镇南埔村民委员会0006297552</td>\n",
       "      <td>NaN</td>\n",
       "      <td>NaN</td>\n",
       "      <td>200.0</td>\n",
       "      <td>9.000513e+11</td>\n",
       "      <td>0.000000</td>\n",
       "      <td>...</td>\n",
       "      <td>0.000000</td>\n",
       "      <td>0.000000</td>\n",
       "      <td>0.000000</td>\n",
       "      <td>0.0</td>\n",
       "      <td>849.000000</td>\n",
       "      <td>0</td>\n",
       "      <td>42</td>\n",
       "      <td>20.214286</td>\n",
       "      <td>NaN</td>\n",
       "      <td>NaN</td>\n",
       "    </tr>\n",
       "    <tr>\n",
       "      <th>1</th>\n",
       "      <td>51281</td>\n",
       "      <td>9.000513e+11</td>\n",
       "      <td>NaN</td>\n",
       "      <td>6292599.0</td>\n",
       "      <td>增城市新塘水南村0006292599</td>\n",
       "      <td>NaN</td>\n",
       "      <td>NaN</td>\n",
       "      <td>NaN</td>\n",
       "      <td>9.000513e+11</td>\n",
       "      <td>0.000000</td>\n",
       "      <td>...</td>\n",
       "      <td>0.000000</td>\n",
       "      <td>0.000000</td>\n",
       "      <td>0.000000</td>\n",
       "      <td>0.0</td>\n",
       "      <td>0.000000</td>\n",
       "      <td>0</td>\n",
       "      <td>42</td>\n",
       "      <td>0.000000</td>\n",
       "      <td>NaN</td>\n",
       "      <td>NaN</td>\n",
       "    </tr>\n",
       "    <tr>\n",
       "      <th>2</th>\n",
       "      <td>51282</td>\n",
       "      <td>9.000513e+11</td>\n",
       "      <td>NaN</td>\n",
       "      <td>6290144.0</td>\n",
       "      <td>沦联大队0006290144</td>\n",
       "      <td>NaN</td>\n",
       "      <td>NaN</td>\n",
       "      <td>NaN</td>\n",
       "      <td>9.000513e+11</td>\n",
       "      <td>30.000000</td>\n",
       "      <td>...</td>\n",
       "      <td>11.000000</td>\n",
       "      <td>20.000000</td>\n",
       "      <td>28.000000</td>\n",
       "      <td>27.0</td>\n",
       "      <td>1246.000000</td>\n",
       "      <td>0</td>\n",
       "      <td>42</td>\n",
       "      <td>29.666667</td>\n",
       "      <td>NaN</td>\n",
       "      <td>NaN</td>\n",
       "    </tr>\n",
       "    <tr>\n",
       "      <th>3</th>\n",
       "      <td>91840183</td>\n",
       "      <td>9.918402e+11</td>\n",
       "      <td>NaN</td>\n",
       "      <td>4954907.0</td>\n",
       "      <td>侨鑫集团有限公司0004954907</td>\n",
       "      <td>NaN</td>\n",
       "      <td>NaN</td>\n",
       "      <td>100.0</td>\n",
       "      <td>9.918402e+11</td>\n",
       "      <td>85.300000</td>\n",
       "      <td>...</td>\n",
       "      <td>60.799999</td>\n",
       "      <td>61.400001</td>\n",
       "      <td>60.400000</td>\n",
       "      <td>58.5</td>\n",
       "      <td>2673.300000</td>\n",
       "      <td>0</td>\n",
       "      <td>42</td>\n",
       "      <td>63.650000</td>\n",
       "      <td>NaN</td>\n",
       "      <td>NaN</td>\n",
       "    </tr>\n",
       "    <tr>\n",
       "      <th>4</th>\n",
       "      <td>50026</td>\n",
       "      <td>9.995003e+11</td>\n",
       "      <td>83206002</td>\n",
       "      <td>5746734.0</td>\n",
       "      <td>市解困办公室0005746734</td>\n",
       "      <td>计量不计费</td>\n",
       "      <td>NaN</td>\n",
       "      <td>50.0</td>\n",
       "      <td>9.995003e+11</td>\n",
       "      <td>22.600001</td>\n",
       "      <td>...</td>\n",
       "      <td>24.600000</td>\n",
       "      <td>28.799999</td>\n",
       "      <td>23.100001</td>\n",
       "      <td>24.1</td>\n",
       "      <td>875.500002</td>\n",
       "      <td>6</td>\n",
       "      <td>36</td>\n",
       "      <td>24.319444</td>\n",
       "      <td>NaN</td>\n",
       "      <td>NaN</td>\n",
       "    </tr>\n",
       "  </tbody>\n",
       "</table>\n",
       "<p>5 rows × 57 columns</p>\n",
       "</div>"
      ],
      "text/plain": [
       "       远传ID          数据编号       区册号       用户编号                     用户名称  \\\n",
       "0     51280  9.000513e+11       NaN  6297552.0  增城市新塘镇南埔村民委员会0006297552   \n",
       "1     51281  9.000513e+11       NaN  6292599.0       增城市新塘水南村0006292599   \n",
       "2     51282  9.000513e+11       NaN  6290144.0           沦联大队0006290144   \n",
       "3  91840183  9.918402e+11       NaN  4954907.0       侨鑫集团有限公司0004954907   \n",
       "4     50026  9.995003e+11  83206002  5746734.0         市解困办公室0005746734   \n",
       "\n",
       "      用途   性质     口径        数据编号.1  2020-01-01  ...  2020-02-08  2020-02-09  \\\n",
       "0    NaN  NaN  200.0  9.000513e+11    0.000000  ...    0.000000    0.000000   \n",
       "1    NaN  NaN    NaN  9.000513e+11    0.000000  ...    0.000000    0.000000   \n",
       "2    NaN  NaN    NaN  9.000513e+11   30.000000  ...   11.000000   20.000000   \n",
       "3    NaN  NaN  100.0  9.918402e+11   85.300000  ...   60.799999   61.400001   \n",
       "4  计量不计费  NaN   50.0  9.995003e+11   22.600001  ...   24.600000   28.799999   \n",
       "\n",
       "   2020-02-10  2020-02-11           合计  缺数天数  天数       日均水量  行业  用水性质  \n",
       "0    0.000000         0.0   849.000000     0  42  20.214286 NaN   NaN  \n",
       "1    0.000000         0.0     0.000000     0  42   0.000000 NaN   NaN  \n",
       "2   28.000000        27.0  1246.000000     0  42  29.666667 NaN   NaN  \n",
       "3   60.400000        58.5  2673.300000     0  42  63.650000 NaN   NaN  \n",
       "4   23.100001        24.1   875.500002     6  36  24.319444 NaN   NaN  \n",
       "\n",
       "[5 rows x 57 columns]"
      ]
     },
     "execution_count": 273,
     "metadata": {},
     "output_type": "execute_result"
    }
   ],
   "source": [
    "large_metre_2020.head()"
   ]
  },
  {
   "cell_type": "markdown",
   "metadata": {},
   "source": [
    "**修正清单用户编号格式**"
   ]
  },
  {
   "cell_type": "code",
   "execution_count": 274,
   "metadata": {},
   "outputs": [],
   "source": [
    "large_metre_list['user_no'] = large_metre_list['user_no'].astype('str').str.pad(10,fillchar='0')\n",
    "smart_metre_list['user_no'] = smart_metre_list['user_no'].astype('str').str.pad(10,fillchar='0')"
   ]
  },
  {
   "cell_type": "code",
   "execution_count": 275,
   "metadata": {},
   "outputs": [
    {
     "name": "stdout",
     "output_type": "stream",
     "text": [
      "0       0006610803\n",
      "1       0009830341\n",
      "2       0000289186\n",
      "3       0006610799\n",
      "4       0006935102\n",
      "           ...    \n",
      "8592    0037354099\n",
      "8593    0036906042\n",
      "8594    0037217121\n",
      "8595    0037489104\n",
      "8596    0037490108\n",
      "Name: user_no, Length: 8597, dtype: object 0         0006618924\n",
      "1         0006618937\n",
      "2         0006619363\n",
      "3         0001832932\n",
      "4         0001832945\n",
      "             ...    \n",
      "129716    0032767416\n",
      "129717    0032769151\n",
      "129718    0032756698\n",
      "129719    0032759293\n",
      "129720    0035797092\n",
      "Name: user_no, Length: 129721, dtype: object\n"
     ]
    }
   ],
   "source": [
    "print(large_metre_list['user_no'],smart_metre_list['user_no'])"
   ]
  },
  {
   "cell_type": "markdown",
   "metadata": {},
   "source": [
    "**修正远传系统用户编号格式**"
   ]
  },
  {
   "cell_type": "code",
   "execution_count": 276,
   "metadata": {},
   "outputs": [],
   "source": [
    "import numpy as np\n",
    "large_metre_2020['用户编号'].replace(np.nan,0,inplace=True)"
   ]
  },
  {
   "cell_type": "code",
   "execution_count": 277,
   "metadata": {},
   "outputs": [],
   "source": [
    "large_metre_2020['用户编号'] =  large_metre_2020['用户编号'].astype('int').astype('str').replace('0',np.nan).str.pad(10,fillchar='0')"
   ]
  },
  {
   "cell_type": "code",
   "execution_count": 280,
   "metadata": {},
   "outputs": [],
   "source": [
    "smart_metre_2020['用户编号'] = smart_metre_2020['用户编号'].str[1:].str.pad(10,fillchar='0')"
   ]
  },
  {
   "cell_type": "markdown",
   "metadata": {},
   "source": [
    "**远传系统与营抄系统中的远传大小表数量"
   ]
  },
  {
   "cell_type": "code",
   "execution_count": 283,
   "metadata": {},
   "outputs": [
    {
     "name": "stdout",
     "output_type": "stream",
     "text": [
      "远传系统2020年远传大表数量9528，营抄系统2020年远传大表清单表数量8597\n"
     ]
    }
   ],
   "source": [
    "print(\"远传系统2020年远传大表数量{}，营抄系统2020年远传大表清单表数量{}\".format(large_metre_2020['用户编号'].count(),large_metre_list['user_no'].count()))"
   ]
  },
  {
   "cell_type": "code",
   "execution_count": 284,
   "metadata": {},
   "outputs": [
    {
     "name": "stdout",
     "output_type": "stream",
     "text": [
      "远传系统2020年远传小表数量117233，营抄系统2020年远传小表清单表数量129721\n"
     ]
    }
   ],
   "source": [
    "print(\"远传系统2020年远传小表数量{}，营抄系统2020年远传小表清单表数量{}\".format(smart_metre_2020['用户编号'].count(),smart_metre_list['user_no'].count()))"
   ]
  },
  {
   "cell_type": "markdown",
   "metadata": {},
   "source": [
    "**获取远传大表不一致的编号**"
   ]
  },
  {
   "cell_type": "code",
   "execution_count": 287,
   "metadata": {},
   "outputs": [
    {
     "data": {
      "text/plain": [
       "7467"
      ]
     },
     "execution_count": 287,
     "metadata": {},
     "output_type": "execute_result"
    }
   ],
   "source": [
    "len(set(large_metre_2020['用户编号'])&set(large_metre_list['user_no']))"
   ]
  },
  {
   "cell_type": "code",
   "execution_count": 294,
   "metadata": {},
   "outputs": [],
   "source": [
    "large_metre_2020[large_metre_2020['用户编号'].\\\n",
    "                 isin(list(set(large_metre_2020['用户编号'])&set(large_metre_list['user_no'])))][:-1].\\\n",
    "to_csv('./数据导出/远传大表用户（同时在远传系统中和营抄系统中）.csv')"
   ]
  },
  {
   "cell_type": "code",
   "execution_count": 303,
   "metadata": {},
   "outputs": [
    {
     "data": {
      "text/plain": [
       "1130"
      ]
     },
     "execution_count": 303,
     "metadata": {},
     "output_type": "execute_result"
    }
   ],
   "source": [
    "len(set(large_metre_list['user_no'])-set(large_metre_2020['用户编号']))"
   ]
  },
  {
   "cell_type": "markdown",
   "metadata": {},
   "source": [
    "在远传系统中不在营抄系统中的远传大表的用户编号清单"
   ]
  },
  {
   "cell_type": "code",
   "execution_count": 295,
   "metadata": {},
   "outputs": [],
   "source": [
    "large_metre_2020[large_metre_2020['用户编号'].\\\n",
    "                 isin(list(set(large_metre_2020['用户编号'])-set(large_metre_list['user_no'])))][:-1].\\\n",
    "to_csv('./数据导出/远传大表用户（在远传系统中不在营抄系统中）.csv')"
   ]
  },
  {
   "cell_type": "markdown",
   "metadata": {},
   "source": [
    "在营抄系统中不在远传系统中的远传大表用户编号清单"
   ]
  },
  {
   "cell_type": "code",
   "execution_count": 296,
   "metadata": {},
   "outputs": [],
   "source": [
    "large_metre_list[large_metre_list['user_no'].isin(list(set(large_metre_list['user_no'])-set(large_metre_2020['用户编号'])))].\\\n",
    "to_csv('./数据导出/远传大表用户（在营抄系统中不在远传系统中）.csv')"
   ]
  },
  {
   "cell_type": "markdown",
   "metadata": {},
   "source": [
    "**获取远传小表不一致的清单**"
   ]
  },
  {
   "cell_type": "code",
   "execution_count": 305,
   "metadata": {},
   "outputs": [
    {
     "data": {
      "text/plain": [
       "26082"
      ]
     },
     "execution_count": 305,
     "metadata": {},
     "output_type": "execute_result"
    }
   ],
   "source": [
    "len(set(smart_metre_2020['用户编号'])&set(smart_metre_list['user_no']))\n",
    "len(set(smart_metre_2020['用户编号'])-set(smart_metre_list['user_no']))\n",
    "len(set(smart_metre_list['user_no'])-set(smart_metre_2020['用户编号']))"
   ]
  },
  {
   "cell_type": "code",
   "execution_count": 298,
   "metadata": {},
   "outputs": [],
   "source": [
    "smart_metre_2020[smart_metre_2020['用户编号'].isin(list(set(smart_metre_2020['用户编号'])&set(smart_metre_list['user_no'])))][:-1].\\\n",
    "to_csv('./数据导出/远传小表用户(同时在远传系统和营抄系统中).csv')"
   ]
  },
  {
   "cell_type": "markdown",
   "metadata": {},
   "source": [
    "在远传系统中不在营抄系统中的远传小表的用户编号清单"
   ]
  },
  {
   "cell_type": "code",
   "execution_count": 299,
   "metadata": {},
   "outputs": [],
   "source": [
    "smart_metre_2020[smart_metre_2020['用户编号'].isin(list(set(smart_metre_2020['用户编号'])-set(smart_metre_list['user_no'])))][:-1].\\\n",
    "to_csv('./数据导出/远传小表用户（在远传系统中不在营抄系统中）.csv')"
   ]
  },
  {
   "cell_type": "markdown",
   "metadata": {},
   "source": [
    "在营抄系统中不在远传系统中的小表用户编号清单"
   ]
  },
  {
   "cell_type": "code",
   "execution_count": 300,
   "metadata": {},
   "outputs": [],
   "source": [
    "smart_metre_list[smart_metre_list['user_no'].isin(list(set(smart_metre_list['user_no'])-set(smart_metre_2020['用户编号'])))].\\\n",
    "to_csv('./数据导出/远传小表用户（在营抄系统中不在远传系统中）.csv')"
   ]
  },
  {
   "cell_type": "code",
   "execution_count": null,
   "metadata": {},
   "outputs": [],
   "source": []
  },
  {
   "cell_type": "code",
   "execution_count": null,
   "metadata": {},
   "outputs": [],
   "source": []
  }
 ],
 "metadata": {
  "kernelspec": {
   "display_name": "Python 3",
   "language": "python",
   "name": "python3"
  },
  "language_info": {
   "codemirror_mode": {
    "name": "ipython",
    "version": 3
   },
   "file_extension": ".py",
   "mimetype": "text/x-python",
   "name": "python",
   "nbconvert_exporter": "python",
   "pygments_lexer": "ipython3",
   "version": "3.7.4"
  }
 },
 "nbformat": 4,
 "nbformat_minor": 2
}
