{
 "cells": [
  {
   "cell_type": "code",
   "execution_count": null,
   "metadata": {},
   "outputs": [],
   "source": [
    "#调用常用模块\n",
    "import pandas as pd\n",
    "import numpy as np"
   ]
  },
  {
   "cell_type": "code",
   "execution_count": null,
   "metadata": {},
   "outputs": [],
   "source": [
    "#读取excel数据\n",
    "meter_2019 = pd.DataFrame()\n",
    "\n",
    "for i in range(7):    \n",
    "    df = pd.read_excel(r'e:\\专题工作（重要）\\专题分析栏目\\2020远传表\\智能小表发单水量\\2019年1-7月智能小表发单水量.xls',sheet_name = i,usecols=[1,3,4])\n",
    "    meter_2019 = pd.concat([meter_2019,df],ignore_index=1)\n",
    "df_8_12 = pd.read_excel(r'e:\\专题工作（重要）\\专题分析栏目\\2020远传表\\智能小表发单水量\\201908-201912智能小表发单水量.xlsx',usecols=[0,2,3])\n",
    "meter_2019 = pd.concat([meter_2019,df_8_12],ignore_index=1)"
   ]
  },
  {
   "cell_type": "code",
   "execution_count": null,
   "metadata": {},
   "outputs": [],
   "source": [
    "meter_2020 = pd.DataFrame()\n",
    "\n",
    "for i in range(6):    \n",
    "    df = pd.read_excel(r'e:\\专题工作（重要）\\专题分析栏目\\2020远传表\\智能小表发单水量\\2020年1-6月智能小表发单水量.xls',sheet_name = i,usecols=[1,3,4])\n",
    "    meter_2020 = pd.concat([meter_2020,df],ignore_index=1)  \n",
    "\n",
    "df_7 = pd.read_excel(r'e:\\专题工作（重要）\\专题分析栏目\\2020远传表\\智能小表发单水量\\2020年7月智能小表发单水量.xls',sheet_name = 0,usecols=[1,3,4])"
   ]
  },
  {
   "cell_type": "code",
   "execution_count": null,
   "metadata": {},
   "outputs": [],
   "source": [
    "df_8 = pd.read_excel(r'e:\\专题工作（重要）\\专题分析栏目\\2020远传表\\智能小表发单水量\\2020年8月智能小表发单水量.xlsx',sheet_name = 0,usecols=[0,2,3])"
   ]
  },
  {
   "cell_type": "code",
   "execution_count": null,
   "metadata": {},
   "outputs": [],
   "source": [
    "df_9 = pd.read_excel(r'e:\\专题工作（重要）\\专题分析栏目\\2020远传表\\智能小表发单水量\\2020年9月智能小表发单水量.xlsx',sheet_name = 0,usecols=[0,2,3])"
   ]
  },
  {
   "cell_type": "code",
   "execution_count": null,
   "metadata": {},
   "outputs": [],
   "source": [
    "df_10 = pd.read_excel(r'e:\\专题工作（重要）\\专题分析栏目\\2020远传表\\智能小表发单水量\\2020年10月智能小表发单水量.xlsx',sheet_name = 0,usecols=[0,2,3])"
   ]
  },
  {
   "cell_type": "code",
   "execution_count": null,
   "metadata": {},
   "outputs": [],
   "source": [
    "df_10"
   ]
  },
  {
   "cell_type": "code",
   "execution_count": null,
   "metadata": {},
   "outputs": [],
   "source": [
    "meter_2020 = pd.concat([meter_2020,df_7,df_8,df_9,df_10],ignore_index=1)  "
   ]
  },
  {
   "cell_type": "code",
   "execution_count": null,
   "metadata": {},
   "outputs": [],
   "source": [
    "meter_2019_2020 = pd.concat([meter_2019,meter_2020],ignore_index=1).rename(columns = {'USER_NO':'用户编号','MON':'月份','SL':'水量'})"
   ]
  },
  {
   "cell_type": "code",
   "execution_count": null,
   "metadata": {},
   "outputs": [],
   "source": [
    "#按月汇总水量数据\n",
    "meter = meter_2019_2020.groupby('月份').agg({'用户编号': pd.Series.nunique,'水量':sum}).rename(columns = {'用户编号' : '用户数'})"
   ]
  },
  {
   "cell_type": "code",
   "execution_count": null,
   "metadata": {},
   "outputs": [],
   "source": [
    "meter"
   ]
  },
  {
   "cell_type": "code",
   "execution_count": null,
   "metadata": {},
   "outputs": [],
   "source": [
    "meter.to_excel(r'e:\\专题工作（重要）\\专题分析栏目\\2020远传表\\智能小表发单水量\\2019-2020各月智能小表户数水量.xls')"
   ]
  }
 ],
 "metadata": {
  "kernelspec": {
   "display_name": "Python 3",
   "language": "python",
   "name": "python3"
  },
  "language_info": {
   "codemirror_mode": {
    "name": "ipython",
    "version": 3
   },
   "file_extension": ".py",
   "mimetype": "text/x-python",
   "name": "python",
   "nbconvert_exporter": "python",
   "pygments_lexer": "ipython3",
   "version": "3.7.7"
  }
 },
 "nbformat": 4,
 "nbformat_minor": 4
}
