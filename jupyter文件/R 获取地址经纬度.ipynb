{
 "cells": [
  {
   "cell_type": "code",
   "execution_count": 1,
   "metadata": {},
   "outputs": [
    {
     "name": "stderr",
     "output_type": "stream",
     "text": [
      "Loading required package: baidumap\n",
      "\n"
     ]
    }
   ],
   "source": [
    "require(baidumap)\n",
    "options(baidumap.key = 'EoDE9x4kPxLNCtUMxfGEYlvG9inVGaUr')"
   ]
  },
  {
   "cell_type": "code",
   "execution_count": 24,
   "metadata": {},
   "outputs": [
    {
     "name": "stdout",
     "output_type": "stream",
     "text": [
      "Get 1 records, 1 page. \n",
      "    Getting  0 th page \n"
     ]
    },
    {
     "data": {
      "text/html": [
       "<table class=\"dataframe\">\n",
       "<caption>A data.frame: 1 × 5</caption>\n",
       "<thead>\n",
       "\t<tr><th scope=col>name</th><th scope=col>address</th><th scope=col>lat</th><th scope=col>lon</th><th scope=col>telephone</th></tr>\n",
       "\t<tr><th scope=col>&lt;chr&gt;</th><th scope=col>&lt;chr&gt;</th><th scope=col>&lt;dbl&gt;</th><th scope=col>&lt;dbl&gt;</th><th scope=col>&lt;chr&gt;</th></tr>\n",
       "</thead>\n",
       "<tbody>\n",
       "\t<tr><td>越秀区</td><td>NA</td><td>23.13526</td><td>113.2734</td><td>NA</td></tr>\n",
       "</tbody>\n",
       "</table>\n"
      ],
      "text/latex": [
       "A data.frame: 1 × 5\n",
       "\\begin{tabular}{lllll}\n",
       " name & address & lat & lon & telephone\\\\\n",
       " <chr> & <chr> & <dbl> & <dbl> & <chr>\\\\\n",
       "\\hline\n",
       "\t 越秀区 & NA & 23.13526 & 113.2734 & NA\\\\\n",
       "\\end{tabular}\n"
      ],
      "text/markdown": [
       "\n",
       "A data.frame: 1 × 5\n",
       "\n",
       "| name &lt;chr&gt; | address &lt;chr&gt; | lat &lt;dbl&gt; | lon &lt;dbl&gt; | telephone &lt;chr&gt; |\n",
       "|---|---|---|---|---|\n",
       "| 越秀区 | NA | 23.13526 | 113.2734 | NA |\n",
       "\n"
      ],
      "text/plain": [
       "  name               address lat      lon      telephone\n",
       "1 \\u8d8a\\u79c0\\u533a NA      23.13526 113.2734 NA       "
      ]
     },
     "metadata": {},
     "output_type": "display_data"
    }
   ],
   "source": [
    "getPlace(place = '越秀区', city = \"广州\")\n"
   ]
  },
  {
   "cell_type": "code",
   "execution_count": 4,
   "metadata": {},
   "outputs": [],
   "source": [
    "getCoordinate('美心翡翠明庭',city = '广州',formatted = T)#lng-0.0065 ,lat-0.0059\n",
    "#p_new <- p-c(0.0065,0.0059) 已无需调整"
   ]
  },
  {
   "cell_type": "code",
   "execution_count": 19,
   "metadata": {},
   "outputs": [
    {
     "data": {
      "text/html": [
       "<table class=\"dataframe\">\n",
       "<caption>A matrix: 3 × 2 of type dbl</caption>\n",
       "<thead>\n",
       "\t<tr><th></th><th scope=col>longtitude</th><th scope=col>latitude</th></tr>\n",
       "</thead>\n",
       "<tbody>\n",
       "\t<tr><th scope=row>中山大学</th><td>113.3466</td><td>23.14024</td></tr>\n",
       "\t<tr><th scope=row>华南理工</th><td>113.3516</td><td>23.16107</td></tr>\n",
       "\t<tr><th scope=row>暨南大学</th><td>113.3564</td><td>23.14123</td></tr>\n",
       "</tbody>\n",
       "</table>\n"
      ],
      "text/latex": [
       "A matrix: 3 × 2 of type dbl\n",
       "\\begin{tabular}{r|ll}\n",
       "  & longtitude & latitude\\\\\n",
       "\\hline\n",
       "\t中山大学 & 113.3466 & 23.14024\\\\\n",
       "\t华南理工 & 113.3516 & 23.16107\\\\\n",
       "\t暨南大学 & 113.3564 & 23.14123\\\\\n",
       "\\end{tabular}\n"
      ],
      "text/markdown": [
       "\n",
       "A matrix: 3 × 2 of type dbl\n",
       "\n",
       "| <!--/--> | longtitude | latitude |\n",
       "|---|---|---|\n",
       "| 中山大学 | 113.3466 | 23.14024 |\n",
       "| 华南理工 | 113.3516 | 23.16107 |\n",
       "| 暨南大学 | 113.3564 | 23.14123 |\n",
       "\n"
      ],
      "text/plain": [
       "                         longtitude latitude\n",
       "\\u4e2d\\u5c71\\u5927\\u5b66 113.3466   23.14024\n",
       "\\u534e\\u5357\\u7406\\u5de5 113.3516   23.16107\n",
       "\\u66a8\\u5357\\u5927\\u5b66 113.3564   23.14123"
      ]
     },
     "metadata": {},
     "output_type": "display_data"
    }
   ],
   "source": [
    "getCoordinate(c('中山大学', '华南理工', '暨南大学'),city = '广州', formatted = T) "
   ]
  },
  {
   "cell_type": "code",
   "execution_count": 7,
   "metadata": {},
   "outputs": [],
   "source": [
    "df = getRoute('首都国际机场', '北京南苑机场', region = '北京')"
   ]
  },
  {
   "cell_type": "code",
   "execution_count": null,
   "metadata": {},
   "outputs": [],
   "source": []
  }
 ],
 "metadata": {
  "kernelspec": {
   "display_name": "R",
   "language": "R",
   "name": "ir"
  },
  "language_info": {
   "codemirror_mode": "r",
   "file_extension": ".r",
   "mimetype": "text/x-r-source",
   "name": "R",
   "pygments_lexer": "r",
   "version": "4.0.4"
  }
 },
 "nbformat": 4,
 "nbformat_minor": 4
}
