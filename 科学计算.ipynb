{
 "cells": [
  {
   "cell_type": "code",
   "execution_count": 1,
   "metadata": {},
   "outputs": [],
   "source": [
    "import sympy as sy#不定积分、定积分、符号运算\n",
    "import numpy as np #向量运算\n",
    "#import scipy as sc #定积分、点集积分\n",
    "from scipy.integrate import tplquad,dblquad,quad #sc 不能替代scipy.integrate 他们属于不同文件\n",
    "import matplotlib.pyplot as plt #科学画图"
   ]
  },
  {
   "cell_type": "code",
   "execution_count": 3,
   "metadata": {},
   "outputs": [
    {
     "name": "stdout",
     "output_type": "stream",
     "text": [
      "3.999999999999999\n"
     ]
    },
    {
     "data": {
      "text/plain": [
       "(0, 25)"
      ]
     },
     "execution_count": 3,
     "metadata": {},
     "output_type": "execute_result"
    },
    {
     "data": {
      "image/png": "[encoded data removed]",
      "text/plain": [
       "<Figure size 576x216 with 1 Axes>"
      ]
     },
     "metadata": {
      "needs_background": "light"
     },
     "output_type": "display_data"
    }
   ],
   "source": [
    "#函数画图\n",
    "def f(x):\n",
    "    return 1 / np.sqrt(abs(x))\n",
    "v, err = quad(f, -1, 1, points=[0])\n",
    "print(v)\n",
    "fig, ax = plt.subplots(figsize=(8, 3))\n",
    "x = np.linspace(-1, 1, 10000)\n",
    "#x = np.arange(-100.,100.,0.1)\n",
    "ax.plot(x, f(x), lw=2)\n",
    "ax.fill_between(x, f(x), color='green', alpha=0.5)\n",
    "ax.set_xlabel(\"$x$\", fontsize=18)\n",
    "ax.set_ylabel(\"$f(x)$\", fontsize=18)\n",
    "ax.set_ylim(0, 25)\n",
    "#plt.show()"
   ]
  },
  {
   "cell_type": "code",
   "execution_count": 4,
   "metadata": {},
   "outputs": [
    {
     "name": "stdout",
     "output_type": "stream",
     "text": [
      "积分结果： 2.0\n",
      "二重积分结果： -0.4989998520503062\n",
      "三重积分结果： -0.05881880054964517\n"
     ]
    }
   ],
   "source": [
    "\n",
    "#积分\n",
    "val1,err1=quad(lambda x:np.sin(x),#函数\n",
    "               0,#x下界0\n",
    "               np.pi)#x上界pi\n",
    "print ('积分结果：',val1)\n",
    " \n",
    "#二重积分\n",
    "val2,err2=dblquad(lambda y,x:np.sin(x)*np.cos(y),#函数\n",
    "                  0,#x下界0\n",
    "                  np.pi,#x上界pi\n",
    "                  lambda x:x**2,#y下界x^2\n",
    "                  lambda x:2*x)#y上界2*x\n",
    "print ('二重积分结果：',val2)\n",
    " \n",
    "#三重积分\n",
    "val3,err3=tplquad(lambda z,y,x:1/(np.sqrt(x+y**2+z**3)),#函数\n",
    "                0,#x下界0\n",
    "                1,#x上界1\n",
    "                lambda x:-x,#y下界-x\n",
    "                lambda x:x,#y上界x\n",
    "                lambda x,y:np.sin(x),#z下界sin(x)\n",
    "                lambda x,y:x+2*y)#z上界x+2*y\n",
    "print ('三重积分结果：',val3)\n"
   ]
  },
  {
   "cell_type": "code",
   "execution_count": 16,
   "metadata": {},
   "outputs": [
    {
     "data": {
      "text/plain": [
       "Text(0, 0.5, '$f(x)$')"
      ]
     },
     "execution_count": 16,
     "metadata": {},
     "output_type": "execute_result"
    },
    {
     "data": {
      "image/png": "[encoded data removed]",
      "text/plain": [
       "<Figure size 576x432 with 1 Axes>"
      ]
     },
     "metadata": {
      "needs_background": "light"
     },
     "output_type": "display_data"
    }
   ],
   "source": [
    "函数画图\n",
    "def f(x):\n",
    "    return np.square(x+3)*np.power(x-1,3)\n",
    "\n",
    "fig, ax = plt.subplots(figsize=(8, 6))\n",
    "x = np.linspace(-4, 2, 10000)\n",
    "#x = np.arange(-100.,100.,0.1)\n",
    "ax.plot(x, f(x), lw=2)\n",
    "ax.fill_between(x, f(x), color='green', alpha=0.5)\n",
    "ax.set_xlabel(\"$x$\", fontsize=18)\n",
    "ax.set_ylabel(\"$f(x)$\", fontsize=18)\n",
    "#ax.set_ylim(-5, 5)\n",
    "#plt.show()"
   ]
  },
  {
   "cell_type": "code",
   "execution_count": 48,
   "metadata": {},
   "outputs": [
    {
     "data": {
      "text/latex": [
       "$\\displaystyle 5.0$"
      ],
      "text/plain": [
       "5.00000000000000"
      ]
     },
     "execution_count": 48,
     "metadata": {},
     "output_type": "execute_result"
    }
   ],
   "source": [
    "#求表达式的值\n",
    "x,y = sy.symbols('x y')\n",
    "fx = x**2 - 5*x + 6 + y\n",
    "fx.evalf(subs = {x:2 , y:5})"
   ]
  },
  {
   "cell_type": "code",
   "execution_count": 54,
   "metadata": {},
   "outputs": [
    {
     "data": {
      "text/plain": [
       "{x: 2, y: -1}"
      ]
     },
     "execution_count": 54,
     "metadata": {},
     "output_type": "execute_result"
    }
   ],
   "source": [
    "#解方程组\n",
    "x,y = sy.symbols('x y')\n",
    "fx = x**2 - 5*x + 6\n",
    "sy.solve(fx,x)\n",
    "\n",
    "sy.solve([x + y - 1,x - y -3],[x,y])"
   ]
  },
  {
   "cell_type": "code",
   "execution_count": 62,
   "metadata": {},
   "outputs": [
    {
     "data": {
      "text/latex": [
       "$\\displaystyle 10100$"
      ],
      "text/plain": [
       "10100"
      ]
     },
     "execution_count": 62,
     "metadata": {},
     "output_type": "execute_result"
    }
   ],
   "source": [
    "#计算求和式\n",
    "n = sy.Symbol('n',integer =True) #变量只出现在求和式中会自动当成int类型可以不指定int。\n",
    "sy.summation(2 * n,(n,1,100)) #也是求和式的表达式"
   ]
  },
  {
   "cell_type": "code",
   "execution_count": 16,
   "metadata": {},
   "outputs": [
    {
     "data": {
      "image/png": "[encoded data removed]",
      "text/latex": [
       "$\\displaystyle \\left[ 1\\right]$"
      ],
      "text/plain": [
       "[1]"
      ]
     },
     "execution_count": 16,
     "metadata": {},
     "output_type": "execute_result"
    }
   ],
   "source": [
    "#解带求和式的方程\n",
    "x,i= sy.symbols('x i')\n",
    "\n",
    "f = sy.summation(x,(i,1,5)) + 10 * x - 15\n",
    "sy.solve(f,x) "
   ]
  },
  {
   "cell_type": "code",
   "execution_count": 73,
   "metadata": {},
   "outputs": [
    {
     "data": {
      "text/latex": [
       "$\\displaystyle 1$"
      ],
      "text/plain": [
       "1"
      ]
     },
     "execution_count": 73,
     "metadata": {},
     "output_type": "execute_result"
    }
   ],
   "source": [
    "#极限计算\n",
    "n = sy.Symbol('n')\n",
    "s = n/(n+1)\n",
    "sy.limit(s,n,sy.oo,'-')"
   ]
  },
  {
   "cell_type": "code",
   "execution_count": 32,
   "metadata": {},
   "outputs": [
    {
     "data": {
      "image/png": "[encoded data removed]",
      "text/latex": [
       "$\\displaystyle 1$"
      ],
      "text/plain": [
       "1"
      ]
     },
     "metadata": {},
     "output_type": "display_data"
    },
    {
     "data": {
      "image/png": "[encoded data removed]",
      "text/latex": [
       "$\\displaystyle \\infty$"
      ],
      "text/plain": [
       "∞"
      ]
     },
     "metadata": {},
     "output_type": "display_data"
    },
    {
     "data": {
      "text/latex": [
       "$$$\\lim_{x \\to 0^-} \\frac{1}{x}=-\\infty$$$"
      ],
      "text/plain": [
       "<IPython.core.display.Latex object>"
      ]
     },
     "metadata": {},
     "output_type": "display_data"
    }
   ],
   "source": [
    "#一次算多个极限\n",
    "\n",
    "from IPython.display import display, Latex\n",
    "import sympy as sy\n",
    "x, y, z = sy.symbols('x y z', real=True)\n",
    "sy.init_printing(use_unicode=True)\n",
    "\n",
    "f1 = sy.sin(x)/x\n",
    "\n",
    "\n",
    "display(sy.limit(f1, x, 0))\n",
    "\n",
    "f2 = 1/x\n",
    "\n",
    "\n",
    "lmt3 = sy.Limit(f2, x, 0, '-')\n",
    "display(sy.limit(f2, x, 0, '+'))\n",
    "display(Latex(f\"$${sy.latex(lmt3)}={sy.latex(lmt3.doit())}$$\"))"
   ]
  },
  {
   "cell_type": "markdown",
   "metadata": {},
   "source": [
    "一元函数求导"
   ]
  },
  {
   "cell_type": "code",
   "execution_count": 13,
   "metadata": {},
   "outputs": [
    {
     "data": {
      "text/latex": [
       "$\\displaystyle \\left(x - 1\\right)^{3} \\left(2 x + 6\\right) + 3 \\left(x - 1\\right)^{2} \\left(x + 3\\right)^{2}$"
      ],
      "text/plain": [
       "(x - 1)**3*(2*x + 6) + 3*(x - 1)**2*(x + 3)**2"
      ]
     },
     "execution_count": 13,
     "metadata": {},
     "output_type": "execute_result"
    }
   ],
   "source": [
    "x = sy.Symbol('x')\n",
    "f =((x+3)**2) * ((x-1)**3)\n",
    "sy.diff(f,x,1)\n",
    "#sy.diff(f,x,2)"
   ]
  },
  {
   "cell_type": "code",
   "execution_count": 7,
   "metadata": {},
   "outputs": [
    {
     "data": {
      "text/plain": [
       "Text(0, 0.5, '$f(x)$')"
      ]
     },
     "execution_count": 7,
     "metadata": {},
     "output_type": "execute_result"
    },
    {
     "data": {
      "image/png": "[encoded data removed]",
      "text/plain": [
       "<Figure size 576x432 with 1 Axes>"
      ]
     },
     "metadata": {
      "needs_background": "light"
     },
     "output_type": "display_data"
    }
   ],
   "source": [
    "def f(x):\n",
    "    return 2*(x-1)*((x-1)**2 + 6*(x-1)*(x+3)+3*(x+3)**2)\n",
    "\n",
    "fig, ax = plt.subplots(figsize=(8,6))\n",
    "x = np.linspace(-4, 4, 10000)\n",
    "#x = np.arange(-100.,100.,0.1)\n",
    "ax.plot(x, f(x), lw=2)\n",
    "ax.fill_between(x, f(x), color='green', alpha=0.5)\n",
    "ax.set_xlabel(\"$x$\", fontsize=18)\n",
    "ax.set_ylabel(\"$f(x)$\", fontsize=18)\n",
    "#ax.set_ylim(0, 25)\n",
    "#plt.show()"
   ]
  },
  {
   "cell_type": "code",
   "execution_count": 101,
   "metadata": {},
   "outputs": [
    {
     "data": {
      "text/latex": [
       "$\\displaystyle \\frac{0.37037037037037}{x^{2.66666666666667}}$"
      ],
      "text/plain": [
       "0.37037037037037*x**(-2.66666666666667)"
      ]
     },
     "execution_count": 101,
     "metadata": {},
     "output_type": "execute_result"
    }
   ],
   "source": [
    "x = sy.Symbol('x')\n",
    "f = x**(1/3)\n",
    "sy.diff(f,x,3)"
   ]
  },
  {
   "cell_type": "code",
   "execution_count": 105,
   "metadata": {},
   "outputs": [
    {
     "data": {
      "text/plain": [
       "Text(0, 0.5, '$f(x)$')"
      ]
     },
     "execution_count": 105,
     "metadata": {},
     "output_type": "execute_result"
    },
    {
     "data": {
      "image/png": "[encoded data removed]",
      "text/plain": [
       "<Figure size 576x432 with 1 Axes>"
      ]
     },
     "metadata": {
      "needs_background": "light"
     },
     "output_type": "display_data"
    }
   ],
   "source": [
    "def f(x):\n",
    "    return  x**3\n",
    "\n",
    "fig, ax = plt.subplots(figsize=(8,6))\n",
    "x = np.linspace(0,10, 10000)\n",
    "#x = np.arange(-1,100.,0.1)\n",
    "ax.plot(x, f(x), lw=2)\n",
    "ax.fill_between(x, f(x), color='green', alpha=0.5)\n",
    "ax.set_xlabel(\"$x$\", fontsize=18)\n",
    "ax.set_ylabel(\"$f(x)$\", fontsize=18)\n",
    "#ax.set_ylim(-0.1, 0)\n",
    "#plt.show()"
   ]
  },
  {
   "cell_type": "code",
   "execution_count": 4,
   "metadata": {},
   "outputs": [
    {
     "data": {
      "text/latex": [
       "$\\displaystyle y e^{x y}$"
      ],
      "text/plain": [
       "y*exp(x*y)"
      ]
     },
     "execution_count": 4,
     "metadata": {},
     "output_type": "execute_result"
    }
   ],
   "source": [
    "#二元函数偏导数\n",
    "x,y = sy.symbols('x y')\n",
    "f = sy.E**(x*y)\n",
    "fx = sy.diff(f,x)\n",
    "sy.diff(fx,x)"
   ]
  },
  {
   "cell_type": "code",
   "execution_count": 7,
   "metadata": {},
   "outputs": [
    {
     "data": {
      "image/png": "[encoded data removed]",
      "text/latex": [
       "$\\displaystyle x^{3} y^{2} \\left(x^{3} y^{3} z^{3} + 14 x^{2} y^{2} z^{2} + 52 x y z + 48\\right) e^{x y z}$"
      ],
      "text/plain": [
       " 3  2 ⎛ 3  3  3       2  2  2                ⎞  x⋅y⋅z\n",
       "x ⋅y ⋅⎝x ⋅y ⋅z  + 14⋅x ⋅y ⋅z  + 52⋅x⋅y⋅z + 48⎠⋅ℯ     "
      ]
     },
     "execution_count": 7,
     "metadata": {},
     "output_type": "execute_result"
    }
   ],
   "source": [
    "#求多阶偏导数\n",
    "#from IPython.display import display, Latex\n",
    "import sympy as sy\n",
    "x, y, z = sy.symbols('x y z')\n",
    "\n",
    "f1 = sy.exp(x*y*z)\n",
    "sy.diff(f1,x,y,2,z,4)"
   ]
  },
  {
   "cell_type": "markdown",
   "metadata": {},
   "source": [
    "求不定积分"
   ]
  },
  {
   "cell_type": "code",
   "execution_count": 67,
   "metadata": {},
   "outputs": [
    {
     "data": {
      "text/latex": [
       "$\\displaystyle \\log{\\left(x \\right)}$"
      ],
      "text/plain": [
       "log(x)"
      ]
     },
     "execution_count": 67,
     "metadata": {},
     "output_type": "execute_result"
    }
   ],
   "source": [
    "x = sy.symbols('x')\n",
    "sy.integrate(1/x,x)"
   ]
  },
  {
   "cell_type": "markdown",
   "metadata": {},
   "source": [
    "求定积分"
   ]
  },
  {
   "cell_type": "markdown",
   "metadata": {},
   "source": [
    "下面的例子，显示了如何求定积分，注意，sympy.Integral对象调用doit()方法求出的依然是sympy symbols expression，不是具体的数值，可以继续调用evalf()方法来求出其数值（如果可以的话）："
   ]
  },
  {
   "cell_type": "code",
   "execution_count": 15,
   "metadata": {},
   "outputs": [
    {
     "data": {
      "image/png": "[encoded data removed]",
      "text/latex": [
       "$\\displaystyle 0.494679123311691$"
      ],
      "text/plain": [
       "0.494679123311691"
      ]
     },
     "execution_count": 15,
     "metadata": {},
     "output_type": "execute_result"
    }
   ],
   "source": [
    "from IPython.display import display, Latex\n",
    "import sympy as sy\n",
    "x, y, z = sy.symbols('x y z', real=True)\n",
    "#sy.init_printing(use_unicode=True)\n",
    "\n",
    "f1 = sy.cos(2*x)\n",
    "\n",
    "#int1 = sy.Integral(f1,(x, 0, 4))\n",
    "#display(Latex(f\"$${sy.latex(int1)}={sy.latex(int1.doit())}={sy.latex(sy.integrate(f1,(x,0,4)))}={int1.doit().evalf()}$$\"))\n",
    "sy.integrate(f1,(x,0,4)).evalf()"
   ]
  },
  {
   "cell_type": "markdown",
   "metadata": {},
   "source": [
    "注意：由于sympy还是有一定的局限性，有些积分不一定求出来，这时候执行doit()不会报错，只是得不出结果。\n",
    "对于多重积分，同样可以计算，参看下面的例子："
   ]
  },
  {
   "cell_type": "code",
   "execution_count": 14,
   "metadata": {},
   "outputs": [
    {
     "data": {
      "image/png": "[encoded data removed]",
      "text/latex": [
       "$\\displaystyle 3.14159265358979$"
      ],
      "text/plain": [
       "3.14159265358979"
      ]
     },
     "execution_count": 14,
     "metadata": {},
     "output_type": "execute_result"
    }
   ],
   "source": [
    "from IPython.display import display, Latex\n",
    "import sympy as sy\n",
    "x, y, z = sy.symbols('x y z', real=True)\n",
    "#sy.init_printing(use_unicode=True)\n",
    "\n",
    "f1 = sy.exp(-x**2 - y**2)\n",
    "\n",
    "#int1 = sy.Integral(f1,(x, -sy.oo, sy.oo), (y, -sy.oo, sy.oo)) #二重积分\n",
    "#display(Latex(f\"$${sy.latex(int1)}={sy.latex(int1.doit())}$$\"))\n",
    "#print(f\"{sy.latex(int1)}={sy.latex(int1.doit())}\")\n",
    "sy.integrate(f1,(x, -sy.oo, sy.oo), (y, -sy.oo, sy.oo)).evalf()\n"
   ]
  },
  {
   "cell_type": "code",
   "execution_count": null,
   "metadata": {},
   "outputs": [],
   "source": []
  }
 ],
 "metadata": {
  "kernelspec": {
   "display_name": "Python 3",
   "language": "python",
   "name": "python3"
  },
  "language_info": {
   "codemirror_mode": {
    "name": "ipython",
    "version": 3
   },
   "file_extension": ".py",
   "mimetype": "text/x-python",
   "name": "python",
   "nbconvert_exporter": "python",
   "pygments_lexer": "ipython3",
   "version": "3.7.4"
  }
 },
 "nbformat": 4,
 "nbformat_minor": 2
}
