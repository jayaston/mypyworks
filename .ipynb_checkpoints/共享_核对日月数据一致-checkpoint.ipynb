{
 "cells": [
  {
   "cell_type": "markdown",
   "metadata": {},
   "source": [
    "# 核对日月数据一致"
   ]
  },
  {
   "cell_type": "markdown",
   "metadata": {},
   "source": [
    "在下面输入核对月开始时间和结束时间,并点击单元格——运行所有"
   ]
  },
  {
   "cell_type": "code",
   "execution_count": null,
   "metadata": {},
   "outputs": [],
   "source": [
    "startd = input('请输入月份开始日期（年四位月日两位）')\n",
    "endd  = input('请输入月份结束日期（年四位月日两位）')"
   ]
  },
  {
   "cell_type": "markdown",
   "metadata": {},
   "source": [
    "开始核对数据，并将结果文件输出到“输出/水厂日月数据差异”文件夹下。"
   ]
  },
  {
   "cell_type": "code",
   "execution_count": null,
   "metadata": {},
   "outputs": [],
   "source": [
    "import sys\n",
    "sys.path.append('./StatLedger/module')\n",
    "import os\n",
    "os.environ['NLS_LANG'] = 'SIMPLIFIED CHINESE_CHINA.UTF8'\n",
    "import LeiJiJiSuan as lj\n",
    "import tjfxdata as tjfx\n",
    "import pandas as pd\n",
    "import numpy as np\n",
    "\n",
    "shuju_leiji = lj.leijijisuan(startd,endd)\n",
    "shuju_df_m = tjfx.TjfxData().getdata(startd,endd).query(\"RECORD_TYPE=='m'\")\n",
    "shuju_hedui = pd.merge(shuju_df_m,shuju_leiji,how='left',on=['QUOTA_DEPT_CODE','QUOTA_CODE'],suffixes=('_m', '_d'))\n",
    "shuju_hedui['QUOTA_VALUE_m'] = pd.to_numeric(shuju_hedui['QUOTA_VALUE_m'],errors='coercs').fillna(0)\n",
    "shuju_hedui.eval('diff=QUOTA_VALUE_m-QUOTA_VALUE_d',inplace = True)\n",
    "shuju_hedui['diff'] = pd.to_numeric(shuju_hedui['diff'],errors='coercs').fillna(0)\n",
    "\n",
    "shuju_hedui.info()\n",
    "#result = shuju_hedui.query(\"QUOTA_DEPT_CODE == '1016'\")\n",
    "\n",
    "shuju_hedui_filter = shuju_hedui.query('abs(diff)>0.01')\\\n",
    "[['QUOTA_DATE','QUOTA_DEPT_CODE','QUOTA_CODE','GROUP_NAME_m','QUOTA_NAME_m','QUOTA_VALUE_m','QUOTA_VALUE_d','diff']]\n",
    "#过滤不显示的指标\n",
    "shuju_hedui_filter = shuju_hedui_filter[~ shuju_hedui_filter['QUOTA_NAME_m'].str.contains(r'\\w单价$|送水泵组平均压力')]\n",
    "\n",
    "\n",
    "#shuju_hedui.to_excel(r'C:\\Users\\XieJie\\Desktop\\水厂日月数据核对'+startd+'.xls')\n",
    "shuju_hedui_filter.to_excel('./输出/水厂日月数据差异/水厂日月数据差异'+startd+'.xls')\n"
   ]
  }
 ],
 "metadata": {
  "kernelspec": {
   "display_name": "Python 3",
   "language": "python",
   "name": "python3"
  },
  "language_info": {
   "codemirror_mode": {
    "name": "ipython",
    "version": 3
   },
   "file_extension": ".py",
   "mimetype": "text/x-python",
   "name": "python",
   "nbconvert_exporter": "python",
   "pygments_lexer": "ipython3",
   "version": "3.7.3"
  }
 },
 "nbformat": 4,
 "nbformat_minor": 2
}
