{
 "cells": [
  {
   "cell_type": "code",
   "execution_count": 1,
   "metadata": {},
   "outputs": [],
   "source": [
    "#调用常用模块\n",
    "import pandas as pd\n",
    "import numpy as np"
   ]
  },
  {
   "cell_type": "code",
   "execution_count": 2,
   "metadata": {},
   "outputs": [],
   "source": [
    "#读取excel数据\n",
    "meter_2019 = pd.DataFrame()\n",
    "for i in range(7):    \n",
    "    df = pd.read_excel(r'e:\\专题工作（重要）\\专题分析栏目\\2020远传表\\智能小表发单水量\\2019年1-7月智能小表发单水量.xls',sheet_name = i,usecols=[1,3,4])\n",
    "    meter_2019 = pd.concat([meter_2019,df],ignore_index=1)\n",
    "\n",
    "meter_2020 = pd.DataFrame()\n",
    "for i in range(6):    \n",
    "    df = pd.read_excel(r'e:\\专题工作（重要）\\专题分析栏目\\2020远传表\\智能小表发单水量\\2020年1-6月智能小表发单水量.xls',sheet_name = i,usecols=[1,3,4])\n",
    "    meter_2020 = pd.concat([meter_2020,df],ignore_index=1)  \n",
    "\n",
    "df = pd.read_excel(r'e:\\专题工作（重要）\\专题分析栏目\\2020远传表\\智能小表发单水量\\2020年7月智能小表发单水量.xls',sheet_name = 0,usecols=[1,3,4])\n",
    "meter_2020 = pd.concat([meter_2020,df],ignore_index=1)  "
   ]
  },
  {
   "cell_type": "code",
   "execution_count": 3,
   "metadata": {},
   "outputs": [],
   "source": [
    "meter_2019_2020 = pd.concat([meter_2019,meter_2020],ignore_index=1).rename(columns = {'USER_NO':'用户编号','MON':'月份','SL':'水量'})"
   ]
  },
  {
   "cell_type": "code",
   "execution_count": 7,
   "metadata": {},
   "outputs": [],
   "source": [
    "#按月汇总水量数据\n",
    "meter = meter_2019_2020.groupby('月份').agg({'用户编号': pd.Series.nunique,'水量':sum})"
   ]
  },
  {
   "cell_type": "code",
   "execution_count": 9,
   "metadata": {},
   "outputs": [],
   "source": [
    "meter.to_excel(r'e:\\专题工作（重要）\\专题分析栏目\\2020远传表\\智能小表发单水量\\1-7月各月智能小表户数水量.xls')"
   ]
  },
  {
   "cell_type": "code",
   "execution_count": 8,
   "metadata": {},
   "outputs": [
    {
     "data": {
      "text/html": [
       "<div>\n",
       "<style scoped>\n",
       "    .dataframe tbody tr th:only-of-type {\n",
       "        vertical-align: middle;\n",
       "    }\n",
       "\n",
       "    .dataframe tbody tr th {\n",
       "        vertical-align: top;\n",
       "    }\n",
       "\n",
       "    .dataframe thead th {\n",
       "        text-align: right;\n",
       "    }\n",
       "</style>\n",
       "<table border=\"1\" class=\"dataframe\">\n",
       "  <thead>\n",
       "    <tr style=\"text-align: right;\">\n",
       "      <th></th>\n",
       "      <th>用户编号</th>\n",
       "      <th>水量</th>\n",
       "    </tr>\n",
       "    <tr>\n",
       "      <th>月份</th>\n",
       "      <th></th>\n",
       "      <th></th>\n",
       "    </tr>\n",
       "  </thead>\n",
       "  <tbody>\n",
       "    <tr>\n",
       "      <th>201901</th>\n",
       "      <td>51628</td>\n",
       "      <td>1390144</td>\n",
       "    </tr>\n",
       "    <tr>\n",
       "      <th>201902</th>\n",
       "      <td>67288</td>\n",
       "      <td>1865057</td>\n",
       "    </tr>\n",
       "    <tr>\n",
       "      <th>201903</th>\n",
       "      <td>51572</td>\n",
       "      <td>1312461</td>\n",
       "    </tr>\n",
       "    <tr>\n",
       "      <th>201904</th>\n",
       "      <td>67251</td>\n",
       "      <td>1805899</td>\n",
       "    </tr>\n",
       "    <tr>\n",
       "      <th>201905</th>\n",
       "      <td>51744</td>\n",
       "      <td>1442716</td>\n",
       "    </tr>\n",
       "    <tr>\n",
       "      <th>201906</th>\n",
       "      <td>67609</td>\n",
       "      <td>2042314</td>\n",
       "    </tr>\n",
       "    <tr>\n",
       "      <th>201907</th>\n",
       "      <td>51780</td>\n",
       "      <td>1508451</td>\n",
       "    </tr>\n",
       "    <tr>\n",
       "      <th>202001</th>\n",
       "      <td>55667</td>\n",
       "      <td>1457379</td>\n",
       "    </tr>\n",
       "    <tr>\n",
       "      <th>202002</th>\n",
       "      <td>67274</td>\n",
       "      <td>1930729</td>\n",
       "    </tr>\n",
       "    <tr>\n",
       "      <th>202003</th>\n",
       "      <td>53995</td>\n",
       "      <td>1562686</td>\n",
       "    </tr>\n",
       "    <tr>\n",
       "      <th>202004</th>\n",
       "      <td>65117</td>\n",
       "      <td>1977450</td>\n",
       "    </tr>\n",
       "    <tr>\n",
       "      <th>202005</th>\n",
       "      <td>54202</td>\n",
       "      <td>1614034</td>\n",
       "    </tr>\n",
       "    <tr>\n",
       "      <th>202006</th>\n",
       "      <td>68083</td>\n",
       "      <td>2084797</td>\n",
       "    </tr>\n",
       "    <tr>\n",
       "      <th>202007</th>\n",
       "      <td>54965</td>\n",
       "      <td>1629808</td>\n",
       "    </tr>\n",
       "  </tbody>\n",
       "</table>\n",
       "</div>"
      ],
      "text/plain": [
       "         用户编号       水量\n",
       "月份                    \n",
       "201901  51628  1390144\n",
       "201902  67288  1865057\n",
       "201903  51572  1312461\n",
       "201904  67251  1805899\n",
       "201905  51744  1442716\n",
       "201906  67609  2042314\n",
       "201907  51780  1508451\n",
       "202001  55667  1457379\n",
       "202002  67274  1930729\n",
       "202003  53995  1562686\n",
       "202004  65117  1977450\n",
       "202005  54202  1614034\n",
       "202006  68083  2084797\n",
       "202007  54965  1629808"
      ]
     },
     "execution_count": 8,
     "metadata": {},
     "output_type": "execute_result"
    }
   ],
   "source": [
    "meter"
   ]
  },
  {
   "cell_type": "code",
   "execution_count": null,
   "metadata": {},
   "outputs": [],
   "source": []
  }
 ],
 "metadata": {
  "kernelspec": {
   "display_name": "Python 3",
   "language": "python",
   "name": "python3"
  },
  "language_info": {
   "codemirror_mode": {
    "name": "ipython",
    "version": 3
   },
   "file_extension": ".py",
   "mimetype": "text/x-python",
   "name": "python",
   "nbconvert_exporter": "python",
   "pygments_lexer": "ipython3",
   "version": "3.7.7"
  }
 },
 "nbformat": 4,
 "nbformat_minor": 4
}
